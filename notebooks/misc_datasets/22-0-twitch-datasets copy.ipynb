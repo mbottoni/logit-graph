{
 "cells": [
  {
   "cell_type": "code",
   "execution_count": 1,
   "metadata": {},
   "outputs": [],
   "source": [
    "%load_ext autoreload\n",
    "%autoreload 2"
   ]
  },
  {
   "cell_type": "markdown",
   "metadata": {},
   "source": [
    "here the objective is to fit the logit graph model to multiple different graph domains and then visualize the original vs fitted graphs"
   ]
  },
  {
   "cell_type": "code",
   "execution_count": 2,
   "metadata": {},
   "outputs": [],
   "source": [
    "\n",
    "import sys\n",
    "import os\n",
    "\n",
    "#Graph imports\n",
    "sys.path.append('../..')\n",
    "import src.logit_graph.graph as graph\n",
    "import src.logit_graph.logit_estimator as estimator\n",
    "import src.logit_graph.utils as utils\n",
    "import src.logit_graph.model_selection as model_selection\n",
    "import src.logit_graph.gic as gic\n",
    "import src.logit_graph.param_estimator as pe\n",
    "import src.logit_graph.graph as graph\n",
    "import src.logit_graph.model_selection as ms\n",
    "\n",
    "from src.logit_graph.simulation import LogitGraphFitter, GraphModelComparator\n",
    "\n",
    "# usual imports\n",
    "import matplotlib.pyplot as plt\n",
    "import pickle\n",
    "import math\n",
    "import matplotlib.pyplot as plt\n",
    "from scipy import stats\n",
    "from scipy.stats import gaussian_kde\n",
    "import numpy as np\n",
    "import pandas as pd\n",
    "import seaborn as sns\n",
    "import gc\n",
    "import random\n",
    "import networkx as nx\n",
    "from numpy import errstate\n",
    "\n",
    "from IPython.display import display\n",
    "from pyvis.network import Network\n",
    "from mpl_toolkits.axes_grid1 import make_axes_locatable\n"
   ]
  },
  {
   "cell_type": "code",
   "execution_count": 3,
   "metadata": {},
   "outputs": [
    {
     "data": {
      "text/plain": [
       "['RU',\n",
       " 'ENGB',\n",
       " 'citing.txt',\n",
       " 'PTBR',\n",
       " 'DE',\n",
       " 'README.txt',\n",
       " 'FR',\n",
       " 'ES',\n",
       " 'graphs_processed']"
      ]
     },
     "execution_count": 3,
     "metadata": {},
     "output_type": "execute_result"
    }
   ],
   "source": [
    "data_directory = f'../../data/twitch/'\n",
    "os.listdir(data_directory)"
   ]
  },
  {
   "cell_type": "code",
   "execution_count": 4,
   "metadata": {},
   "outputs": [
    {
     "name": "stdout",
     "output_type": "stream",
     "text": [
      "../../data/twitch/RU/musae_RU_edges.csv\n",
      "../../data/twitch/ENGB/musae_ENGB_edges.csv\n",
      "../../data/twitch/PTBR/musae_PTBR_edges.csv\n",
      "../../data/twitch/DE/musae_DE_edges.csv\n",
      "../../data/twitch/FR/musae_FR_edges.csv\n",
      "../../data/twitch/ES/musae_ES_edges.csv\n",
      "../../data/twitch/graphs_processed/musae_graphs_processed_edges.csv\n"
     ]
    }
   ],
   "source": [
    "# Load the graph data from each country's edge list\n",
    "import networkx as nx\n",
    "import pandas as pd\n",
    "\n",
    "# Dictionary to store graphs for each country\n",
    "edges_data = {}\n",
    "\n",
    "# Load edge lists from each country's CSV file\n",
    "for folder in os.listdir(data_directory):\n",
    "    if folder.endswith('.txt') or folder == 'citing.txt':\n",
    "        continue\n",
    "    edges_path = os.path.join(os.path.join(data_directory, folder), f'musae_{folder}_edges.csv')\n",
    "    print(edges_path)\n",
    "    if os.path.exists(edges_path):\n",
    "        # Read edges CSV file\n",
    "        edges_df = pd.read_csv(edges_path)\n",
    "        # Convert edges to list of tuples\n",
    "        edges = list(zip(edges_df['from'], edges_df['to']))\n",
    "        edges_data[folder] = edges\n"
   ]
  },
  {
   "cell_type": "code",
   "execution_count": 5,
   "metadata": {},
   "outputs": [
    {
     "name": "stdout",
     "output_type": "stream",
     "text": [
      "Number of nodes: 4385, Number of edges: 37304 , Country: RU\n",
      "Number of nodes: 7126, Number of edges: 35324 , Country: ENGB\n",
      "Number of nodes: 1912, Number of edges: 31299 , Country: PTBR\n",
      "Number of nodes: 9498, Number of edges: 153138 , Country: DE\n",
      "Number of nodes: 6549, Number of edges: 112666 , Country: FR\n",
      "Number of nodes: 4648, Number of edges: 59382 , Country: ES\n",
      "Graph with 4385 nodes and 37304 edges\n"
     ]
    }
   ],
   "source": [
    "# Convert edge lists to networkx graphs\n",
    "graph_data = {}\n",
    "for country, edges in edges_data.items():\n",
    "    # Create empty graph\n",
    "    G = nx.Graph()\n",
    "    # Add edges from the edge list\n",
    "    G.add_edges_from(edges)\n",
    "    # Store in dictionary\n",
    "    graph_data[country] = G\n",
    "    print(f'Number of nodes: {G.number_of_nodes()}, Number of edges: {G.number_of_edges()} , Country: {country}')\n",
    "\n",
    "# Print first graph as verification\n",
    "print(next(iter(graph_data.values())))\n"
   ]
  },
  {
   "cell_type": "code",
   "execution_count": 6,
   "metadata": {},
   "outputs": [
    {
     "name": "stdout",
     "output_type": "stream",
     "text": [
      "Saved graph for RU to ../../data/twitch/graphs_processed/RU_graph.edges\n",
      "Saved graph for ENGB to ../../data/twitch/graphs_processed/ENGB_graph.edges\n",
      "Saved graph for PTBR to ../../data/twitch/graphs_processed/PTBR_graph.edges\n",
      "Saved graph for DE to ../../data/twitch/graphs_processed/DE_graph.edges\n",
      "Saved graph for FR to ../../data/twitch/graphs_processed/FR_graph.edges\n",
      "Saved graph for ES to ../../data/twitch/graphs_processed/ES_graph.edges\n"
     ]
    }
   ],
   "source": [
    "graphs_processed_dir = os.path.join(data_directory, 'graphs_processed')\n",
    "os.makedirs(graphs_processed_dir, exist_ok=True)\n",
    "for country, G in graph_data.items():\n",
    "    output_path = os.path.join(graphs_processed_dir, f'{country}_graph.edges')\n",
    "    edge_list = list(G.edges())\n",
    "    with open(output_path, 'w') as f:\n",
    "        for edge in edge_list:\n",
    "            f.write(f'{edge[0]} {edge[1]}\\n')\n",
    "    \n",
    "    print(f'Saved graph for {country} to {output_path}')\n"
   ]
  },
  {
   "cell_type": "code",
   "execution_count": null,
   "metadata": {},
   "outputs": [],
   "source": []
  },
  {
   "cell_type": "markdown",
   "metadata": {},
   "source": [
    "### Fitting single graph\n",
    "\n",
    "Loading the different graphs into a networkx graph"
   ]
  },
  {
   "cell_type": "code",
   "execution_count": null,
   "metadata": {},
   "outputs": [],
   "source": [
    "# Let's proceed with the first loaded graph if available\n",
    "if not graphs:\n",
    "    print(\"\\nNo graphs were loaded. Exiting example.\")\n",
    "    exit()\n",
    "\n",
    "target_graph = graphs[1]\n",
    "target_filepath = graph_filepaths[target_graph]\n",
    "\n",
    "# For a single fit, you need to specify a single `d`\n",
    "fitter_params = {\n",
    "    \"d\": 0,\n",
    "    \"n_iteration\": 8000,\n",
    "    \"patience\": 10,\n",
    "    \"er_p\": 0.05,\n",
    "    \"edge_delta\": 50,\n",
    "    \"min_gic_threshold\": 0.1,\n",
    "    \"verbose\": True\n",
    "}\n",
    "\n",
    "# Initialize the fitter with the parameters\n",
    "\n",
    "lg_fitter = LogitGraphFitter(**fitter_params)\n",
    "lg_fitter.fit(target_graph)\n"
   ]
  },
  {
   "cell_type": "code",
   "execution_count": null,
   "metadata": {},
   "outputs": [],
   "source": [
    "# Log the gic also with the spectrum digg and edges\n",
    "plt.plot(lg_fitter.metadata['gic_values'])"
   ]
  },
  {
   "cell_type": "code",
   "execution_count": null,
   "metadata": {},
   "outputs": [],
   "source": [
    "def compare_graphs_visually(original_graph, fitted_graph, metadata=None, figsize=(16, 8), node_size=50, edge_width=0.6):\n",
    "    \"\"\"\n",
    "    Generates a side-by-side plot of the original and fitted graphs.\n",
    "\n",
    "    Args:\n",
    "        original_graph (nx.Graph): The original graph.\n",
    "        fitted_graph (nx.Graph): The fitted graph (can be None if fitting failed).\n",
    "        metadata (dict, optional): Fitting metadata to display in titles.\n",
    "        figsize (tuple): The size of the matplotlib figure.\n",
    "        node_size (int): The size of the nodes in the plot.\n",
    "        edge_width (float): The width of the edges in the plot.\n",
    "\n",
    "    Returns:\n",
    "        matplotlib.figure.Figure: The figure object for the plot.\n",
    "    \"\"\"\n",
    "    fig, axes = plt.subplots(1, 2, figsize=figsize)\n",
    "    \n",
    "    # Define colors and use a consistent layout for better comparison\n",
    "    original_node_color = '#4472C4'\n",
    "    fitted_node_color = '#E74C3C'\n",
    "    edge_color = '#8B8B8B'\n",
    "    \n",
    "    # Calculate layout for original graph\n",
    "    pos_orig = nx.spring_layout(original_graph, k=1, iterations=50, seed=42)\n",
    "    \n",
    "    # 1. Plot Original Graph\n",
    "    ax_orig = axes[0]\n",
    "    stats_orig = f\"{original_graph.number_of_nodes()} nodes, {original_graph.number_of_edges()} edges\"\n",
    "    nx.draw_networkx_edges(original_graph, pos_orig, ax=ax_orig, edge_color=edge_color, width=edge_width, alpha=0.7)\n",
    "    nx.draw_networkx_nodes(original_graph, pos_orig, ax=ax_orig, node_color=original_node_color, node_size=node_size, alpha=0.9)\n",
    "    ax_orig.set_title(f'Original Graph\\n({stats_orig})', fontweight='bold', pad=10)\n",
    "    ax_orig.axis('off')\n",
    "\n",
    "    # 2. Plot Fitted Graph\n",
    "    ax_fitted = axes[1]\n",
    "    title = 'Fitted Logit Graph'\n",
    "    if fitted_graph and metadata and metadata.get('fit_success'):\n",
    "        stats_fitted = f\"{fitted_graph.number_of_nodes()} nodes, {fitted_graph.number_of_edges()} edges\"\n",
    "        gic_val = metadata.get('gic_value', 'N/A')\n",
    "        gic_text = f\"GIC: {gic_val:.4f}\" if isinstance(gic_val, (int, float)) else f\"GIC: {gic_val}\"\n",
    "        title = f'{title}\\n({stats_fitted})\\n{gic_text}'\n",
    "        \n",
    "        # Calculate separate layout for fitted graph to avoid position mismatch\n",
    "        pos_fitted = nx.spring_layout(fitted_graph, k=1, iterations=50, seed=42)\n",
    "        \n",
    "        nx.draw_networkx_edges(fitted_graph, pos_fitted, ax=ax_fitted, edge_color=edge_color, width=edge_width, alpha=0.7)\n",
    "        nx.draw_networkx_nodes(fitted_graph, pos_fitted, ax=ax_fitted, node_color=fitted_node_color, node_size=node_size, alpha=0.9)\n",
    "    else:\n",
    "        title = f'{title}\\n(Fitting Failed)'\n",
    "        ax_fitted.text(0.5, 0.5, 'Fitting Failed', horizontalalignment='center', verticalalignment='center', transform=ax_fitted.transAxes, fontsize=14, color='red')\n",
    "\n",
    "    ax_fitted.set_title(title, fontweight='bold', pad=10)\n",
    "    ax_fitted.axis('off')\n",
    "    \n",
    "    fig.suptitle('Original vs. Fitted Graph Comparison', fontsize=16, fontweight='bold')\n",
    "    plt.tight_layout(rect=[0, 0, 1, 0.95])\n",
    "    \n",
    "    return fig\n",
    "\n",
    "\n",
    "# 5. Visualize the results\n",
    "if lg_fitter.metadata['fit_success']:\n",
    "    comparison_figure = compare_graphs_visually(target_graph, lg_fitter.fitted_graph, lg_fitter.metadata)\n",
    "    plt.show()\n",
    "else:\n",
    "    print(\"Fitting failed. No visualization available.\")\n"
   ]
  },
  {
   "cell_type": "code",
   "execution_count": null,
   "metadata": {},
   "outputs": [],
   "source": [
    "# Let's proceed with the first loaded graph if available\n",
    "if not graphs:\n",
    "    print(\"\\nNo graphs were loaded. Exiting example.\")\n",
    "    exit()\n",
    "\n",
    "target_graph = graphs[2]\n",
    "target_filepath = graph_filepaths[target_graph]\n",
    "\n",
    "# For a single fit, you need to specify a single `d`\n",
    "sim_params = {\n",
    "    \"d_list\": [0, 1, 2],\n",
    "    \"lg_params\": {\n",
    "        \"max_iterations\": 8000,\n",
    "        \"patience\": 10,\n",
    "        \"gic_dist_type\": 'KL',\n",
    "        \"er_p\": 0.05,\n",
    "        \"min_gic_threshold\": 0.1,\n",
    "        \"edge_delta\": 50,\n",
    "        \"verbose\": True,\n",
    "    },\n",
    "    \"other_model_n_runs\": 5,\n",
    "    \"other_model_params\": [\n",
    "        {'lo': 0.01, 'hi': 0.2},  # ER (probability)\n",
    "        {'k': {'lo': 2, 'hi': 3, 'step': 1}, 'p': {'lo': 0.01, 'hi': 0.2}},  # WS\n",
    "        {'lo': 1, 'hi': 3},      # GRG (alpha)\n",
    "        {'lo': 3, 'hi': 5},     # BA (m)\n",
    "    ],\n",
    "    \"verbose\": True,\n",
    "}\n",
    "\n",
    "\n",
    "\n",
    "# Initialize the fitter with the parameters\n",
    "\n",
    "comparator = GraphModelComparator(**sim_params)\n",
    "comparator.compare(target_graph, target_filepath)\n"
   ]
  },
  {
   "cell_type": "code",
   "execution_count": null,
   "metadata": {},
   "outputs": [],
   "source": [
    "comparator.summary_df"
   ]
  },
  {
   "cell_type": "code",
   "execution_count": null,
   "metadata": {},
   "outputs": [],
   "source": []
  },
  {
   "cell_type": "code",
   "execution_count": null,
   "metadata": {},
   "outputs": [],
   "source": []
  },
  {
   "cell_type": "code",
   "execution_count": null,
   "metadata": {},
   "outputs": [],
   "source": []
  },
  {
   "cell_type": "code",
   "execution_count": null,
   "metadata": {},
   "outputs": [],
   "source": []
  },
  {
   "cell_type": "markdown",
   "metadata": {},
   "source": [
    "### Comparison other models\n",
    "\n",
    "comparing multiple models"
   ]
  },
  {
   "cell_type": "code",
   "execution_count": 7,
   "metadata": {},
   "outputs": [
    {
     "data": {
      "text/plain": [
       "['../../data/twitch/graphs_processed/PTBR_graph.edges',\n",
       " '../../data/twitch/graphs_processed/RU_graph.edges',\n",
       " '../../data/twitch/graphs_processed/ES_graph.edges',\n",
       " '../../data/twitch/graphs_processed/FR_graph.edges',\n",
       " '../../data/twitch/graphs_processed/ENGB_graph.edges',\n",
       " '../../data/twitch/graphs_processed/DE_graph.edges']"
      ]
     },
     "execution_count": 7,
     "metadata": {},
     "output_type": "execute_result"
    }
   ],
   "source": [
    "graph_files = os.listdir(f'{data_directory}/graphs_processed')\n",
    "graph_files = [os.path.join(data_directory, 'graphs_processed', f) for f in graph_files]\n",
    "\n",
    "graph_files_with_sizes = []\n",
    "for graph_file in graph_files:\n",
    "    try:\n",
    "        g = nx.read_edgelist(graph_file, nodetype=int)\n",
    "        graph_files_with_sizes.append((graph_file, g.number_of_nodes()))\n",
    "    except:\n",
    "        graph_files_with_sizes.append((graph_file, 0))\n",
    "\n",
    "graph_files_with_sizes.sort(key=lambda x: x[1])\n",
    "graph_files = [f for f, _ in graph_files_with_sizes]\n",
    "graph_files"
   ]
  },
  {
   "cell_type": "code",
   "execution_count": 9,
   "metadata": {},
   "outputs": [],
   "source": [
    "sim_params = {\n",
    "    \"d_list\": [0, 1],\n",
    "    \"lg_params\": {\n",
    "        \"max_iterations\": 8000,\n",
    "        \"patience\": 10,\n",
    "        \"gic_dist_type\": 'KL',\n",
    "        \"er_p\": 0.01,\n",
    "        \"min_gic_threshold\": 0.1,\n",
    "        \"edge_delta\": 50,\n",
    "        \"verbose\": True,\n",
    "    },\n",
    "    \"other_model_n_runs\": 1,\n",
    "    \"other_model_grid_points\": 1,\n",
    "    \"other_models\": [\"ER\", \"WS\", \"BA\", \"GRG\"],\n",
    "    \"other_model_params\": [\n",
    "        {'lo': 0.01, 'hi': 0.2},  # ER (probability) \n",
    "        {'k': {'lo': 2, 'hi': 3, 'step': 1}, 'p': {'lo': 0.01, 'hi': 0.2}},  # WS\n",
    "        {'lo': 1, 'hi': 3},  # GRG (radius/alpha)\n",
    "        {'lo': 1, 'hi': 3},  # BA (m)\n",
    "    ],\n",
    "    \"verbose\": True,\n",
    "\n",
    "}"
   ]
  },
  {
   "cell_type": "code",
   "execution_count": null,
   "metadata": {},
   "outputs": [
    {
     "name": "stdout",
     "output_type": "stream",
     "text": [
      "Loading graph from: ../../data/twitch/graphs_processed/DE_graph.edges\n",
      "DE\n",
      "Number of nodes: 9498, Number of edges: 153138\n",
      "ER probability: 0.0016977133650810101\n",
      "\n",
      "============================== Processing Graph: DE_graph.edges ==============================\n",
      "\n",
      "--- Fitting Logit Graph (LG) model ---\n",
      "Running LG generation for d=0...\n"
     ]
    },
    {
     "data": {
      "application/vnd.jupyter.widget-view+json": {
       "model_id": "50a5f3ca27fb4f4f87f289f2e0638f5d",
       "version_major": 2,
       "version_minor": 0
      },
      "text/plain": [
       "🔄 Optimizing Graph:   0%|          | 0/10 [00:00<?, ?it/s] "
      ]
     },
     "metadata": {},
     "output_type": "display_data"
    },
    {
     "name": "stdout",
     "output_type": "stream",
     "text": [
      "⏰ Max iterations (10) reached. Stopping.\n",
      "\n",
      "🏁 Stopping Condition Met\n",
      "   📍 Reason: Max iterations (10) reached.\n",
      "   📈 Results Summary\n",
      "   🏆 Best iteration found: 9\n",
      "   📊 Best spectrum difference: 8170.9582\n",
      "   🔗 Edges in best graph: 76737 (Real graph edges: 153138)\n",
      "d=0: GIC=0.1855, sigma=-6.1496\n",
      "Running LG generation for d=1...\n"
     ]
    },
    {
     "data": {
      "application/vnd.jupyter.widget-view+json": {
       "model_id": "e7e924c26720413bb73c48dc2039ce8a",
       "version_major": 2,
       "version_minor": 0
      },
      "text/plain": [
       "🔄 Optimizing Graph:   0%|          | 0/10 [00:00<?, ?it/s] "
      ]
     },
     "metadata": {},
     "output_type": "display_data"
    },
    {
     "name": "stdout",
     "output_type": "stream",
     "text": [
      "⏰ Max iterations (10) reached. Stopping.\n",
      "\n",
      "🏁 Stopping Condition Met\n",
      "   📍 Reason: Max iterations (10) reached.\n",
      "   📈 Results Summary\n",
      "   🏆 Best iteration found: 9\n",
      "   📊 Best spectrum difference: 8164.1611\n",
      "   🔗 Edges in best graph: 77067 (Real graph edges: 153138)\n",
      "d=1: GIC=0.1843, sigma=-7.0523\n",
      "Best LG fit found with GIC: 0.1843\n",
      "\n",
      "--- Fitting other random graph models ---\n",
      "Testing the selected model for ER\n",
      "ER gic: 1.4908092867219833\n",
      "Testing the selected model for WS\n",
      "WS gic: 1.3490875100051447\n",
      "Testing the selected model for BA\n",
      "BA gic: 0.9720938975688622\n",
      "Testing the selected model for GRG\n",
      "GRG gic: 6.021175892450195\n",
      "BA fitting - GIC: 0.9721, Param: 1.0000\n",
      "WS fitting - GIC: 1.3491, Param: 20.0100\n",
      "ER fitting - GIC: 1.4908, Param: 0.0100\n"
     ]
    }
   ],
   "source": [
    "comparators = []\n",
    "folder_name = 'runs/fitted_graphs_comparison_twitch'\n",
    "os.makedirs(folder_name, exist_ok=True)\n",
    "\n",
    "for graph_file in graph_files[::-1]:\n",
    "    try:\n",
    "        print(f\"Loading graph from: {graph_file}\")\n",
    "        # check if the graph is already pprocessed\n",
    "        region = graph_file.split('/')[-1].split('.')[0].replace('_graph', '')\n",
    "        print(region)\n",
    "        if os.path.exists(f'{folder_name}/comparators_{region}_graph.pkl'):\n",
    "            print(f'Graph {region} already processed')\n",
    "            continue\n",
    "\n",
    "        original_graph = nx.read_edgelist(graph_file, nodetype=int)\n",
    "        print(f'Number of nodes: {original_graph.number_of_nodes()}, Number of edges: {original_graph.number_of_edges()}')\n",
    "\n",
    "        ########################\n",
    "        # Calculate ER probability based on graph density\n",
    "        n = original_graph.number_of_nodes()\n",
    "        m = original_graph.number_of_edges()\n",
    "        er_p = (2 * m) / (n * (n - 1))  # p = 2|E|/(|V|(|V|-1))\n",
    "        er_p = er_p / 2\n",
    "        print(f'ER probability: {er_p}')\n",
    "        sim_params['lg_params']['er_p'] = er_p\n",
    "        ########################\n",
    "        \n",
    "        n_iteration = 10\n",
    "        sim_params['lg_params']['max_iterations'] = n_iteration\n",
    "\n",
    "        # Run the comparison\n",
    "        comparator = GraphModelComparator(**sim_params)\n",
    "        comparator.compare(original_graph, graph_file)\n",
    "    except Exception as e:\n",
    "        print(f\"Error graph from {graph_file}: {e}\")\n",
    "        print(e)\n",
    "        continue\n",
    "\n",
    "    comparators.append(comparator)\n",
    "    import pickle\n",
    "    graph_name = graph_file.split('/')[-1].split('.')[0]\n",
    "    with open(f'{folder_name}/comparators_{graph_name}_sample.pkl', 'wb') as f:\n",
    "        pickle.dump(comparators, f)\n",
    "\n"
   ]
  },
  {
   "cell_type": "code",
   "execution_count": null,
   "metadata": {},
   "outputs": [],
   "source": []
  },
  {
   "cell_type": "code",
   "execution_count": null,
   "metadata": {},
   "outputs": [],
   "source": []
  },
  {
   "cell_type": "code",
   "execution_count": null,
   "metadata": {},
   "outputs": [],
   "source": []
  },
  {
   "cell_type": "code",
   "execution_count": null,
   "metadata": {},
   "outputs": [],
   "source": [
    "'finish'"
   ]
  },
  {
   "cell_type": "code",
   "execution_count": null,
   "metadata": {},
   "outputs": [],
   "source": []
  },
  {
   "cell_type": "code",
   "execution_count": null,
   "metadata": {},
   "outputs": [],
   "source": []
  },
  {
   "cell_type": "code",
   "execution_count": null,
   "metadata": {},
   "outputs": [],
   "source": []
  },
  {
   "cell_type": "code",
   "execution_count": null,
   "metadata": {},
   "outputs": [],
   "source": []
  },
  {
   "cell_type": "code",
   "execution_count": null,
   "metadata": {},
   "outputs": [],
   "source": []
  },
  {
   "cell_type": "code",
   "execution_count": null,
   "metadata": {},
   "outputs": [],
   "source": []
  }
 ],
 "metadata": {
  "kernelspec": {
   "display_name": "logit_graph",
   "language": "python",
   "name": "python3"
  },
  "language_info": {
   "codemirror_mode": {
    "name": "ipython",
    "version": 3
   },
   "file_extension": ".py",
   "mimetype": "text/x-python",
   "name": "python",
   "nbconvert_exporter": "python",
   "pygments_lexer": "ipython3",
   "version": "3.8.16"
  }
 },
 "nbformat": 4,
 "nbformat_minor": 2
}
