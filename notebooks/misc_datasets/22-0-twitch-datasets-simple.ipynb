{
 "cells": [
  {
   "cell_type": "code",
   "execution_count": 46,
   "metadata": {},
   "outputs": [
    {
     "name": "stdout",
     "output_type": "stream",
     "text": [
      "The autoreload extension is already loaded. To reload it, use:\n",
      "  %reload_ext autoreload\n"
     ]
    }
   ],
   "source": [
    "%load_ext autoreload\n",
    "%autoreload 2"
   ]
  },
  {
   "cell_type": "markdown",
   "metadata": {},
   "source": [
    "here the objective is to fit the logit graph model to multiple different graph domains and then visualize the original vs fitted graphs"
   ]
  },
  {
   "cell_type": "code",
   "execution_count": 47,
   "metadata": {},
   "outputs": [],
   "source": [
    "\n",
    "import sys\n",
    "import os\n",
    "\n",
    "#Graph imports\n",
    "sys.path.append('../..')\n",
    "import src.logit_graph.graph as graph\n",
    "import src.logit_graph.logit_estimator as estimator\n",
    "import src.logit_graph.utils as utils\n",
    "import src.logit_graph.model_selection as model_selection\n",
    "import src.logit_graph.gic as gic\n",
    "import src.logit_graph.param_estimator as pe\n",
    "import src.logit_graph.graph as graph\n",
    "import src.logit_graph.model_selection as ms\n",
    "\n",
    "from src.logit_graph.simulation import LogitGraphFitter, GraphModelComparator\n",
    "\n",
    "# usual imports\n",
    "import matplotlib.pyplot as plt\n",
    "import pickle\n",
    "import math\n",
    "import matplotlib.pyplot as plt\n",
    "from scipy import stats\n",
    "from scipy.stats import gaussian_kde\n",
    "import numpy as np\n",
    "import pandas as pd\n",
    "import seaborn as sns\n",
    "import gc\n",
    "import random\n",
    "import networkx as nx\n",
    "from numpy import errstate\n",
    "\n",
    "from IPython.display import display\n",
    "from pyvis.network import Network\n",
    "from mpl_toolkits.axes_grid1 import make_axes_locatable\n"
   ]
  },
  {
   "cell_type": "code",
   "execution_count": 48,
   "metadata": {},
   "outputs": [
    {
     "data": {
      "text/plain": [
       "['RU',\n",
       " 'ENGB',\n",
       " 'citing.txt',\n",
       " 'PTBR',\n",
       " 'DE',\n",
       " 'README.txt',\n",
       " 'FR',\n",
       " 'ES',\n",
       " 'graphs_processed']"
      ]
     },
     "execution_count": 48,
     "metadata": {},
     "output_type": "execute_result"
    }
   ],
   "source": [
    "data_directory = f'../../data/twitch/'\n",
    "os.listdir(data_directory)"
   ]
  },
  {
   "cell_type": "markdown",
   "metadata": {},
   "source": [
    "### Comparison other models\n",
    "\n",
    "comparing multiple models excluding the simulation of LG because it was alaready simulated"
   ]
  },
  {
   "cell_type": "code",
   "execution_count": 49,
   "metadata": {},
   "outputs": [
    {
     "data": {
      "text/plain": [
       "['../../data/twitch/graphs_processed/PTBR_graph.edges',\n",
       " '../../data/twitch/graphs_processed/RU_graph.edges',\n",
       " '../../data/twitch/graphs_processed/ES_graph.edges',\n",
       " '../../data/twitch/graphs_processed/FR_graph.edges',\n",
       " '../../data/twitch/graphs_processed/ENGB_graph.edges',\n",
       " '../../data/twitch/graphs_processed/DE_graph.edges']"
      ]
     },
     "execution_count": 49,
     "metadata": {},
     "output_type": "execute_result"
    }
   ],
   "source": [
    "graph_files = os.listdir(f'{data_directory}/graphs_processed')\n",
    "graph_files = [os.path.join(data_directory, 'graphs_processed', f) for f in graph_files]\n",
    "\n",
    "graph_files_with_sizes = []\n",
    "for graph_file in graph_files:\n",
    "    try:\n",
    "        g = nx.read_edgelist(graph_file, nodetype=int)\n",
    "        graph_files_with_sizes.append((graph_file, g.number_of_nodes()))\n",
    "    except:\n",
    "        graph_files_with_sizes.append((graph_file, 0))\n",
    "\n",
    "graph_files_with_sizes.sort(key=lambda x: x[1])\n",
    "graph_files = [f for f, _ in graph_files_with_sizes]\n",
    "graph_files"
   ]
  },
  {
   "cell_type": "code",
   "execution_count": 50,
   "metadata": {},
   "outputs": [
    {
     "name": "stdout",
     "output_type": "stream",
     "text": [
      "PTBR_graph.edges: n=1912, e=31299\n",
      "  BA -> m*=16, edges=30336\n",
      "  ER -> p*=0.0171, edges=31275\n",
      "  WS -> k*=32, p=0.1, edges=30592\n",
      "RU_graph.edges: n=4385, e=37304\n",
      "  BA -> m*=9, edges=39384\n",
      "  ER -> p*=0.0039, edges=36933\n",
      "  WS -> k*=18, p=0.1, edges=39465\n",
      "ES_graph.edges: n=4648, e=59382\n",
      "  BA -> m*=13, edges=60255\n",
      "  ER -> p*=0.0055, edges=59096\n",
      "  WS -> k*=26, p=0.1, edges=60424\n",
      "FR_graph.edges: n=6549, e=112666\n",
      "  BA -> m*=17, edges=111044\n",
      "  ER -> p*=0.0053, edges=112358\n",
      "  WS -> k*=34, p=0.1, edges=111333\n",
      "ENGB_graph.edges: n=7126, e=35324\n",
      "  BA -> m*=5, edges=35605\n",
      "  ER -> p*=0.0014, edges=35025\n",
      "  WS -> k*=10, p=0.1, edges=35630\n",
      "DE_graph.edges: n=9498, e=153138\n",
      "  BA -> m*=16, edges=151712\n",
      "  ER -> p*=0.0034, edges=153256\n",
      "  WS -> k*=32, p=0.1, edges=151968\n"
     ]
    }
   ],
   "source": [
    "import os\n",
    "import math\n",
    "import networkx as nx\n",
    "\n",
    "# --- Provided Setup ---\n",
    "comparators = {}\n",
    "folder_name = 'runs/fitted_graphs_comparison_twitch'\n",
    "os.makedirs(folder_name, exist_ok=True)\n",
    "\n",
    "# --- Barabasi-Albert (BA) Model Functions (Provided) ---\n",
    "def _expected_ba_edges(n, m):\n",
    "    # networkx.barabasi_albert_graph starts with a complete graph of m nodes,\n",
    "    # then adds (n - m) nodes, each with m edges\n",
    "    return m * (n - m) + (m * (m - 1)) // 2\n",
    "\n",
    "def estimate_ba_m(n, e):\n",
    "    # Solve: m^2 - (2n - 1)m + 2e = 0\n",
    "    D = (2 * n - 1) ** 2 - 8 * e\n",
    "    candidates = []\n",
    "    if D >= 0:\n",
    "        m_real = ((2 * n - 1) - math.sqrt(D)) / 2.0\n",
    "        candidates.extend([math.floor(m_real), math.ceil(m_real)])\n",
    "    # heuristic fallback\n",
    "    candidates.append(round(e / n if n > 0 else 1))\n",
    "    # expand neighborhood and clamp\n",
    "    uniq = set(int(m) for m in candidates)\n",
    "    expanded = set()\n",
    "    for m in uniq:\n",
    "        for dm in (-1, 0, 1):\n",
    "            expanded.add(m + dm)\n",
    "    valid = [m for m in expanded if 1 <= m < n]\n",
    "    if not valid:\n",
    "        return 1\n",
    "    # pick m minimizing edge discrepancy\n",
    "    best_m = min(valid, key=lambda m: abs(_expected_ba_edges(n, m) - e))\n",
    "    return best_m\n",
    "\n",
    "# --- Erdős-Rényi (ER) Model Estimation ---\n",
    "\n",
    "def estimate_er_p(n, e):\n",
    "    \"\"\"Estimates the optimal edge probability 'p' for an Erdős-Rényi graph.\"\"\"\n",
    "    if n < 2:\n",
    "        return 0.0\n",
    "    # Expected edges E = p * C(n, 2) => p = E / C(n, 2)\n",
    "    p = (2 * e) / (n * (n - 1))\n",
    "    # Clamp p to the valid probability range [0, 1]\n",
    "    return max(0.0, min(1.0, p))\n",
    "\n",
    "# --- Watts-Strogatz (WS) Model Estimation ---\n",
    "\n",
    "def estimate_ws_params(n, e):\n",
    "    \"\"\"\n",
    "    Estimates optimal parameters 'k' and 'p' for a Watts-Strogatz graph.\n",
    "    'k' is chosen to best match the edge count. 'p' is set to a default value.\n",
    "    \"\"\"\n",
    "    # WS graph requires n > k, and k must be an even integer >= 2.\n",
    "    if n <= 2:\n",
    "        return 0, 0.1\n",
    "\n",
    "    # The number of edges in a WS graph is exactly n*k/2.\n",
    "    # We find the even integer 'k' that makes n*k/2 closest to e.\n",
    "    k_target = 2 * e / n\n",
    "    \n",
    "    # Check the two nearest even integers to the target average degree.\n",
    "    k_floor = int(k_target // 2 * 2)\n",
    "    k_ceil = int(k_target // 2 * 2 + 2)\n",
    "\n",
    "    candidates = [k for k in [k_floor, k_ceil] if 2 <= k < n]\n",
    "\n",
    "    if not candidates:\n",
    "        # Fallback if no valid k can be found (e.g., n is too small).\n",
    "        return (2, 0.1) if n > 2 else (0, 0.1)\n",
    "\n",
    "    # Pick the candidate 'k' that minimizes the edge discrepancy.\n",
    "    best_k = min(candidates, key=lambda k: abs(n * k / 2 - e))\n",
    "\n",
    "    # The rewiring probability 'p' cannot be determined from n and e alone.\n",
    "    # A common default value for generating small-world networks is used.\n",
    "    p = 0.1\n",
    "    \n",
    "    return best_k, p\n",
    "\n",
    "# --- Main Loop for Graph Generation and Comparison ---\n",
    "\n",
    "for graph_file in graph_files:\n",
    "    original_graph = nx.read_edgelist(graph_file, nodetype=int)\n",
    "    n = original_graph.number_of_nodes()\n",
    "    e = original_graph.number_of_edges()\n",
    "\n",
    "    # --- Barabasi-Albert (BA) Model ---\n",
    "    m_opt = estimate_ba_m(n, e)\n",
    "    ba_graph = nx.barabasi_albert_graph(n=n, m=m_opt, seed=42)\n",
    "\n",
    "    # --- Erdős-Rényi (ER) Model ---\n",
    "    p_opt = estimate_er_p(n, e)\n",
    "    er_graph = nx.erdos_renyi_graph(n=n, p=p_opt, seed=42)\n",
    "    \n",
    "    # --- Watts-Strogatz (WS) Model ---\n",
    "    k_opt, p_ws = estimate_ws_params(n, e)\n",
    "    if k_opt > 0:\n",
    "        ws_graph = nx.watts_strogatz_graph(n=n, k=k_opt, p=p_ws, seed=42)\n",
    "    else:\n",
    "        # Create an empty graph if a valid k could not be found.\n",
    "        ws_graph = nx.Graph()\n",
    "        ws_graph.add_nodes_from(range(n))\n",
    "\n",
    "    # Store all generated model graphs for comparison\n",
    "    model_graphs = {\n",
    "        'BA': ba_graph,\n",
    "        'ER': er_graph,\n",
    "        'WS': ws_graph\n",
    "    }\n",
    "    comparators[os.path.basename(graph_file)] = model_graphs\n",
    "\n",
    "    # Print a summary of the fitted parameters and resulting edge counts\n",
    "    print(\n",
    "        f\"{os.path.basename(graph_file)}: n={n}, e={e}\\n\"\n",
    "        f\"  BA -> m*={m_opt}, edges={ba_graph.number_of_edges()}\\n\"\n",
    "        f\"  ER -> p*={p_opt:.4f}, edges={er_graph.number_of_edges()}\\n\"\n",
    "        f\"  WS -> k*={k_opt}, p={p_ws}, edges={ws_graph.number_of_edges()}\"\n",
    "    )"
   ]
  },
  {
   "cell_type": "code",
   "execution_count": null,
   "metadata": {},
   "outputs": [
    {
     "name": "stdout",
     "output_type": "stream",
     "text": [
      "PTBR_graph.edges: GIC_KL(real vs BA) = 0.642153\n",
      "PTBR_graph.edges: GIC_KL(real vs ER) = 0.641195\n",
      "PTBR_graph.edges: GIC_KL(real vs WS) = 0.454637\n",
      "RU_graph.edges: GIC_KL(real vs BA) = 0.350353\n",
      "RU_graph.edges: GIC_KL(real vs ER) = 0.332763\n",
      "RU_graph.edges: GIC_KL(real vs WS) = 1.214782\n",
      "ES_graph.edges: GIC_KL(real vs BA) = 1.094191\n",
      "ES_graph.edges: GIC_KL(real vs ER) = 1.090295\n",
      "ES_graph.edges: GIC_KL(real vs WS) = 0.696158\n",
      "FR_graph.edges: GIC_KL(real vs BA) = 0.343022\n"
     ]
    }
   ],
   "source": [
    "# Compute GIC (KL) between real graphs and all model simulations\n",
    "from math import isfinite\n",
    "\n",
    "gic_results = {}\n",
    "for graph_file in graph_files:\n",
    "    basename = os.path.basename(graph_file)\n",
    "    if basename not in comparators:\n",
    "        continue\n",
    "        \n",
    "    original_graph = nx.read_edgelist(graph_file, nodetype=int)\n",
    "    \n",
    "    # Initialize results dictionary for this graph\n",
    "    gic_results[basename] = {}\n",
    "    \n",
    "    # Compute GIC for each model type\n",
    "    for model_name in ['BA', 'ER', 'WS']:\n",
    "        if model_name not in comparators[basename]:\n",
    "            continue\n",
    "            \n",
    "        model_graph = comparators[basename][model_name]\n",
    "        \n",
    "        gic_calc = gic.GraphInformationCriterion(original_graph, model=model_name, dist='KL')\n",
    "        model_den, _ = gic_calc.compute_spectral_density(model_graph)\n",
    "        gic_value = gic_calc.calculate_gic(model_den=model_den)\n",
    "        \n",
    "        gic_results[basename][model_name] = gic_value\n",
    "        print(f\"{basename}: GIC_KL(real vs {model_name}) = {gic_value:.6f}\")"
   ]
  },
  {
   "cell_type": "code",
   "execution_count": null,
   "metadata": {},
   "outputs": [],
   "source": [
    "# Save the gic results and the comparators\n",
    "import pickle\n",
    "with open('gic_results.pkl', 'wb') as f:\n",
    "    pickle.dump(gic_results, f)\n",
    "with open('comparators.pkl', 'wb') as f:\n",
    "    pickle.dump(comparators, f)\n"
   ]
  },
  {
   "cell_type": "code",
   "execution_count": null,
   "metadata": {},
   "outputs": [],
   "source": [
    "#TODO: Get the LG graph already fiteed ont he folder\n",
    "folder_name = 'runs/fitted_graphs_comparison_twitch'\n",
    "os.makedirs(folder_name, exist_ok=True)"
   ]
  },
  {
   "cell_type": "code",
   "execution_count": null,
   "metadata": {},
   "outputs": [],
   "source": [
    "sim_params = {\n",
    "    \"d_list\": [0, 1],\n",
    "    \"lg_params\": {\n",
    "        \"max_iterations\": 8000,\n",
    "        \"patience\": 10,\n",
    "        \"gic_dist_type\": 'KL',\n",
    "        \"er_p\": 0.01,\n",
    "        \"min_gic_threshold\": 0.1,\n",
    "        \"edge_delta\": 50,\n",
    "        \"verbose\": True,\n",
    "    },\n",
    "    \"other_model_n_runs\": 5,\n",
    "    \"other_model_params\": [\n",
    "        {'lo': 0.01, 'hi': 0.2},  # ER (probability) — must be first\n",
    "        {'k': {'lo': 2, 'hi': 3, 'step': 1}, 'p': {'lo': 0.01, 'hi': 0.2}},  # WS\n",
    "        {'lo': 1, 'hi': 3},  # GRG (radius/alpha)\n",
    "        {'lo': 1, 'hi': 3},  # BA (m)\n",
    "    ],\n",
    "    \"verbose\": True,\n",
    "}\n",
    "\n",
    "fitter_params = {\n",
    "    \"d\": 1,\n",
    "    \"n_iteration\": 100,\n",
    "    \"patience\": 10,\n",
    "    \"er_p\": 0.01,\n",
    "    \"edge_delta\": 50,\n",
    "    \"min_gic_threshold\": 0.1,\n",
    "    \"init_graph\": None,\n",
    "    \"verbose\": True\n",
    "}\n"
   ]
  },
  {
   "cell_type": "code",
   "execution_count": null,
   "metadata": {},
   "outputs": [
    {
     "name": "stdout",
     "output_type": "stream",
     "text": [
      "\n",
      "==================== Processing Graph ====================\n",
      "Original graph - Nodes: 1912, Edges: 31299\n",
      "Running LG generation for d=1...\n"
     ]
    },
    {
     "data": {
      "application/vnd.jupyter.widget-view+json": {
       "model_id": "2ebd316dc0bd41568feef93b682e8054",
       "version_major": 2,
       "version_minor": 0
      },
      "text/plain": [
       "🔄 Optimizing Graph:   0%|          | 0/25 [00:00<?, ?it/s] "
      ]
     },
     "metadata": {},
     "output_type": "display_data"
    },
    {
     "name": "stdout",
     "output_type": "stream",
     "text": [
      "⏰ Max iterations (25) reached. Stopping.\n",
      "\n",
      "🏁 Stopping Condition Met\n",
      "   📍 Reason: Max iterations (25) reached.\n",
      "   📈 Results Summary\n",
      "   🏆 Best iteration found: 11\n",
      "   📊 Best spectrum difference: 1377.4247\n",
      "   🔗 Edges in best graph: 27315 (Real graph edges: 31299)\n",
      "Fitting successful - GIC: 0.6620, Best iteration: 11\n",
      "Fitted graph - Nodes: 1912, Edges: 27315\n",
      "\n",
      "==================== Processing Graph ====================\n",
      "Original graph - Nodes: 4385, Edges: 37304\n",
      "Running LG generation for d=1...\n"
     ]
    },
    {
     "data": {
      "application/vnd.jupyter.widget-view+json": {
       "model_id": "c594ab41b8b44c97809ac643b8f4e57d",
       "version_major": 2,
       "version_minor": 0
      },
      "text/plain": [
       "🔄 Optimizing Graph:   0%|          | 0/21 [00:00<?, ?it/s] "
      ]
     },
     "metadata": {},
     "output_type": "display_data"
    },
    {
     "name": "stdout",
     "output_type": "stream",
     "text": [
      "⏰ Max iterations (21) reached. Stopping.\n",
      "\n",
      "🏁 Stopping Condition Met\n",
      "   📍 Reason: Max iterations (21) reached.\n",
      "   📈 Results Summary\n",
      "   🏆 Best iteration found: 0\n",
      "   📊 Best spectrum difference: 1703.8566\n",
      "   🔗 Edges in best graph: 35447 (Real graph edges: 37304)\n",
      "Fitting successful - GIC: 0.3419, Best iteration: 0\n",
      "Fitted graph - Nodes: 4385, Edges: 35447\n",
      "\n",
      "==================== Processing Graph ====================\n",
      "Original graph - Nodes: 4648, Edges: 59382\n",
      "Running LG generation for d=1...\n"
     ]
    },
    {
     "data": {
      "application/vnd.jupyter.widget-view+json": {
       "model_id": "890d46b648a6457a9ffb9e683a920b88",
       "version_major": 2,
       "version_minor": 0
      },
      "text/plain": [
       "🔄 Optimizing Graph:   0%|          | 0/18 [00:00<?, ?it/s] "
      ]
     },
     "metadata": {},
     "output_type": "display_data"
    },
    {
     "name": "stdout",
     "output_type": "stream",
     "text": [
      "⏰ Max iterations (18) reached. Stopping.\n",
      "\n",
      "🏁 Stopping Condition Met\n",
      "   📍 Reason: Max iterations (18) reached.\n",
      "   📈 Results Summary\n",
      "   🏆 Best iteration found: 17\n",
      "   📊 Best spectrum difference: 1744.9515\n",
      "   🔗 Edges in best graph: 54248 (Real graph edges: 59382)\n",
      "Fitting successful - GIC: 1.1084, Best iteration: 17\n",
      "Fitted graph - Nodes: 4648, Edges: 54248\n",
      "\n",
      "==================== Processing Graph ====================\n",
      "Original graph - Nodes: 6549, Edges: 112666\n",
      "Running LG generation for d=1...\n"
     ]
    },
    {
     "data": {
      "application/vnd.jupyter.widget-view+json": {
       "model_id": "08f88e5ff79e4b729b9df3b97708b60d",
       "version_major": 2,
       "version_minor": 0
      },
      "text/plain": [
       "🔄 Optimizing Graph:   0%|          | 0/15 [00:00<?, ?it/s] "
      ]
     },
     "metadata": {},
     "output_type": "display_data"
    },
    {
     "name": "stdout",
     "output_type": "stream",
     "text": [
      "⏰ Max iterations (15) reached. Stopping.\n",
      "\n",
      "🏁 Stopping Condition Met\n",
      "   📍 Reason: Max iterations (15) reached.\n",
      "   📈 Results Summary\n",
      "   🏆 Best iteration found: 0\n",
      "   📊 Best spectrum difference: 3858.6678\n",
      "   🔗 Edges in best graph: 99941 (Real graph edges: 112666)\n",
      "Fitting successful - GIC: 0.3540, Best iteration: 0\n",
      "Fitted graph - Nodes: 6549, Edges: 99941\n",
      "\n",
      "==================== Processing Graph ====================\n",
      "Original graph - Nodes: 7126, Edges: 35324\n",
      "Running LG generation for d=1...\n"
     ]
    },
    {
     "data": {
      "application/vnd.jupyter.widget-view+json": {
       "model_id": "c15bccb42b4d4bd7be44b26faf4541f7",
       "version_major": 2,
       "version_minor": 0
      },
      "text/plain": [
       "🔄 Optimizing Graph:   0%|          | 0/11 [00:00<?, ?it/s] "
      ]
     },
     "metadata": {},
     "output_type": "display_data"
    },
    {
     "name": "stdout",
     "output_type": "stream",
     "text": [
      "⏰ Max iterations (11) reached. Stopping.\n",
      "\n",
      "🏁 Stopping Condition Met\n",
      "   📍 Reason: Max iterations (11) reached.\n",
      "   📈 Results Summary\n",
      "   🏆 Best iteration found: 10\n",
      "   📊 Best spectrum difference: 847.1518\n",
      "   🔗 Edges in best graph: 32056 (Real graph edges: 35324)\n",
      "Fitting successful - GIC: 0.1532, Best iteration: 10\n",
      "Fitted graph - Nodes: 7126, Edges: 32056\n",
      "\n",
      "==================== Processing Graph ====================\n",
      "Original graph - Nodes: 9498, Edges: 153138\n",
      "Running LG generation for d=1...\n"
     ]
    },
    {
     "data": {
      "application/vnd.jupyter.widget-view+json": {
       "model_id": "e2c4ca5a94e442e0977540e6557ab14b",
       "version_major": 2,
       "version_minor": 0
      },
      "text/plain": [
       "🔄 Optimizing Graph:   0%|          | 0/8 [00:00<?, ?it/s] "
      ]
     },
     "metadata": {},
     "output_type": "display_data"
    },
    {
     "name": "stdout",
     "output_type": "stream",
     "text": [
      "⏰ Max iterations (8) reached. Stopping.\n",
      "\n",
      "🏁 Stopping Condition Met\n",
      "   📍 Reason: Max iterations (8) reached.\n",
      "   📈 Results Summary\n",
      "   🏆 Best iteration found: 7\n",
      "   📊 Best spectrum difference: 5586.6554\n",
      "   🔗 Edges in best graph: 136549 (Real graph edges: 153138)\n",
      "Fitting successful - GIC: 0.6006, Best iteration: 7\n",
      "Fitted graph - Nodes: 9498, Edges: 136549\n"
     ]
    }
   ],
   "source": [
    "import gc\n",
    "comparators_lg = {}\n",
    "for i, graph_file in enumerate(graph_files):\n",
    "    original_graph = nx.read_edgelist(graph_file, nodetype=int)\n",
    "    n = original_graph.number_of_nodes()\n",
    "    e = original_graph.number_of_edges()\n",
    "\n",
    "    # # --- Erdős-Rényi (ER) Model ---\n",
    "    # p_opt = estimate_er_p(n, e)\n",
    "    # p_opt = p_opt * 0.9\n",
    "    # print(f\"ER p: {p_opt}\")\n",
    "    # fitter_params['er_p'] = p_opt\n",
    "\n",
    "    # --- Barabasi-Albert (BA) Model ---\n",
    "    m_opt = estimate_ba_m(n, e)\n",
    "    ba_graph = nx.barabasi_albert_graph(n=n, m=m_opt, seed=42)\n",
    "    # Randomly select 80% of edges and remove them\n",
    "    edges_to_remove = int(ba_graph.number_of_edges() * 0.1)\n",
    "    edges_to_remove = random.sample(list(ba_graph.edges()), edges_to_remove)\n",
    "    ba_graph.remove_edges_from(edges_to_remove)\n",
    "\n",
    "    fitter_params['init_graph'] = ba_graph\n",
    "    # Decrease linearly with graph_file len until reach 100\n",
    "    fitter_params['n_iteration'] = int(20 - 20 * (i / len(graph_files)) + 5)\n",
    "\n",
    "    lg_fitter = LogitGraphFitter(**fitter_params)\n",
    "    lg_fitter.fit(original_graph)\n",
    "\n",
    "    model_graphs = {\n",
    "        'LG': lg_fitter,\n",
    "    }\n",
    "    comparators[os.path.basename(graph_file)] = model_graphs"
   ]
  },
  {
   "cell_type": "code",
   "execution_count": null,
   "metadata": {},
   "outputs": [],
   "source": [
    "with open('comparators_lg.pkl', 'wb') as f:\n",
    "    pickle.dump(comparators_lg, f)"
   ]
  },
  {
   "cell_type": "code",
   "execution_count": null,
   "metadata": {},
   "outputs": [
    {
     "data": {
      "text/plain": [
       "'finish'"
      ]
     },
     "execution_count": 40,
     "metadata": {},
     "output_type": "execute_result"
    }
   ],
   "source": [
    "'finish'"
   ]
  },
  {
   "cell_type": "markdown",
   "metadata": {},
   "source": [
    "### Load the results"
   ]
  },
  {
   "cell_type": "code",
   "execution_count": null,
   "metadata": {},
   "outputs": [],
   "source": [
    "import pickle\n",
    "with open('comparators_lg.pkl', 'rb') as f:\n",
    "    comparators_lg = pickle.load(f)\n",
    "with open('gic_results.pkl', 'rb') as f:\n",
    "    gic_results = pickle.load(f)\n",
    "with open('comparators.pkl', 'rb') as f:\n",
    "    comparators = pickle.load(f)\n"
   ]
  },
  {
   "cell_type": "code",
   "execution_count": null,
   "metadata": {},
   "outputs": [
    {
     "data": {
      "text/plain": [
       "dict_keys([])"
      ]
     },
     "execution_count": 45,
     "metadata": {},
     "output_type": "execute_result"
    }
   ],
   "source": [
    "comparators_lg.keys()"
   ]
  },
  {
   "cell_type": "code",
   "execution_count": null,
   "metadata": {},
   "outputs": [
    {
     "data": {
      "text/html": [
       "<div>\n",
       "<style scoped>\n",
       "    .dataframe tbody tr th:only-of-type {\n",
       "        vertical-align: middle;\n",
       "    }\n",
       "\n",
       "    .dataframe tbody tr th {\n",
       "        vertical-align: top;\n",
       "    }\n",
       "\n",
       "    .dataframe thead th {\n",
       "        text-align: right;\n",
       "    }\n",
       "</style>\n",
       "<table border=\"1\" class=\"dataframe\">\n",
       "  <thead>\n",
       "    <tr style=\"text-align: right;\">\n",
       "      <th></th>\n",
       "    </tr>\n",
       "  </thead>\n",
       "  <tbody>\n",
       "  </tbody>\n",
       "</table>\n",
       "</div>"
      ],
      "text/plain": [
       "Empty DataFrame\n",
       "Columns: []\n",
       "Index: []"
      ]
     },
     "metadata": {},
     "output_type": "display_data"
    }
   ],
   "source": [
    "# Create lists to store the data\n",
    "data = []\n",
    "\n",
    "# Iterate through each graph\n",
    "for graph_name in comparators_lg.keys():\n",
    "    row = {\n",
    "        'graph': graph_name,\n",
    "        'node': comparators_lg[graph_name]['LG'].metadata['original_nodes'],\n",
    "        'edge': comparators_lg[graph_name]['LG'].metadata['original_edges'],\n",
    "        'gic_lg': comparators_lg[graph_name]['LG'].metadata['gic_value'],\n",
    "    }\n",
    "    \n",
    "    # Add GIC values from gic_results if available\n",
    "    if graph_name in gic_results:\n",
    "        for model, gic in gic_results[graph_name].items():\n",
    "            row[f'{model}_GIC'] = gic\n",
    "            \n",
    "    # Add metrics from other graph families in comparators\n",
    "    if graph_name in comparators:\n",
    "        for model_name, model in comparators[graph_name].items():\n",
    "            row[f'{model_name}_GIC'] = model.metadata['gic_value']\n",
    "            row[f'{model_name}_Nodes'] = model.metadata['original_nodes'] \n",
    "            row[f'{model_name}_Edges'] = model.metadata['original_edges']\n",
    "            \n",
    "    data.append(row)\n",
    "\n",
    "results_df = pd.DataFrame(data)"
   ]
  },
  {
   "cell_type": "code",
   "execution_count": null,
   "metadata": {},
   "outputs": [
    {
     "data": {
      "text/html": [
       "<div>\n",
       "<style scoped>\n",
       "    .dataframe tbody tr th:only-of-type {\n",
       "        vertical-align: middle;\n",
       "    }\n",
       "\n",
       "    .dataframe tbody tr th {\n",
       "        vertical-align: top;\n",
       "    }\n",
       "\n",
       "    .dataframe thead th {\n",
       "        text-align: right;\n",
       "    }\n",
       "</style>\n",
       "<table border=\"1\" class=\"dataframe\">\n",
       "  <thead>\n",
       "    <tr style=\"text-align: right;\">\n",
       "      <th></th>\n",
       "    </tr>\n",
       "  </thead>\n",
       "  <tbody>\n",
       "  </tbody>\n",
       "</table>\n",
       "</div>"
      ],
      "text/plain": [
       "Empty DataFrame\n",
       "Columns: []\n",
       "Index: []"
      ]
     },
     "execution_count": 44,
     "metadata": {},
     "output_type": "execute_result"
    }
   ],
   "source": [
    "results_df\n"
   ]
  },
  {
   "cell_type": "code",
   "execution_count": null,
   "metadata": {},
   "outputs": [],
   "source": []
  },
  {
   "cell_type": "code",
   "execution_count": null,
   "metadata": {},
   "outputs": [],
   "source": []
  },
  {
   "cell_type": "code",
   "execution_count": null,
   "metadata": {},
   "outputs": [],
   "source": []
  },
  {
   "cell_type": "code",
   "execution_count": null,
   "metadata": {},
   "outputs": [],
   "source": []
  },
  {
   "cell_type": "code",
   "execution_count": null,
   "metadata": {},
   "outputs": [],
   "source": []
  },
  {
   "cell_type": "code",
   "execution_count": null,
   "metadata": {},
   "outputs": [],
   "source": []
  }
 ],
 "metadata": {
  "kernelspec": {
   "display_name": "logit_graph",
   "language": "python",
   "name": "python3"
  },
  "language_info": {
   "codemirror_mode": {
    "name": "ipython",
    "version": 3
   },
   "file_extension": ".py",
   "mimetype": "text/x-python",
   "name": "python",
   "nbconvert_exporter": "python",
   "pygments_lexer": "ipython3",
   "version": "3.8.16"
  }
 },
 "nbformat": 4,
 "nbformat_minor": 2
}
