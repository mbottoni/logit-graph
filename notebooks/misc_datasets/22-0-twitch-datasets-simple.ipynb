{
 "cells": [
  {
   "cell_type": "code",
   "execution_count": 46,
   "metadata": {},
   "outputs": [
    {
     "name": "stdout",
     "output_type": "stream",
     "text": [
      "The autoreload extension is already loaded. To reload it, use:\n",
      "  %reload_ext autoreload\n"
     ]
    }
   ],
   "source": [
    "%load_ext autoreload\n",
    "%autoreload 2"
   ]
  },
  {
   "cell_type": "markdown",
   "metadata": {},
   "source": [
    "here the objective is to fit the logit graph model to multiple different graph domains and then visualize the original vs fitted graphs"
   ]
  },
  {
   "cell_type": "code",
   "execution_count": 47,
   "metadata": {},
   "outputs": [],
   "source": [
    "\n",
    "import sys\n",
    "import os\n",
    "\n",
    "#Graph imports\n",
    "sys.path.append('../..')\n",
    "import src.logit_graph.graph as graph\n",
    "import src.logit_graph.logit_estimator as estimator\n",
    "import src.logit_graph.utils as utils\n",
    "import src.logit_graph.model_selection as model_selection\n",
    "import src.logit_graph.gic as gic\n",
    "import src.logit_graph.param_estimator as pe\n",
    "import src.logit_graph.graph as graph\n",
    "import src.logit_graph.model_selection as ms\n",
    "\n",
    "from src.logit_graph.simulation import LogitGraphFitter, GraphModelComparator\n",
    "\n",
    "# usual imports\n",
    "import matplotlib.pyplot as plt\n",
    "import pickle\n",
    "import math\n",
    "import matplotlib.pyplot as plt\n",
    "from scipy import stats\n",
    "from scipy.stats import gaussian_kde\n",
    "import numpy as np\n",
    "import pandas as pd\n",
    "import seaborn as sns\n",
    "import gc\n",
    "import random\n",
    "import networkx as nx\n",
    "from numpy import errstate\n",
    "\n",
    "from IPython.display import display\n",
    "from pyvis.network import Network\n",
    "from mpl_toolkits.axes_grid1 import make_axes_locatable\n"
   ]
  },
  {
   "cell_type": "code",
   "execution_count": 48,
   "metadata": {},
   "outputs": [
    {
     "data": {
      "text/plain": [
       "['RU',\n",
       " 'ENGB',\n",
       " 'citing.txt',\n",
       " 'PTBR',\n",
       " 'DE',\n",
       " 'README.txt',\n",
       " 'FR',\n",
       " 'ES',\n",
       " 'graphs_processed']"
      ]
     },
     "execution_count": 48,
     "metadata": {},
     "output_type": "execute_result"
    }
   ],
   "source": [
    "data_directory = f'../../data/twitch/'\n",
    "os.listdir(data_directory)"
   ]
  },
  {
   "cell_type": "markdown",
   "metadata": {},
   "source": [
    "### Comparison other models\n",
    "\n",
    "comparing multiple models excluding the simulation of LG because it was alaready simulated"
   ]
  },
  {
   "cell_type": "code",
   "execution_count": 49,
   "metadata": {},
   "outputs": [
    {
     "data": {
      "text/plain": [
       "['../../data/twitch/graphs_processed/PTBR_graph.edges',\n",
       " '../../data/twitch/graphs_processed/RU_graph.edges',\n",
       " '../../data/twitch/graphs_processed/ES_graph.edges',\n",
       " '../../data/twitch/graphs_processed/FR_graph.edges',\n",
       " '../../data/twitch/graphs_processed/ENGB_graph.edges',\n",
       " '../../data/twitch/graphs_processed/DE_graph.edges']"
      ]
     },
     "execution_count": 49,
     "metadata": {},
     "output_type": "execute_result"
    }
   ],
   "source": [
    "graph_files = os.listdir(f'{data_directory}/graphs_processed')\n",
    "graph_files = [os.path.join(data_directory, 'graphs_processed', f) for f in graph_files]\n",
    "\n",
    "graph_files_with_sizes = []\n",
    "for graph_file in graph_files:\n",
    "    try:\n",
    "        g = nx.read_edgelist(graph_file, nodetype=int)\n",
    "        graph_files_with_sizes.append((graph_file, g.number_of_nodes()))\n",
    "    except:\n",
    "        graph_files_with_sizes.append((graph_file, 0))\n",
    "\n",
    "graph_files_with_sizes.sort(key=lambda x: x[1])\n",
    "graph_files = [f for f, _ in graph_files_with_sizes]\n",
    "graph_files"
   ]
  },
  {
   "cell_type": "code",
   "execution_count": 50,
   "metadata": {},
   "outputs": [
    {
     "name": "stdout",
     "output_type": "stream",
     "text": [
      "PTBR_graph.edges: n=1912, e=31299\n",
      "  BA -> m*=16, edges=30336\n",
      "  ER -> p*=0.0171, edges=31275\n",
      "  WS -> k*=32, p=0.1, edges=30592\n",
      "RU_graph.edges: n=4385, e=37304\n",
      "  BA -> m*=9, edges=39384\n",
      "  ER -> p*=0.0039, edges=36933\n",
      "  WS -> k*=18, p=0.1, edges=39465\n",
      "ES_graph.edges: n=4648, e=59382\n",
      "  BA -> m*=13, edges=60255\n",
      "  ER -> p*=0.0055, edges=59096\n",
      "  WS -> k*=26, p=0.1, edges=60424\n",
      "FR_graph.edges: n=6549, e=112666\n",
      "  BA -> m*=17, edges=111044\n",
      "  ER -> p*=0.0053, edges=112358\n",
      "  WS -> k*=34, p=0.1, edges=111333\n",
      "ENGB_graph.edges: n=7126, e=35324\n",
      "  BA -> m*=5, edges=35605\n",
      "  ER -> p*=0.0014, edges=35025\n",
      "  WS -> k*=10, p=0.1, edges=35630\n",
      "DE_graph.edges: n=9498, e=153138\n",
      "  BA -> m*=16, edges=151712\n",
      "  ER -> p*=0.0034, edges=153256\n",
      "  WS -> k*=32, p=0.1, edges=151968\n"
     ]
    }
   ],
   "source": [
    "import os\n",
    "import math\n",
    "import networkx as nx\n",
    "\n",
    "# --- Provided Setup ---\n",
    "comparators = {}\n",
    "folder_name = 'runs/fitted_graphs_comparison_twitch'\n",
    "os.makedirs(folder_name, exist_ok=True)\n",
    "\n",
    "# --- Barabasi-Albert (BA) Model Functions (Provided) ---\n",
    "def _expected_ba_edges(n, m):\n",
    "    # networkx.barabasi_albert_graph starts with a complete graph of m nodes,\n",
    "    # then adds (n - m) nodes, each with m edges\n",
    "    return m * (n - m) + (m * (m - 1)) // 2\n",
    "\n",
    "def estimate_ba_m(n, e):\n",
    "    # Solve: m^2 - (2n - 1)m + 2e = 0\n",
    "    D = (2 * n - 1) ** 2 - 8 * e\n",
    "    candidates = []\n",
    "    if D >= 0:\n",
    "        m_real = ((2 * n - 1) - math.sqrt(D)) / 2.0\n",
    "        candidates.extend([math.floor(m_real), math.ceil(m_real)])\n",
    "    # heuristic fallback\n",
    "    candidates.append(round(e / n if n > 0 else 1))\n",
    "    # expand neighborhood and clamp\n",
    "    uniq = set(int(m) for m in candidates)\n",
    "    expanded = set()\n",
    "    for m in uniq:\n",
    "        for dm in (-1, 0, 1):\n",
    "            expanded.add(m + dm)\n",
    "    valid = [m for m in expanded if 1 <= m < n]\n",
    "    if not valid:\n",
    "        return 1\n",
    "    # pick m minimizing edge discrepancy\n",
    "    best_m = min(valid, key=lambda m: abs(_expected_ba_edges(n, m) - e))\n",
    "    return best_m\n",
    "\n",
    "# --- Erdős-Rényi (ER) Model Estimation ---\n",
    "\n",
    "def estimate_er_p(n, e):\n",
    "    \"\"\"Estimates the optimal edge probability 'p' for an Erdős-Rényi graph.\"\"\"\n",
    "    if n < 2:\n",
    "        return 0.0\n",
    "    # Expected edges E = p * C(n, 2) => p = E / C(n, 2)\n",
    "    p = (2 * e) / (n * (n - 1))\n",
    "    # Clamp p to the valid probability range [0, 1]\n",
    "    return max(0.0, min(1.0, p))\n",
    "\n",
    "# --- Watts-Strogatz (WS) Model Estimation ---\n",
    "\n",
    "def estimate_ws_params(n, e):\n",
    "    \"\"\"\n",
    "    Estimates optimal parameters 'k' and 'p' for a Watts-Strogatz graph.\n",
    "    'k' is chosen to best match the edge count. 'p' is set to a default value.\n",
    "    \"\"\"\n",
    "    # WS graph requires n > k, and k must be an even integer >= 2.\n",
    "    if n <= 2:\n",
    "        return 0, 0.1\n",
    "\n",
    "    # The number of edges in a WS graph is exactly n*k/2.\n",
    "    # We find the even integer 'k' that makes n*k/2 closest to e.\n",
    "    k_target = 2 * e / n\n",
    "    \n",
    "    # Check the two nearest even integers to the target average degree.\n",
    "    k_floor = int(k_target // 2 * 2)\n",
    "    k_ceil = int(k_target // 2 * 2 + 2)\n",
    "\n",
    "    candidates = [k for k in [k_floor, k_ceil] if 2 <= k < n]\n",
    "\n",
    "    if not candidates:\n",
    "        # Fallback if no valid k can be found (e.g., n is too small).\n",
    "        return (2, 0.1) if n > 2 else (0, 0.1)\n",
    "\n",
    "    # Pick the candidate 'k' that minimizes the edge discrepancy.\n",
    "    best_k = min(candidates, key=lambda k: abs(n * k / 2 - e))\n",
    "\n",
    "    # The rewiring probability 'p' cannot be determined from n and e alone.\n",
    "    # A common default value for generating small-world networks is used.\n",
    "    p = 0.1\n",
    "    \n",
    "    return best_k, p\n",
    "\n",
    "# --- Main Loop for Graph Generation and Comparison ---\n",
    "\n",
    "for graph_file in graph_files:\n",
    "    original_graph = nx.read_edgelist(graph_file, nodetype=int)\n",
    "    n = original_graph.number_of_nodes()\n",
    "    e = original_graph.number_of_edges()\n",
    "\n",
    "    # --- Barabasi-Albert (BA) Model ---\n",
    "    m_opt = estimate_ba_m(n, e)\n",
    "    ba_graph = nx.barabasi_albert_graph(n=n, m=m_opt, seed=42)\n",
    "\n",
    "    # --- Erdős-Rényi (ER) Model ---\n",
    "    p_opt = estimate_er_p(n, e)\n",
    "    er_graph = nx.erdos_renyi_graph(n=n, p=p_opt, seed=42)\n",
    "    \n",
    "    # --- Watts-Strogatz (WS) Model ---\n",
    "    k_opt, p_ws = estimate_ws_params(n, e)\n",
    "    if k_opt > 0:\n",
    "        ws_graph = nx.watts_strogatz_graph(n=n, k=k_opt, p=p_ws, seed=42)\n",
    "    else:\n",
    "        # Create an empty graph if a valid k could not be found.\n",
    "        ws_graph = nx.Graph()\n",
    "        ws_graph.add_nodes_from(range(n))\n",
    "\n",
    "    # Store all generated model graphs for comparison\n",
    "    model_graphs = {\n",
    "        'BA': ba_graph,\n",
    "        'ER': er_graph,\n",
    "        'WS': ws_graph\n",
    "    }\n",
    "    comparators[os.path.basename(graph_file)] = model_graphs\n",
    "\n",
    "    # Print a summary of the fitted parameters and resulting edge counts\n",
    "    print(\n",
    "        f\"{os.path.basename(graph_file)}: n={n}, e={e}\\n\"\n",
    "        f\"  BA -> m*={m_opt}, edges={ba_graph.number_of_edges()}\\n\"\n",
    "        f\"  ER -> p*={p_opt:.4f}, edges={er_graph.number_of_edges()}\\n\"\n",
    "        f\"  WS -> k*={k_opt}, p={p_ws}, edges={ws_graph.number_of_edges()}\"\n",
    "    )"
   ]
  },
  {
   "cell_type": "code",
   "execution_count": 51,
   "metadata": {},
   "outputs": [
    {
     "name": "stdout",
     "output_type": "stream",
     "text": [
      "PTBR_graph.edges: GIC_KL(real vs BA) = 0.642153\n",
      "PTBR_graph.edges: GIC_KL(real vs ER) = 0.641195\n",
      "PTBR_graph.edges: GIC_KL(real vs WS) = 0.454637\n",
      "RU_graph.edges: GIC_KL(real vs BA) = 0.350353\n",
      "RU_graph.edges: GIC_KL(real vs ER) = 0.332763\n",
      "RU_graph.edges: GIC_KL(real vs WS) = 1.214782\n",
      "ES_graph.edges: GIC_KL(real vs BA) = 1.094191\n",
      "ES_graph.edges: GIC_KL(real vs ER) = 1.090295\n",
      "ES_graph.edges: GIC_KL(real vs WS) = 0.696158\n",
      "FR_graph.edges: GIC_KL(real vs BA) = 0.343022\n",
      "FR_graph.edges: GIC_KL(real vs ER) = 0.343815\n",
      "FR_graph.edges: GIC_KL(real vs WS) = 0.387554\n",
      "ENGB_graph.edges: GIC_KL(real vs BA) = 1.158150\n",
      "ENGB_graph.edges: GIC_KL(real vs ER) = 0.284632\n",
      "ENGB_graph.edges: GIC_KL(real vs WS) = 0.704208\n",
      "DE_graph.edges: GIC_KL(real vs BA) = 0.590522\n",
      "DE_graph.edges: GIC_KL(real vs ER) = 0.591768\n",
      "DE_graph.edges: GIC_KL(real vs WS) = 0.532612\n"
     ]
    }
   ],
   "source": [
    "# Compute GIC (KL) between real graphs and all model simulations\n",
    "from math import isfinite\n",
    "\n",
    "gic_results = {}\n",
    "for graph_file in graph_files:\n",
    "    basename = os.path.basename(graph_file)\n",
    "    if basename not in comparators:\n",
    "        continue\n",
    "        \n",
    "    original_graph = nx.read_edgelist(graph_file, nodetype=int)\n",
    "    \n",
    "    # Initialize results dictionary for this graph\n",
    "    gic_results[basename] = {}\n",
    "    \n",
    "    # Compute GIC for each model type\n",
    "    for model_name in ['BA', 'ER', 'WS']:\n",
    "        if model_name not in comparators[basename]:\n",
    "            continue\n",
    "            \n",
    "        model_graph = comparators[basename][model_name]\n",
    "        \n",
    "        gic_calc = gic.GraphInformationCriterion(original_graph, model=model_name, dist='KL')\n",
    "        model_den, _ = gic_calc.compute_spectral_density(model_graph)\n",
    "        gic_value = gic_calc.calculate_gic(model_den=model_den)\n",
    "        \n",
    "        gic_results[basename][model_name] = gic_value\n",
    "        print(f\"{basename}: GIC_KL(real vs {model_name}) = {gic_value:.6f}\")"
   ]
  },
  {
   "cell_type": "code",
   "execution_count": 137,
   "metadata": {},
   "outputs": [],
   "source": [
    "# Save the gic results and the comparators\n",
    "import pickle\n",
    "folder = 'runs/fitted_graphs_comparison_twitch_simple'  \n",
    "os.makedirs(folder, exist_ok=True)\n",
    "with open(f'{folder}/gic_results.pkl', 'wb') as f:\n",
    "    pickle.dump(gic_results, f)\n",
    "with open(f'{folder}/comparators.pkl', 'wb') as f:\n",
    "    pickle.dump(comparators, f)\n"
   ]
  },
  {
   "cell_type": "code",
   "execution_count": 53,
   "metadata": {},
   "outputs": [],
   "source": [
    "#TODO: Get the LG graph already fiteed ont he folder\n",
    "folder_name = 'runs/fitted_graphs_comparison_twitch'\n",
    "os.makedirs(folder_name, exist_ok=True)"
   ]
  },
  {
   "cell_type": "code",
   "execution_count": 54,
   "metadata": {},
   "outputs": [],
   "source": [
    "sim_params = {\n",
    "    \"d_list\": [0, 1],\n",
    "    \"lg_params\": {\n",
    "        \"max_iterations\": 8000,\n",
    "        \"patience\": 10,\n",
    "        \"gic_dist_type\": 'KL',\n",
    "        \"er_p\": 0.01,\n",
    "        \"min_gic_threshold\": 0.1,\n",
    "        \"edge_delta\": 50,\n",
    "        \"verbose\": True,\n",
    "    },\n",
    "    \"other_model_n_runs\": 5,\n",
    "    \"other_model_params\": [\n",
    "        {'lo': 0.01, 'hi': 0.2},  # ER (probability) — must be first\n",
    "        {'k': {'lo': 2, 'hi': 3, 'step': 1}, 'p': {'lo': 0.01, 'hi': 0.2}},  # WS\n",
    "        {'lo': 1, 'hi': 3},  # GRG (radius/alpha)\n",
    "        {'lo': 1, 'hi': 3},  # BA (m)\n",
    "    ],\n",
    "    \"verbose\": True,\n",
    "}\n",
    "\n",
    "fitter_params = {\n",
    "    \"d\": 1,\n",
    "    \"n_iteration\": 100,\n",
    "    \"patience\": 10,\n",
    "    \"er_p\": 0.01,\n",
    "    \"edge_delta\": 50,\n",
    "    \"min_gic_threshold\": 0.1,\n",
    "    \"init_graph\": None,\n",
    "    \"verbose\": True\n",
    "}\n"
   ]
  },
  {
   "cell_type": "code",
   "execution_count": 64,
   "metadata": {},
   "outputs": [
    {
     "name": "stdout",
     "output_type": "stream",
     "text": [
      "\n",
      "==================== Processing Graph ====================\n",
      "Original graph - Nodes: 1912, Edges: 31299\n",
      "Running LG generation for d=1...\n"
     ]
    },
    {
     "data": {
      "application/vnd.jupyter.widget-view+json": {
       "model_id": "a108d8201e6446aa8552cc1dc564862b",
       "version_major": 2,
       "version_minor": 0
      },
      "text/plain": [
       "🔄 Optimizing Graph:   0%|          | 0/25 [00:00<?, ?it/s] "
      ]
     },
     "metadata": {},
     "output_type": "display_data"
    },
    {
     "name": "stdout",
     "output_type": "stream",
     "text": [
      "⏰ Max iterations (25) reached. Stopping.\n",
      "\n",
      "🏁 Stopping Condition Met\n",
      "   📍 Reason: Max iterations (25) reached.\n",
      "   📈 Results Summary\n",
      "   🏆 Best iteration found: 24\n",
      "   📊 Best spectrum difference: 1375.4335\n",
      "   🔗 Edges in best graph: 27327 (Real graph edges: 31299)\n",
      "Fitting successful - GIC: 0.6621, Best iteration: 24\n",
      "Fitted graph - Nodes: 1912, Edges: 27327\n",
      "\n",
      "==================== Processing Graph ====================\n",
      "Original graph - Nodes: 4385, Edges: 37304\n",
      "Running LG generation for d=1...\n"
     ]
    },
    {
     "data": {
      "application/vnd.jupyter.widget-view+json": {
       "model_id": "0989e344cc8048ffb5d5678a70a54432",
       "version_major": 2,
       "version_minor": 0
      },
      "text/plain": [
       "🔄 Optimizing Graph:   0%|          | 0/21 [00:00<?, ?it/s] "
      ]
     },
     "metadata": {},
     "output_type": "display_data"
    },
    {
     "name": "stdout",
     "output_type": "stream",
     "text": [
      "⏰ Max iterations (21) reached. Stopping.\n",
      "\n",
      "🏁 Stopping Condition Met\n",
      "   📍 Reason: Max iterations (21) reached.\n",
      "   📈 Results Summary\n",
      "   🏆 Best iteration found: 2\n",
      "   📊 Best spectrum difference: 1703.7920\n",
      "   🔗 Edges in best graph: 35449 (Real graph edges: 37304)\n",
      "Fitting successful - GIC: 0.3417, Best iteration: 2\n",
      "Fitted graph - Nodes: 4385, Edges: 35449\n",
      "\n",
      "==================== Processing Graph ====================\n",
      "Original graph - Nodes: 4648, Edges: 59382\n",
      "Running LG generation for d=1...\n"
     ]
    },
    {
     "data": {
      "application/vnd.jupyter.widget-view+json": {
       "model_id": "fafc4b85d5554eb4b68883990e91a88c",
       "version_major": 2,
       "version_minor": 0
      },
      "text/plain": [
       "🔄 Optimizing Graph:   0%|          | 0/18 [00:00<?, ?it/s] "
      ]
     },
     "metadata": {},
     "output_type": "display_data"
    },
    {
     "name": "stdout",
     "output_type": "stream",
     "text": [
      "⏰ Max iterations (18) reached. Stopping.\n",
      "\n",
      "🏁 Stopping Condition Met\n",
      "   📍 Reason: Max iterations (18) reached.\n",
      "   📈 Results Summary\n",
      "   🏆 Best iteration found: 8\n",
      "   📊 Best spectrum difference: 1742.2361\n",
      "   🔗 Edges in best graph: 54239 (Real graph edges: 59382)\n",
      "Fitting successful - GIC: 1.0981, Best iteration: 8\n",
      "Fitted graph - Nodes: 4648, Edges: 54239\n",
      "\n",
      "==================== Processing Graph ====================\n",
      "Original graph - Nodes: 6549, Edges: 112666\n",
      "Running LG generation for d=1...\n"
     ]
    },
    {
     "data": {
      "application/vnd.jupyter.widget-view+json": {
       "model_id": "be5451282e864bdc9eeacb6d3c655b47",
       "version_major": 2,
       "version_minor": 0
      },
      "text/plain": [
       "🔄 Optimizing Graph:   0%|          | 0/15 [00:00<?, ?it/s] "
      ]
     },
     "metadata": {},
     "output_type": "display_data"
    },
    {
     "name": "stdout",
     "output_type": "stream",
     "text": [
      "⏰ Max iterations (15) reached. Stopping.\n",
      "\n",
      "🏁 Stopping Condition Met\n",
      "   📍 Reason: Max iterations (15) reached.\n",
      "   📈 Results Summary\n",
      "   🏆 Best iteration found: 11\n",
      "   📊 Best spectrum difference: 3850.7218\n",
      "   🔗 Edges in best graph: 99952 (Real graph edges: 112666)\n",
      "Fitting successful - GIC: 0.3561, Best iteration: 11\n",
      "Fitted graph - Nodes: 6549, Edges: 99952\n",
      "\n",
      "==================== Processing Graph ====================\n",
      "Original graph - Nodes: 7126, Edges: 35324\n",
      "Running LG generation for d=1...\n"
     ]
    },
    {
     "data": {
      "application/vnd.jupyter.widget-view+json": {
       "model_id": "ae567681a4bf4470b911d2b957a0d388",
       "version_major": 2,
       "version_minor": 0
      },
      "text/plain": [
       "🔄 Optimizing Graph:   0%|          | 0/11 [00:00<?, ?it/s] "
      ]
     },
     "metadata": {},
     "output_type": "display_data"
    },
    {
     "name": "stdout",
     "output_type": "stream",
     "text": [
      "⏰ Max iterations (11) reached. Stopping.\n",
      "\n",
      "🏁 Stopping Condition Met\n",
      "   📍 Reason: Max iterations (11) reached.\n",
      "   📈 Results Summary\n",
      "   🏆 Best iteration found: 7\n",
      "   📊 Best spectrum difference: 839.2913\n",
      "   🔗 Edges in best graph: 32053 (Real graph edges: 35324)\n",
      "Fitting successful - GIC: 0.1501, Best iteration: 7\n",
      "Fitted graph - Nodes: 7126, Edges: 32053\n",
      "\n",
      "==================== Processing Graph ====================\n",
      "Original graph - Nodes: 9498, Edges: 153138\n",
      "Running LG generation for d=1...\n"
     ]
    },
    {
     "data": {
      "application/vnd.jupyter.widget-view+json": {
       "model_id": "6b00f0c246324770ba4938efeda894d8",
       "version_major": 2,
       "version_minor": 0
      },
      "text/plain": [
       "🔄 Optimizing Graph:   0%|          | 0/8 [00:00<?, ?it/s] "
      ]
     },
     "metadata": {},
     "output_type": "display_data"
    },
    {
     "name": "stdout",
     "output_type": "stream",
     "text": [
      "⏰ Max iterations (8) reached. Stopping.\n",
      "\n",
      "🏁 Stopping Condition Met\n",
      "   📍 Reason: Max iterations (8) reached.\n",
      "   📈 Results Summary\n",
      "   🏆 Best iteration found: 2\n",
      "   📊 Best spectrum difference: 5594.4609\n",
      "   🔗 Edges in best graph: 136544 (Real graph edges: 153138)\n",
      "Fitting successful - GIC: 0.6005, Best iteration: 2\n",
      "Fitted graph - Nodes: 9498, Edges: 136544\n"
     ]
    }
   ],
   "source": [
    "import gc\n",
    "comparators_lg = {}\n",
    "for i, graph_file in enumerate(graph_files):\n",
    "    original_graph = nx.read_edgelist(graph_file, nodetype=int)\n",
    "    n = original_graph.number_of_nodes()\n",
    "    e = original_graph.number_of_edges()\n",
    "\n",
    "    # # --- Erdős-Rényi (ER) Model ---\n",
    "    # p_opt = estimate_er_p(n, e)\n",
    "    # p_opt = p_opt * 0.9\n",
    "    # print(f\"ER p: {p_opt}\")\n",
    "    # fitter_params['er_p'] = p_opt\n",
    "\n",
    "    # --- Barabasi-Albert (BA) Model ---\n",
    "    m_opt = estimate_ba_m(n, e)\n",
    "    ba_graph = nx.barabasi_albert_graph(n=n, m=m_opt, seed=42)\n",
    "    # Randomly select 80% of edges and remove them\n",
    "    edges_to_remove = int(ba_graph.number_of_edges() * 0.1)\n",
    "    edges_to_remove = random.sample(list(ba_graph.edges()), edges_to_remove)\n",
    "    ba_graph.remove_edges_from(edges_to_remove)\n",
    "\n",
    "    fitter_params['init_graph'] = ba_graph\n",
    "    # Decrease linearly with graph_file len until reach 100\n",
    "    fitter_params['n_iteration'] = int(20 - 20 * (i / len(graph_files)) + 5)\n",
    "\n",
    "    lg_fitter = LogitGraphFitter(**fitter_params)\n",
    "    lg_fitter.fit(original_graph)\n",
    "\n",
    "    model_graphs = {\n",
    "        'LG': lg_fitter,\n",
    "    }\n",
    "    comparators_lg[os.path.basename(graph_file)] = model_graphs"
   ]
  },
  {
   "cell_type": "code",
   "execution_count": 65,
   "metadata": {},
   "outputs": [
    {
     "data": {
      "text/plain": [
       "{'PTBR_graph.edges': {'LG': <src.logit_graph.simulation.LogitGraphFitter at 0x2b398d9d0>},\n",
       " 'RU_graph.edges': {'LG': <src.logit_graph.simulation.LogitGraphFitter at 0x17cb40c10>},\n",
       " 'ES_graph.edges': {'LG': <src.logit_graph.simulation.LogitGraphFitter at 0x283da0970>},\n",
       " 'FR_graph.edges': {'LG': <src.logit_graph.simulation.LogitGraphFitter at 0x2a5360bb0>},\n",
       " 'ENGB_graph.edges': {'LG': <src.logit_graph.simulation.LogitGraphFitter at 0x282ae4670>},\n",
       " 'DE_graph.edges': {'LG': <src.logit_graph.simulation.LogitGraphFitter at 0x39adb3b20>}}"
      ]
     },
     "execution_count": 65,
     "metadata": {},
     "output_type": "execute_result"
    }
   ],
   "source": [
    "comparators_lg"
   ]
  },
  {
   "cell_type": "code",
   "execution_count": 138,
   "metadata": {},
   "outputs": [],
   "source": [
    "folder = 'runs/fitted_graphs_comparison_twitch_simple'\n",
    "os.makedirs(folder, exist_ok=True)\n",
    "with open(f'{folder}/comparators_lg.pkl', 'wb') as f:\n",
    "    pickle.dump(comparators_lg, f)"
   ]
  },
  {
   "cell_type": "code",
   "execution_count": 67,
   "metadata": {},
   "outputs": [
    {
     "data": {
      "text/plain": [
       "'finish'"
      ]
     },
     "execution_count": 67,
     "metadata": {},
     "output_type": "execute_result"
    }
   ],
   "source": [
    "'finish'"
   ]
  },
  {
   "cell_type": "markdown",
   "metadata": {},
   "source": [
    "### Load the data"
   ]
  },
  {
   "cell_type": "code",
   "execution_count": 139,
   "metadata": {},
   "outputs": [],
   "source": [
    "import pickle\n",
    "folder = 'runs/fitted_graphs_comparison_twitch_simple'\n",
    "os.makedirs(folder, exist_ok=True)\n",
    "with open(f'{folder}/comparators_lg.pkl', 'rb') as f:\n",
    "    comparators_lg = pickle.load(f)\n",
    "with open(f'{folder}/gic_results.pkl', 'rb') as f:\n",
    "    gic_results = pickle.load(f)\n",
    "with open(f'{folder}/comparators.pkl', 'rb') as f:\n",
    "    comparators = pickle.load(f)\n",
    "    "
   ]
  },
  {
   "cell_type": "code",
   "execution_count": 140,
   "metadata": {},
   "outputs": [],
   "source": [
    "# Create lists to store the data\n",
    "data = []\n",
    "\n",
    "# Iterate through each graph\n",
    "for graph_name in comparators_lg.keys():\n",
    "    row = {\n",
    "        'graph': graph_name\n",
    "    }\n",
    "    \n",
    "    # Add metrics from LogitGraphFitter\n",
    "    lg_model = comparators_lg[graph_name]['LG']\n",
    "\n",
    "    # Read the original graph\n",
    "    graph_file = '../../data/twitch/graphs_processed/'+graph_name\n",
    "    original_graph = nx.read_edgelist(graph_file, nodetype=int)\n",
    "\n",
    "    # Add metrics for the original graph\n",
    "    row.update({\n",
    "        'true_nodes': original_graph.number_of_nodes(),\n",
    "        'true_edges': original_graph.number_of_edges(),\n",
    "        'true_density': nx.density(original_graph),\n",
    "        'true_avg_clustering': nx.average_clustering(original_graph),\n",
    "        'true_avg_degree': sum(dict(original_graph.degree()).values())/original_graph.number_of_nodes()\n",
    "    })\n",
    "\n",
    "    # Add metrics for LogitGraph\n",
    "    lg_graph = lg_model.fitted_graph\n",
    "    row.update({\n",
    "        'lg_edges': lg_graph.number_of_edges(),\n",
    "        'lg_density': nx.density(lg_graph),\n",
    "        'lg_avg_clustering': nx.average_clustering(lg_graph),\n",
    "        'lg_avg_degree': sum(dict(lg_graph.degree()).values())/lg_graph.number_of_nodes()\n",
    "    })\n",
    "            \n",
    "    # Add metrics from other graph families in comparators\n",
    "    if graph_name in comparators:\n",
    "        for model_name, model in comparators[graph_name].items():\n",
    "                graph = comparators[graph_name][model_name]\n",
    "                row[f'{model_name}_edges'] = graph.number_of_edges()\n",
    "                row[f'{model_name}_density'] = nx.density(graph)\n",
    "                row[f'{model_name}_avg_clustering'] = nx.average_clustering(graph)\n",
    "                row[f'{model_name}_avg_degree'] = sum(dict(graph.degree()).values())/graph.number_of_nodes()\n",
    "        \n",
    "    data.append(row)\n",
    "\n",
    "results_df = pd.DataFrame(data)"
   ]
  },
  {
   "cell_type": "code",
   "execution_count": 143,
   "metadata": {},
   "outputs": [],
   "source": [
    "results_df.to_csv(f'{folder}/results_df.csv', index=False)\n"
   ]
  },
  {
   "cell_type": "code",
   "execution_count": 144,
   "metadata": {},
   "outputs": [
    {
     "data": {
      "text/html": [
       "<div>\n",
       "<style scoped>\n",
       "    .dataframe tbody tr th:only-of-type {\n",
       "        vertical-align: middle;\n",
       "    }\n",
       "\n",
       "    .dataframe tbody tr th {\n",
       "        vertical-align: top;\n",
       "    }\n",
       "\n",
       "    .dataframe thead th {\n",
       "        text-align: right;\n",
       "    }\n",
       "</style>\n",
       "<table border=\"1\" class=\"dataframe\">\n",
       "  <thead>\n",
       "    <tr style=\"text-align: right;\">\n",
       "      <th></th>\n",
       "      <th>graph</th>\n",
       "      <th>true_nodes</th>\n",
       "      <th>true_edges</th>\n",
       "      <th>true_density</th>\n",
       "      <th>true_avg_clustering</th>\n",
       "      <th>true_avg_degree</th>\n",
       "      <th>lg_edges</th>\n",
       "      <th>lg_density</th>\n",
       "      <th>lg_avg_clustering</th>\n",
       "      <th>lg_avg_degree</th>\n",
       "      <th>...</th>\n",
       "      <th>BA_avg_clustering</th>\n",
       "      <th>BA_avg_degree</th>\n",
       "      <th>ER_edges</th>\n",
       "      <th>ER_density</th>\n",
       "      <th>ER_avg_clustering</th>\n",
       "      <th>ER_avg_degree</th>\n",
       "      <th>WS_edges</th>\n",
       "      <th>WS_density</th>\n",
       "      <th>WS_avg_clustering</th>\n",
       "      <th>WS_avg_degree</th>\n",
       "    </tr>\n",
       "  </thead>\n",
       "  <tbody>\n",
       "    <tr>\n",
       "      <th>0</th>\n",
       "      <td>PTBR_graph.edges</td>\n",
       "      <td>1912</td>\n",
       "      <td>31299</td>\n",
       "      <td>0.017132</td>\n",
       "      <td>0.319895</td>\n",
       "      <td>32.739540</td>\n",
       "      <td>27327</td>\n",
       "      <td>0.014958</td>\n",
       "      <td>0.046809</td>\n",
       "      <td>28.584728</td>\n",
       "      <td>...</td>\n",
       "      <td>0.052372</td>\n",
       "      <td>31.732218</td>\n",
       "      <td>31275</td>\n",
       "      <td>0.017119</td>\n",
       "      <td>0.017308</td>\n",
       "      <td>32.714435</td>\n",
       "      <td>30592</td>\n",
       "      <td>0.016745</td>\n",
       "      <td>0.531481</td>\n",
       "      <td>32.0</td>\n",
       "    </tr>\n",
       "    <tr>\n",
       "      <th>1</th>\n",
       "      <td>RU_graph.edges</td>\n",
       "      <td>4385</td>\n",
       "      <td>37304</td>\n",
       "      <td>0.003881</td>\n",
       "      <td>0.165797</td>\n",
       "      <td>17.014367</td>\n",
       "      <td>35449</td>\n",
       "      <td>0.003688</td>\n",
       "      <td>0.017086</td>\n",
       "      <td>16.168301</td>\n",
       "      <td>...</td>\n",
       "      <td>0.018523</td>\n",
       "      <td>17.963056</td>\n",
       "      <td>36933</td>\n",
       "      <td>0.003842</td>\n",
       "      <td>0.003810</td>\n",
       "      <td>16.845154</td>\n",
       "      <td>39465</td>\n",
       "      <td>0.004106</td>\n",
       "      <td>0.514314</td>\n",
       "      <td>18.0</td>\n",
       "    </tr>\n",
       "    <tr>\n",
       "      <th>2</th>\n",
       "      <td>ES_graph.edges</td>\n",
       "      <td>4648</td>\n",
       "      <td>59382</td>\n",
       "      <td>0.005499</td>\n",
       "      <td>0.222496</td>\n",
       "      <td>25.551635</td>\n",
       "      <td>54239</td>\n",
       "      <td>0.005022</td>\n",
       "      <td>0.021625</td>\n",
       "      <td>23.338640</td>\n",
       "      <td>...</td>\n",
       "      <td>0.024169</td>\n",
       "      <td>25.927281</td>\n",
       "      <td>59096</td>\n",
       "      <td>0.005472</td>\n",
       "      <td>0.005428</td>\n",
       "      <td>25.428571</td>\n",
       "      <td>60424</td>\n",
       "      <td>0.005595</td>\n",
       "      <td>0.523867</td>\n",
       "      <td>26.0</td>\n",
       "    </tr>\n",
       "    <tr>\n",
       "      <th>3</th>\n",
       "      <td>FR_graph.edges</td>\n",
       "      <td>6549</td>\n",
       "      <td>112666</td>\n",
       "      <td>0.005255</td>\n",
       "      <td>0.221706</td>\n",
       "      <td>34.407085</td>\n",
       "      <td>99952</td>\n",
       "      <td>0.004662</td>\n",
       "      <td>0.020064</td>\n",
       "      <td>30.524355</td>\n",
       "      <td>...</td>\n",
       "      <td>0.022226</td>\n",
       "      <td>33.911742</td>\n",
       "      <td>112358</td>\n",
       "      <td>0.005240</td>\n",
       "      <td>0.005197</td>\n",
       "      <td>34.313025</td>\n",
       "      <td>111333</td>\n",
       "      <td>0.005192</td>\n",
       "      <td>0.530813</td>\n",
       "      <td>34.0</td>\n",
       "    </tr>\n",
       "    <tr>\n",
       "      <th>4</th>\n",
       "      <td>ENGB_graph.edges</td>\n",
       "      <td>7126</td>\n",
       "      <td>35324</td>\n",
       "      <td>0.001391</td>\n",
       "      <td>0.130928</td>\n",
       "      <td>9.914117</td>\n",
       "      <td>32053</td>\n",
       "      <td>0.001263</td>\n",
       "      <td>0.009793</td>\n",
       "      <td>8.996071</td>\n",
       "      <td>...</td>\n",
       "      <td>0.010746</td>\n",
       "      <td>9.992983</td>\n",
       "      <td>35025</td>\n",
       "      <td>0.001380</td>\n",
       "      <td>0.001439</td>\n",
       "      <td>9.830199</td>\n",
       "      <td>35630</td>\n",
       "      <td>0.001404</td>\n",
       "      <td>0.489491</td>\n",
       "      <td>10.0</td>\n",
       "    </tr>\n",
       "    <tr>\n",
       "      <th>5</th>\n",
       "      <td>DE_graph.edges</td>\n",
       "      <td>9498</td>\n",
       "      <td>153138</td>\n",
       "      <td>0.003395</td>\n",
       "      <td>0.200886</td>\n",
       "      <td>32.246368</td>\n",
       "      <td>136544</td>\n",
       "      <td>0.003027</td>\n",
       "      <td>0.014137</td>\n",
       "      <td>28.752158</td>\n",
       "      <td>...</td>\n",
       "      <td>0.015686</td>\n",
       "      <td>31.946094</td>\n",
       "      <td>153256</td>\n",
       "      <td>0.003398</td>\n",
       "      <td>0.003408</td>\n",
       "      <td>32.271215</td>\n",
       "      <td>151968</td>\n",
       "      <td>0.003369</td>\n",
       "      <td>0.529149</td>\n",
       "      <td>32.0</td>\n",
       "    </tr>\n",
       "  </tbody>\n",
       "</table>\n",
       "<p>6 rows × 22 columns</p>\n",
       "</div>"
      ],
      "text/plain": [
       "              graph  true_nodes  true_edges  true_density  \\\n",
       "0  PTBR_graph.edges        1912       31299      0.017132   \n",
       "1    RU_graph.edges        4385       37304      0.003881   \n",
       "2    ES_graph.edges        4648       59382      0.005499   \n",
       "3    FR_graph.edges        6549      112666      0.005255   \n",
       "4  ENGB_graph.edges        7126       35324      0.001391   \n",
       "5    DE_graph.edges        9498      153138      0.003395   \n",
       "\n",
       "   true_avg_clustering  true_avg_degree  lg_edges  lg_density  \\\n",
       "0             0.319895        32.739540     27327    0.014958   \n",
       "1             0.165797        17.014367     35449    0.003688   \n",
       "2             0.222496        25.551635     54239    0.005022   \n",
       "3             0.221706        34.407085     99952    0.004662   \n",
       "4             0.130928         9.914117     32053    0.001263   \n",
       "5             0.200886        32.246368    136544    0.003027   \n",
       "\n",
       "   lg_avg_clustering  lg_avg_degree  ...  BA_avg_clustering  BA_avg_degree  \\\n",
       "0           0.046809      28.584728  ...           0.052372      31.732218   \n",
       "1           0.017086      16.168301  ...           0.018523      17.963056   \n",
       "2           0.021625      23.338640  ...           0.024169      25.927281   \n",
       "3           0.020064      30.524355  ...           0.022226      33.911742   \n",
       "4           0.009793       8.996071  ...           0.010746       9.992983   \n",
       "5           0.014137      28.752158  ...           0.015686      31.946094   \n",
       "\n",
       "   ER_edges  ER_density  ER_avg_clustering  ER_avg_degree  WS_edges  \\\n",
       "0     31275    0.017119           0.017308      32.714435     30592   \n",
       "1     36933    0.003842           0.003810      16.845154     39465   \n",
       "2     59096    0.005472           0.005428      25.428571     60424   \n",
       "3    112358    0.005240           0.005197      34.313025    111333   \n",
       "4     35025    0.001380           0.001439       9.830199     35630   \n",
       "5    153256    0.003398           0.003408      32.271215    151968   \n",
       "\n",
       "   WS_density  WS_avg_clustering  WS_avg_degree  \n",
       "0    0.016745           0.531481           32.0  \n",
       "1    0.004106           0.514314           18.0  \n",
       "2    0.005595           0.523867           26.0  \n",
       "3    0.005192           0.530813           34.0  \n",
       "4    0.001404           0.489491           10.0  \n",
       "5    0.003369           0.529149           32.0  \n",
       "\n",
       "[6 rows x 22 columns]"
      ]
     },
     "execution_count": 144,
     "metadata": {},
     "output_type": "execute_result"
    }
   ],
   "source": [
    "results_df"
   ]
  },
  {
   "cell_type": "code",
   "execution_count": 142,
   "metadata": {},
   "outputs": [
    {
     "data": {
      "text/plain": [
       "'finish'"
      ]
     },
     "execution_count": 142,
     "metadata": {},
     "output_type": "execute_result"
    }
   ],
   "source": [
    "'finish'"
   ]
  },
  {
   "cell_type": "code",
   "execution_count": null,
   "metadata": {},
   "outputs": [],
   "source": []
  },
  {
   "cell_type": "code",
   "execution_count": null,
   "metadata": {},
   "outputs": [],
   "source": []
  },
  {
   "cell_type": "code",
   "execution_count": null,
   "metadata": {},
   "outputs": [],
   "source": []
  },
  {
   "cell_type": "code",
   "execution_count": null,
   "metadata": {},
   "outputs": [],
   "source": []
  }
 ],
 "metadata": {
  "kernelspec": {
   "display_name": "logit_graph",
   "language": "python",
   "name": "python3"
  },
  "language_info": {
   "codemirror_mode": {
    "name": "ipython",
    "version": 3
   },
   "file_extension": ".py",
   "mimetype": "text/x-python",
   "name": "python",
   "nbconvert_exporter": "python",
   "pygments_lexer": "ipython3",
   "version": "3.8.16"
  }
 },
 "nbformat": 4,
 "nbformat_minor": 2
}
