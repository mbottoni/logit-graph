{
 "cells": [
  {
   "cell_type": "code",
   "execution_count": 1,
   "metadata": {},
   "outputs": [],
   "source": [
    "%load_ext autoreload\n",
    "%autoreload 2"
   ]
  },
  {
   "cell_type": "markdown",
   "metadata": {},
   "source": [
    "here the objective is to fit the logit graph model to multiple different graph domains and then visualize the original vs fitted graphs"
   ]
  },
  {
   "cell_type": "code",
   "execution_count": 2,
   "metadata": {},
   "outputs": [],
   "source": [
    "\n",
    "import sys\n",
    "import os\n",
    "\n",
    "#Graph imports\n",
    "sys.path.append('../..')\n",
    "import src.logit_graph.graph as graph\n",
    "import src.logit_graph.logit_estimator as estimator\n",
    "import src.logit_graph.utils as utils\n",
    "import src.logit_graph.model_selection as model_selection\n",
    "import src.logit_graph.gic as gic\n",
    "import src.logit_graph.param_estimator as pe\n",
    "import src.logit_graph.graph as graph\n",
    "import src.logit_graph.model_selection as ms\n",
    "\n",
    "from src.logit_graph.simulation import LogitGraphFitter, GraphModelComparator\n",
    "\n",
    "# usual imports\n",
    "import matplotlib.pyplot as plt\n",
    "import pickle\n",
    "import math\n",
    "import matplotlib.pyplot as plt\n",
    "from scipy import stats\n",
    "from scipy.stats import gaussian_kde\n",
    "import numpy as np\n",
    "import pandas as pd\n",
    "import seaborn as sns\n",
    "import gc\n",
    "import random\n",
    "import networkx as nx\n",
    "from numpy import errstate\n",
    "\n",
    "from IPython.display import display\n",
    "from pyvis.network import Network\n",
    "from mpl_toolkits.axes_grid1 import make_axes_locatable\n"
   ]
  },
  {
   "cell_type": "code",
   "execution_count": 3,
   "metadata": {},
   "outputs": [
    {
     "data": {
      "text/plain": [
       "['RU',\n",
       " 'ENGB',\n",
       " 'citing.txt',\n",
       " 'PTBR',\n",
       " 'DE',\n",
       " 'README.txt',\n",
       " 'FR',\n",
       " 'ES',\n",
       " 'graphs_processed']"
      ]
     },
     "execution_count": 3,
     "metadata": {},
     "output_type": "execute_result"
    }
   ],
   "source": [
    "data_directory = f'../../data/twitch/'\n",
    "os.listdir(data_directory)"
   ]
  },
  {
   "cell_type": "markdown",
   "metadata": {},
   "source": [
    "### Comparison other models\n",
    "\n",
    "comparing multiple models excluding the simulation of LG because it was alaready simulated"
   ]
  },
  {
   "cell_type": "code",
   "execution_count": 4,
   "metadata": {},
   "outputs": [
    {
     "data": {
      "text/plain": [
       "['../../data/twitch/graphs_processed/PTBR_graph.edges',\n",
       " '../../data/twitch/graphs_processed/RU_graph.edges',\n",
       " '../../data/twitch/graphs_processed/ES_graph.edges',\n",
       " '../../data/twitch/graphs_processed/FR_graph.edges',\n",
       " '../../data/twitch/graphs_processed/ENGB_graph.edges',\n",
       " '../../data/twitch/graphs_processed/DE_graph.edges']"
      ]
     },
     "execution_count": 4,
     "metadata": {},
     "output_type": "execute_result"
    }
   ],
   "source": [
    "graph_files = os.listdir(f'{data_directory}/graphs_processed')\n",
    "graph_files = [os.path.join(data_directory, 'graphs_processed', f) for f in graph_files]\n",
    "\n",
    "graph_files_with_sizes = []\n",
    "for graph_file in graph_files:\n",
    "    try:\n",
    "        g = nx.read_edgelist(graph_file, nodetype=int)\n",
    "        graph_files_with_sizes.append((graph_file, g.number_of_nodes()))\n",
    "    except:\n",
    "        graph_files_with_sizes.append((graph_file, 0))\n",
    "\n",
    "graph_files_with_sizes.sort(key=lambda x: x[1])\n",
    "graph_files = [f for f, _ in graph_files_with_sizes]\n",
    "graph_files"
   ]
  },
  {
   "cell_type": "code",
   "execution_count": 8,
   "metadata": {},
   "outputs": [
    {
     "name": "stdout",
     "output_type": "stream",
     "text": [
      "PTBR_graph.edges: n=1912, e=31299\n",
      "  BA -> m*=16, edges=30336\n",
      "  ER -> p*=0.0171, edges=31275\n",
      "  WS -> k*=32, p=0.1, edges=30592\n",
      "RU_graph.edges: n=4385, e=37304\n",
      "  BA -> m*=9, edges=39384\n",
      "  ER -> p*=0.0039, edges=36933\n",
      "  WS -> k*=18, p=0.1, edges=39465\n",
      "ES_graph.edges: n=4648, e=59382\n",
      "  BA -> m*=13, edges=60255\n",
      "  ER -> p*=0.0055, edges=59096\n",
      "  WS -> k*=26, p=0.1, edges=60424\n",
      "FR_graph.edges: n=6549, e=112666\n",
      "  BA -> m*=17, edges=111044\n",
      "  ER -> p*=0.0053, edges=112358\n",
      "  WS -> k*=34, p=0.1, edges=111333\n",
      "ENGB_graph.edges: n=7126, e=35324\n",
      "  BA -> m*=5, edges=35605\n",
      "  ER -> p*=0.0014, edges=35025\n",
      "  WS -> k*=10, p=0.1, edges=35630\n",
      "DE_graph.edges: n=9498, e=153138\n",
      "  BA -> m*=16, edges=151712\n",
      "  ER -> p*=0.0034, edges=153256\n",
      "  WS -> k*=32, p=0.1, edges=151968\n"
     ]
    }
   ],
   "source": [
    "import os\n",
    "import math\n",
    "import networkx as nx\n",
    "\n",
    "# --- Provided Setup ---\n",
    "comparators = {}\n",
    "folder_name = 'runs/fitted_graphs_comparison_twitch'\n",
    "os.makedirs(folder_name, exist_ok=True)\n",
    "\n",
    "# --- Barabasi-Albert (BA) Model Functions (Provided) ---\n",
    "def _expected_ba_edges(n, m):\n",
    "    # networkx.barabasi_albert_graph starts with a complete graph of m nodes,\n",
    "    # then adds (n - m) nodes, each with m edges\n",
    "    return m * (n - m) + (m * (m - 1)) // 2\n",
    "\n",
    "def estimate_ba_m(n, e):\n",
    "    # Solve: m^2 - (2n - 1)m + 2e = 0\n",
    "    D = (2 * n - 1) ** 2 - 8 * e\n",
    "    candidates = []\n",
    "    if D >= 0:\n",
    "        m_real = ((2 * n - 1) - math.sqrt(D)) / 2.0\n",
    "        candidates.extend([math.floor(m_real), math.ceil(m_real)])\n",
    "    # heuristic fallback\n",
    "    candidates.append(round(e / n if n > 0 else 1))\n",
    "    # expand neighborhood and clamp\n",
    "    uniq = set(int(m) for m in candidates)\n",
    "    expanded = set()\n",
    "    for m in uniq:\n",
    "        for dm in (-1, 0, 1):\n",
    "            expanded.add(m + dm)\n",
    "    valid = [m for m in expanded if 1 <= m < n]\n",
    "    if not valid:\n",
    "        return 1\n",
    "    # pick m minimizing edge discrepancy\n",
    "    best_m = min(valid, key=lambda m: abs(_expected_ba_edges(n, m) - e))\n",
    "    return best_m\n",
    "\n",
    "# --- Erdős-Rényi (ER) Model Estimation ---\n",
    "\n",
    "def estimate_er_p(n, e):\n",
    "    \"\"\"Estimates the optimal edge probability 'p' for an Erdős-Rényi graph.\"\"\"\n",
    "    if n < 2:\n",
    "        return 0.0\n",
    "    # Expected edges E = p * C(n, 2) => p = E / C(n, 2)\n",
    "    p = (2 * e) / (n * (n - 1))\n",
    "    # Clamp p to the valid probability range [0, 1]\n",
    "    return max(0.0, min(1.0, p))\n",
    "\n",
    "# --- Watts-Strogatz (WS) Model Estimation ---\n",
    "\n",
    "def estimate_ws_params(n, e):\n",
    "    \"\"\"\n",
    "    Estimates optimal parameters 'k' and 'p' for a Watts-Strogatz graph.\n",
    "    'k' is chosen to best match the edge count. 'p' is set to a default value.\n",
    "    \"\"\"\n",
    "    # WS graph requires n > k, and k must be an even integer >= 2.\n",
    "    if n <= 2:\n",
    "        return 0, 0.1\n",
    "\n",
    "    # The number of edges in a WS graph is exactly n*k/2.\n",
    "    # We find the even integer 'k' that makes n*k/2 closest to e.\n",
    "    k_target = 2 * e / n\n",
    "    \n",
    "    # Check the two nearest even integers to the target average degree.\n",
    "    k_floor = int(k_target // 2 * 2)\n",
    "    k_ceil = int(k_target // 2 * 2 + 2)\n",
    "\n",
    "    candidates = [k for k in [k_floor, k_ceil] if 2 <= k < n]\n",
    "\n",
    "    if not candidates:\n",
    "        # Fallback if no valid k can be found (e.g., n is too small).\n",
    "        return (2, 0.1) if n > 2 else (0, 0.1)\n",
    "\n",
    "    # Pick the candidate 'k' that minimizes the edge discrepancy.\n",
    "    best_k = min(candidates, key=lambda k: abs(n * k / 2 - e))\n",
    "\n",
    "    # The rewiring probability 'p' cannot be determined from n and e alone.\n",
    "    # A common default value for generating small-world networks is used.\n",
    "    p = 0.1\n",
    "    \n",
    "    return best_k, p\n",
    "\n",
    "# --- Main Loop for Graph Generation and Comparison ---\n",
    "\n",
    "for graph_file in graph_files:\n",
    "    original_graph = nx.read_edgelist(graph_file, nodetype=int)\n",
    "    n = original_graph.number_of_nodes()\n",
    "    e = original_graph.number_of_edges()\n",
    "\n",
    "    # --- Barabasi-Albert (BA) Model ---\n",
    "    m_opt = estimate_ba_m(n, e)\n",
    "    ba_graph = nx.barabasi_albert_graph(n=n, m=m_opt, seed=42)\n",
    "\n",
    "    # --- Erdős-Rényi (ER) Model ---\n",
    "    p_opt = estimate_er_p(n, e)\n",
    "    er_graph = nx.erdos_renyi_graph(n=n, p=p_opt, seed=42)\n",
    "    \n",
    "    # --- Watts-Strogatz (WS) Model ---\n",
    "    k_opt, p_ws = estimate_ws_params(n, e)\n",
    "    if k_opt > 0:\n",
    "        ws_graph = nx.watts_strogatz_graph(n=n, k=k_opt, p=p_ws, seed=42)\n",
    "    else:\n",
    "        # Create an empty graph if a valid k could not be found.\n",
    "        ws_graph = nx.Graph()\n",
    "        ws_graph.add_nodes_from(range(n))\n",
    "\n",
    "    # Store all generated model graphs for comparison\n",
    "    model_graphs = {\n",
    "        'BA': ba_graph,\n",
    "        'ER': er_graph,\n",
    "        'WS': ws_graph\n",
    "    }\n",
    "    comparators[os.path.basename(graph_file)] = model_graphs\n",
    "\n",
    "    # Print a summary of the fitted parameters and resulting edge counts\n",
    "    print(\n",
    "        f\"{os.path.basename(graph_file)}: n={n}, e={e}\\n\"\n",
    "        f\"  BA -> m*={m_opt}, edges={ba_graph.number_of_edges()}\\n\"\n",
    "        f\"  ER -> p*={p_opt:.4f}, edges={er_graph.number_of_edges()}\\n\"\n",
    "        f\"  WS -> k*={k_opt}, p={p_ws}, edges={ws_graph.number_of_edges()}\"\n",
    "    )"
   ]
  },
  {
   "cell_type": "code",
   "execution_count": 11,
   "metadata": {},
   "outputs": [
    {
     "name": "stdout",
     "output_type": "stream",
     "text": [
      "PTBR_graph.edges: GIC_KL(real vs BA) = 0.642153\n",
      "PTBR_graph.edges: GIC_KL(real vs ER) = 0.641195\n",
      "PTBR_graph.edges: GIC_KL(real vs WS) = 0.454637\n",
      "RU_graph.edges: GIC_KL(real vs BA) = 0.350353\n",
      "RU_graph.edges: GIC_KL(real vs ER) = 0.332763\n",
      "RU_graph.edges: GIC_KL(real vs WS) = 1.214782\n",
      "ES_graph.edges: GIC_KL(real vs BA) = 1.094191\n",
      "ES_graph.edges: GIC_KL(real vs ER) = 1.090295\n",
      "ES_graph.edges: GIC_KL(real vs WS) = 0.696158\n",
      "FR_graph.edges: GIC_KL(real vs BA) = 0.343022\n",
      "FR_graph.edges: GIC_KL(real vs ER) = 0.343815\n",
      "FR_graph.edges: GIC_KL(real vs WS) = 0.387554\n",
      "ENGB_graph.edges: GIC_KL(real vs BA) = 1.158150\n",
      "ENGB_graph.edges: GIC_KL(real vs ER) = 0.284632\n",
      "ENGB_graph.edges: GIC_KL(real vs WS) = 0.704208\n",
      "DE_graph.edges: GIC_KL(real vs BA) = 0.590522\n",
      "DE_graph.edges: GIC_KL(real vs ER) = 0.591768\n",
      "DE_graph.edges: GIC_KL(real vs WS) = 0.532612\n"
     ]
    }
   ],
   "source": [
    "# Compute GIC (KL) between real graphs and all model simulations\n",
    "from math import isfinite\n",
    "\n",
    "gic_results = {}\n",
    "for graph_file in graph_files:\n",
    "    basename = os.path.basename(graph_file)\n",
    "    if basename not in comparators:\n",
    "        continue\n",
    "        \n",
    "    original_graph = nx.read_edgelist(graph_file, nodetype=int)\n",
    "    \n",
    "    # Initialize results dictionary for this graph\n",
    "    gic_results[basename] = {}\n",
    "    \n",
    "    # Compute GIC for each model type\n",
    "    for model_name in ['BA', 'ER', 'WS']:\n",
    "        if model_name not in comparators[basename]:\n",
    "            continue\n",
    "            \n",
    "        model_graph = comparators[basename][model_name]\n",
    "        \n",
    "        gic_calc = gic.GraphInformationCriterion(original_graph, model=model_name, dist='KL')\n",
    "        model_den, _ = gic_calc.compute_spectral_density(model_graph)\n",
    "        gic_value = gic_calc.calculate_gic(model_den=model_den)\n",
    "        \n",
    "        gic_results[basename][model_name] = gic_value\n",
    "        print(f\"{basename}: GIC_KL(real vs {model_name}) = {gic_value:.6f}\")"
   ]
  },
  {
   "cell_type": "code",
   "execution_count": 12,
   "metadata": {},
   "outputs": [],
   "source": [
    "# Save the gic results and the comparators\n",
    "import pickle\n",
    "with open('gic_results.pkl', 'wb') as f:\n",
    "    pickle.dump(gic_results, f)\n",
    "with open('comparators.pkl', 'wb') as f:\n",
    "    pickle.dump(comparators, f)\n"
   ]
  },
  {
   "cell_type": "code",
   "execution_count": 13,
   "metadata": {},
   "outputs": [],
   "source": [
    "#TODO: Get the LG graph already fiteed ont he folder\n",
    "folder_name = 'runs/fitted_graphs_comparison_twitch'\n",
    "os.makedirs(folder_name, exist_ok=True)"
   ]
  },
  {
   "cell_type": "code",
   "execution_count": null,
   "metadata": {},
   "outputs": [],
   "source": [
    "sim_params = {\n",
    "    \"d_list\": [0, 1],\n",
    "    \"lg_params\": {\n",
    "        \"max_iterations\": 8000,\n",
    "        \"patience\": 10,\n",
    "        \"gic_dist_type\": 'KL',\n",
    "        \"er_p\": 0.01,\n",
    "        \"min_gic_threshold\": 0.1,\n",
    "        \"edge_delta\": 50,\n",
    "        \"verbose\": True,\n",
    "    },\n",
    "    \"other_model_n_runs\": 5,\n",
    "    \"other_model_params\": [\n",
    "        {'lo': 0.01, 'hi': 0.2},  # ER (probability) — must be first\n",
    "        {'k': {'lo': 2, 'hi': 3, 'step': 1}, 'p': {'lo': 0.01, 'hi': 0.2}},  # WS\n",
    "        {'lo': 1, 'hi': 3},  # GRG (radius/alpha)\n",
    "        {'lo': 1, 'hi': 3},  # BA (m)\n",
    "    ],\n",
    "    \"verbose\": True,\n",
    "}\n",
    "\n",
    "fitter_params = {\n",
    "    \"d\": 1,\n",
    "    \"n_iteration\": 100,\n",
    "    \"patience\": 10,\n",
    "    \"er_p\": 0.01,\n",
    "    \"edge_delta\": 50,\n",
    "    \"min_gic_threshold\": 0.1,\n",
    "    \"init_graph\": None,\n",
    "    \"verbose\": True\n",
    "}\n"
   ]
  },
  {
   "cell_type": "code",
   "execution_count": null,
   "metadata": {},
   "outputs": [
    {
     "name": "stdout",
     "output_type": "stream",
     "text": [
      "ER p: 0.015418935517560744\n",
      "\n",
      "==================== Processing Graph ====================\n",
      "Original graph - Nodes: 1912, Edges: 31299\n",
      "Running LG generation for d=1...\n"
     ]
    },
    {
     "data": {
      "application/vnd.jupyter.widget-view+json": {
       "model_id": "cac6dbb7fd2e434b9bc2d140c353c923",
       "version_major": 2,
       "version_minor": 0
      },
      "text/plain": [
       "🔄 Optimizing Graph:   0%|          | 0/100 [00:00<?, ?it/s] "
      ]
     },
     "metadata": {},
     "output_type": "display_data"
    },
    {
     "name": "stdout",
     "output_type": "stream",
     "text": [
      "⏰ Max iterations (100) reached. Stopping.\n",
      "\n",
      "🏁 Stopping Condition Met\n",
      "   📍 Reason: Max iterations (100) reached.\n",
      "   📈 Results Summary\n",
      "   🏆 Best iteration found: 91\n",
      "   📊 Best spectrum difference: 2237.7644\n",
      "   🔗 Edges in best graph: 28293 (Real graph edges: 31299)\n",
      "Fitting successful - GIC: 0.6594, Best iteration: 91\n",
      "Fitted graph - Nodes: 1912, Edges: 28293\n",
      "ER p: 0.0034929129664000532\n",
      "\n",
      "==================== Processing Graph ====================\n",
      "Original graph - Nodes: 4385, Edges: 37304\n"
     ]
    },
    {
     "ename": "KeyboardInterrupt",
     "evalue": "",
     "output_type": "error",
     "traceback": [
      "\u001b[0;31m---------------------------------------------------------------------------\u001b[0m",
      "\u001b[0;31mKeyboardInterrupt\u001b[0m                         Traceback (most recent call last)",
      "Cell \u001b[0;32mIn[31], line 15\u001b[0m\n\u001b[1;32m     12\u001b[0m fitter_params[\u001b[38;5;124m'\u001b[39m\u001b[38;5;124mer_p\u001b[39m\u001b[38;5;124m'\u001b[39m] \u001b[38;5;241m=\u001b[39m p_opt\n\u001b[1;32m     14\u001b[0m lg_fitter \u001b[38;5;241m=\u001b[39m LogitGraphFitter(\u001b[38;5;241m*\u001b[39m\u001b[38;5;241m*\u001b[39mfitter_params)\n\u001b[0;32m---> 15\u001b[0m \u001b[43mlg_fitter\u001b[49m\u001b[38;5;241;43m.\u001b[39;49m\u001b[43mfit\u001b[49m\u001b[43m(\u001b[49m\u001b[43moriginal_graph\u001b[49m\u001b[43m)\u001b[49m\n\u001b[1;32m     17\u001b[0m model_graphs \u001b[38;5;241m=\u001b[39m {\n\u001b[1;32m     18\u001b[0m     \u001b[38;5;124m'\u001b[39m\u001b[38;5;124mLG\u001b[39m\u001b[38;5;124m'\u001b[39m: lg_fitter,\n\u001b[1;32m     19\u001b[0m }\n\u001b[1;32m     20\u001b[0m comparators[os\u001b[38;5;241m.\u001b[39mpath\u001b[38;5;241m.\u001b[39mbasename(graph_file)] \u001b[38;5;241m=\u001b[39m model_graphs\n",
      "File \u001b[0;32m~/home/master/research/logit-graph/notebooks/misc_datasets/../../src/logit_graph/simulation.py:257\u001b[0m, in \u001b[0;36mLogitGraphFitter.fit\u001b[0;34m(self, original_graph)\u001b[0m\n\u001b[1;32m    254\u001b[0m \u001b[38;5;28;01mtry\u001b[39;00m:\n\u001b[1;32m    255\u001b[0m     adj_matrix \u001b[38;5;241m=\u001b[39m nx\u001b[38;5;241m.\u001b[39mto_numpy_array(original_graph)\n\u001b[0;32m--> 257\u001b[0m     best_graph_arr, sigma, gic_val, spectrum_diffs, edge_diffs, best_iter, all_graphs, gic_values \u001b[38;5;241m=\u001b[39m \u001b[38;5;28;43mself\u001b[39;49m\u001b[38;5;241;43m.\u001b[39;49m\u001b[43m_generate_graph\u001b[49m\u001b[43m(\u001b[49m\u001b[43madj_matrix\u001b[49m\u001b[43m)\u001b[49m\n\u001b[1;32m    259\u001b[0m     \u001b[38;5;28mself\u001b[39m\u001b[38;5;241m.\u001b[39mfitted_graph \u001b[38;5;241m=\u001b[39m nx\u001b[38;5;241m.\u001b[39mfrom_numpy_array(best_graph_arr)\n\u001b[1;32m    261\u001b[0m     \u001b[38;5;28mself\u001b[39m\u001b[38;5;241m.\u001b[39mmetadata\u001b[38;5;241m.\u001b[39mupdate({\n\u001b[1;32m    262\u001b[0m         \u001b[38;5;124m'\u001b[39m\u001b[38;5;124mfit_success\u001b[39m\u001b[38;5;124m'\u001b[39m: \u001b[38;5;28;01mTrue\u001b[39;00m,\n\u001b[1;32m    263\u001b[0m         \u001b[38;5;124m'\u001b[39m\u001b[38;5;124msigma\u001b[39m\u001b[38;5;124m'\u001b[39m: sigma,\n\u001b[0;32m   (...)\u001b[0m\n\u001b[1;32m    270\u001b[0m         \u001b[38;5;124m'\u001b[39m\u001b[38;5;124mgic_values\u001b[39m\u001b[38;5;124m'\u001b[39m: gic_values,\n\u001b[1;32m    271\u001b[0m     })\n",
      "File \u001b[0;32m~/home/master/research/logit-graph/notebooks/misc_datasets/../../src/logit_graph/simulation.py:293\u001b[0m, in \u001b[0;36mLogitGraphFitter._generate_graph\u001b[0;34m(self, real_graph_arr)\u001b[0m\n\u001b[1;32m    291\u001b[0m est \u001b[38;5;241m=\u001b[39m estimator\u001b[38;5;241m.\u001b[39mLogitRegEstimator(real_graph_arr, d\u001b[38;5;241m=\u001b[39m\u001b[38;5;28mself\u001b[39m\u001b[38;5;241m.\u001b[39md)\n\u001b[1;32m    292\u001b[0m features, labels \u001b[38;5;241m=\u001b[39m est\u001b[38;5;241m.\u001b[39mget_features_labels()\n\u001b[0;32m--> 293\u001b[0m _, params, _ \u001b[38;5;241m=\u001b[39m \u001b[43mest\u001b[49m\u001b[38;5;241;43m.\u001b[39;49m\u001b[43mestimate_parameters\u001b[49m\u001b[43m(\u001b[49m\u001b[43ml1_wt\u001b[49m\u001b[38;5;241;43m=\u001b[39;49m\u001b[38;5;241;43m1\u001b[39;49m\u001b[43m,\u001b[49m\u001b[43m \u001b[49m\u001b[43malpha\u001b[49m\u001b[38;5;241;43m=\u001b[39;49m\u001b[38;5;241;43m0\u001b[39;49m\u001b[43m,\u001b[49m\u001b[43m \u001b[49m\u001b[43mfeatures\u001b[49m\u001b[38;5;241;43m=\u001b[39;49m\u001b[43mfeatures\u001b[49m\u001b[43m,\u001b[49m\u001b[43m \u001b[49m\u001b[43mlabels\u001b[49m\u001b[38;5;241;43m=\u001b[39;49m\u001b[43mlabels\u001b[49m\u001b[43m)\u001b[49m\n\u001b[1;32m    294\u001b[0m sigma \u001b[38;5;241m=\u001b[39m params[\u001b[38;5;241m0\u001b[39m]\n\u001b[1;32m    296\u001b[0m n \u001b[38;5;241m=\u001b[39m real_graph_arr\u001b[38;5;241m.\u001b[39mshape[\u001b[38;5;241m0\u001b[39m]\n",
      "File \u001b[0;32m~/home/master/research/logit-graph/notebooks/misc_datasets/../../src/logit_graph/logit_estimator.py:202\u001b[0m, in \u001b[0;36mLogitRegEstimator.estimate_parameters\u001b[0;34m(self, l1_wt, alpha, features, labels)\u001b[0m\n\u001b[1;32m    200\u001b[0m     \u001b[38;5;28;01mif\u001b[39;00m \u001b[38;5;28mself\u001b[39m\u001b[38;5;241m.\u001b[39mverbose:\n\u001b[1;32m    201\u001b[0m         \u001b[38;5;28mprint\u001b[39m(\u001b[38;5;124mf\u001b[39m\u001b[38;5;124m\"\u001b[39m\u001b[38;5;124mUsing pure \u001b[39m\u001b[38;5;132;01m{\u001b[39;00m\u001b[38;5;124m'\u001b[39m\u001b[38;5;124mL1\u001b[39m\u001b[38;5;124m'\u001b[39m\u001b[38;5;250m \u001b[39m\u001b[38;5;28;01mif\u001b[39;00m\u001b[38;5;250m \u001b[39ml1_wt\u001b[38;5;250m \u001b[39m\u001b[38;5;241m==\u001b[39m\u001b[38;5;250m \u001b[39m\u001b[38;5;241m1\u001b[39m\u001b[38;5;250m \u001b[39m\u001b[38;5;28;01melse\u001b[39;00m\u001b[38;5;250m \u001b[39m\u001b[38;5;124m'\u001b[39m\u001b[38;5;124mL2\u001b[39m\u001b[38;5;124m'\u001b[39m\u001b[38;5;132;01m}\u001b[39;00m\u001b[38;5;124m regularization\u001b[39m\u001b[38;5;124m\"\u001b[39m)\n\u001b[0;32m--> 202\u001b[0m     result \u001b[38;5;241m=\u001b[39m \u001b[43mmodel\u001b[49m\u001b[38;5;241;43m.\u001b[39;49m\u001b[43mfit_regularized\u001b[49m\u001b[43m(\u001b[49m\u001b[43mmethod\u001b[49m\u001b[38;5;241;43m=\u001b[39;49m\u001b[38;5;124;43m'\u001b[39;49m\u001b[38;5;124;43ml1\u001b[39;49m\u001b[38;5;124;43m'\u001b[39;49m\u001b[43m \u001b[49m\u001b[38;5;28;43;01mif\u001b[39;49;00m\u001b[43m \u001b[49m\u001b[43ml1_wt\u001b[49m\u001b[43m \u001b[49m\u001b[38;5;241;43m==\u001b[39;49m\u001b[43m \u001b[49m\u001b[38;5;241;43m1\u001b[39;49m\u001b[43m \u001b[49m\u001b[38;5;28;43;01melse\u001b[39;49;00m\u001b[43m \u001b[49m\u001b[38;5;28;43;01mNone\u001b[39;49;00m\u001b[43m,\u001b[49m\u001b[43m \u001b[49m\u001b[43malpha\u001b[49m\u001b[38;5;241;43m=\u001b[39;49m\u001b[43malpha\u001b[49m\u001b[43m,\u001b[49m\u001b[43m \u001b[49m\u001b[43mdisp\u001b[49m\u001b[38;5;241;43m=\u001b[39;49m\u001b[38;5;28;43mself\u001b[39;49m\u001b[38;5;241;43m.\u001b[39;49m\u001b[43mverbose\u001b[49m\u001b[43m)\u001b[49m\n\u001b[1;32m    203\u001b[0m \u001b[38;5;28;01melse\u001b[39;00m:\n\u001b[1;32m    204\u001b[0m     \u001b[38;5;66;03m# Elastic Net (combination of L1 and L2)\u001b[39;00m\n\u001b[1;32m    205\u001b[0m     \u001b[38;5;28;01mif\u001b[39;00m \u001b[38;5;28mself\u001b[39m\u001b[38;5;241m.\u001b[39mverbose:\n",
      "File \u001b[0;32m~/miniforge3/envs/logit_graph/lib/python3.8/site-packages/statsmodels/discrete/discrete_model.py:565\u001b[0m, in \u001b[0;36mBinaryModel.fit_regularized\u001b[0;34m(self, start_params, method, maxiter, full_output, disp, callback, alpha, trim_mode, auto_trim_tol, size_trim_tol, qc_tol, **kwargs)\u001b[0m\n\u001b[1;32m    557\u001b[0m \u001b[38;5;129m@Appender\u001b[39m(DiscreteModel\u001b[38;5;241m.\u001b[39mfit_regularized\u001b[38;5;241m.\u001b[39m\u001b[38;5;18m__doc__\u001b[39m)\n\u001b[1;32m    558\u001b[0m \u001b[38;5;28;01mdef\u001b[39;00m \u001b[38;5;21mfit_regularized\u001b[39m(\u001b[38;5;28mself\u001b[39m, start_params\u001b[38;5;241m=\u001b[39m\u001b[38;5;28;01mNone\u001b[39;00m, method\u001b[38;5;241m=\u001b[39m\u001b[38;5;124m'\u001b[39m\u001b[38;5;124ml1\u001b[39m\u001b[38;5;124m'\u001b[39m,\n\u001b[1;32m    559\u001b[0m         maxiter\u001b[38;5;241m=\u001b[39m\u001b[38;5;124m'\u001b[39m\u001b[38;5;124mdefined_by_method\u001b[39m\u001b[38;5;124m'\u001b[39m, full_output\u001b[38;5;241m=\u001b[39m\u001b[38;5;241m1\u001b[39m, disp\u001b[38;5;241m=\u001b[39m\u001b[38;5;241m1\u001b[39m, callback\u001b[38;5;241m=\u001b[39m\u001b[38;5;28;01mNone\u001b[39;00m,\n\u001b[1;32m    560\u001b[0m         alpha\u001b[38;5;241m=\u001b[39m\u001b[38;5;241m0\u001b[39m, trim_mode\u001b[38;5;241m=\u001b[39m\u001b[38;5;124m'\u001b[39m\u001b[38;5;124mauto\u001b[39m\u001b[38;5;124m'\u001b[39m, auto_trim_tol\u001b[38;5;241m=\u001b[39m\u001b[38;5;241m0.01\u001b[39m, size_trim_tol\u001b[38;5;241m=\u001b[39m\u001b[38;5;241m1e-4\u001b[39m,\n\u001b[1;32m    561\u001b[0m         qc_tol\u001b[38;5;241m=\u001b[39m\u001b[38;5;241m0.03\u001b[39m, \u001b[38;5;241m*\u001b[39m\u001b[38;5;241m*\u001b[39mkwargs):\n\u001b[1;32m    563\u001b[0m     _validate_l1_method(method)\n\u001b[0;32m--> 565\u001b[0m     bnryfit \u001b[38;5;241m=\u001b[39m \u001b[38;5;28;43msuper\u001b[39;49m\u001b[43m(\u001b[49m\u001b[43m)\u001b[49m\u001b[38;5;241;43m.\u001b[39;49m\u001b[43mfit_regularized\u001b[49m\u001b[43m(\u001b[49m\u001b[43mstart_params\u001b[49m\u001b[38;5;241;43m=\u001b[39;49m\u001b[43mstart_params\u001b[49m\u001b[43m,\u001b[49m\n\u001b[1;32m    566\u001b[0m \u001b[43m                                      \u001b[49m\u001b[43mmethod\u001b[49m\u001b[38;5;241;43m=\u001b[39;49m\u001b[43mmethod\u001b[49m\u001b[43m,\u001b[49m\n\u001b[1;32m    567\u001b[0m \u001b[43m                                      \u001b[49m\u001b[43mmaxiter\u001b[49m\u001b[38;5;241;43m=\u001b[39;49m\u001b[43mmaxiter\u001b[49m\u001b[43m,\u001b[49m\n\u001b[1;32m    568\u001b[0m \u001b[43m                                      \u001b[49m\u001b[43mfull_output\u001b[49m\u001b[38;5;241;43m=\u001b[39;49m\u001b[43mfull_output\u001b[49m\u001b[43m,\u001b[49m\n\u001b[1;32m    569\u001b[0m \u001b[43m                                      \u001b[49m\u001b[43mdisp\u001b[49m\u001b[38;5;241;43m=\u001b[39;49m\u001b[43mdisp\u001b[49m\u001b[43m,\u001b[49m\n\u001b[1;32m    570\u001b[0m \u001b[43m                                      \u001b[49m\u001b[43mcallback\u001b[49m\u001b[38;5;241;43m=\u001b[39;49m\u001b[43mcallback\u001b[49m\u001b[43m,\u001b[49m\n\u001b[1;32m    571\u001b[0m \u001b[43m                                      \u001b[49m\u001b[43malpha\u001b[49m\u001b[38;5;241;43m=\u001b[39;49m\u001b[43malpha\u001b[49m\u001b[43m,\u001b[49m\n\u001b[1;32m    572\u001b[0m \u001b[43m                                      \u001b[49m\u001b[43mtrim_mode\u001b[49m\u001b[38;5;241;43m=\u001b[39;49m\u001b[43mtrim_mode\u001b[49m\u001b[43m,\u001b[49m\n\u001b[1;32m    573\u001b[0m \u001b[43m                                      \u001b[49m\u001b[43mauto_trim_tol\u001b[49m\u001b[38;5;241;43m=\u001b[39;49m\u001b[43mauto_trim_tol\u001b[49m\u001b[43m,\u001b[49m\n\u001b[1;32m    574\u001b[0m \u001b[43m                                      \u001b[49m\u001b[43msize_trim_tol\u001b[49m\u001b[38;5;241;43m=\u001b[39;49m\u001b[43msize_trim_tol\u001b[49m\u001b[43m,\u001b[49m\n\u001b[1;32m    575\u001b[0m \u001b[43m                                      \u001b[49m\u001b[43mqc_tol\u001b[49m\u001b[38;5;241;43m=\u001b[39;49m\u001b[43mqc_tol\u001b[49m\u001b[43m,\u001b[49m\n\u001b[1;32m    576\u001b[0m \u001b[43m                                      \u001b[49m\u001b[38;5;241;43m*\u001b[39;49m\u001b[38;5;241;43m*\u001b[39;49m\u001b[43mkwargs\u001b[49m\u001b[43m)\u001b[49m\n\u001b[1;32m    578\u001b[0m     discretefit \u001b[38;5;241m=\u001b[39m L1BinaryResults(\u001b[38;5;28mself\u001b[39m, bnryfit)\n\u001b[1;32m    579\u001b[0m     \u001b[38;5;28;01mreturn\u001b[39;00m L1BinaryResultsWrapper(discretefit)\n",
      "File \u001b[0;32m~/miniforge3/envs/logit_graph/lib/python3.8/site-packages/statsmodels/discrete/discrete_model.py:402\u001b[0m, in \u001b[0;36mDiscreteModel.fit_regularized\u001b[0;34m(self, start_params, method, maxiter, full_output, disp, callback, alpha, trim_mode, auto_trim_tol, size_trim_tol, qc_tol, qc_verbose, **kwargs)\u001b[0m\n\u001b[1;32m    399\u001b[0m \u001b[38;5;28;01melse\u001b[39;00m:\n\u001b[1;32m    400\u001b[0m     \u001b[38;5;28;01mpass\u001b[39;00m  \u001b[38;5;66;03m# make a function factory to have multiple call-backs\u001b[39;00m\n\u001b[0;32m--> 402\u001b[0m mlefit \u001b[38;5;241m=\u001b[39m \u001b[38;5;28;43msuper\u001b[39;49m\u001b[43m(\u001b[49m\u001b[43m)\u001b[49m\u001b[38;5;241;43m.\u001b[39;49m\u001b[43mfit\u001b[49m\u001b[43m(\u001b[49m\u001b[43mstart_params\u001b[49m\u001b[38;5;241;43m=\u001b[39;49m\u001b[43mstart_params\u001b[49m\u001b[43m,\u001b[49m\n\u001b[1;32m    403\u001b[0m \u001b[43m                     \u001b[49m\u001b[43mmethod\u001b[49m\u001b[38;5;241;43m=\u001b[39;49m\u001b[43mmethod\u001b[49m\u001b[43m,\u001b[49m\n\u001b[1;32m    404\u001b[0m \u001b[43m                     \u001b[49m\u001b[43mmaxiter\u001b[49m\u001b[38;5;241;43m=\u001b[39;49m\u001b[43mmaxiter\u001b[49m\u001b[43m,\u001b[49m\n\u001b[1;32m    405\u001b[0m \u001b[43m                     \u001b[49m\u001b[43mfull_output\u001b[49m\u001b[38;5;241;43m=\u001b[39;49m\u001b[43mfull_output\u001b[49m\u001b[43m,\u001b[49m\n\u001b[1;32m    406\u001b[0m \u001b[43m                     \u001b[49m\u001b[43mdisp\u001b[49m\u001b[38;5;241;43m=\u001b[39;49m\u001b[43mdisp\u001b[49m\u001b[43m,\u001b[49m\n\u001b[1;32m    407\u001b[0m \u001b[43m                     \u001b[49m\u001b[43mcallback\u001b[49m\u001b[38;5;241;43m=\u001b[39;49m\u001b[43mcallback\u001b[49m\u001b[43m,\u001b[49m\n\u001b[1;32m    408\u001b[0m \u001b[43m                     \u001b[49m\u001b[43mextra_fit_funcs\u001b[49m\u001b[38;5;241;43m=\u001b[39;49m\u001b[43mextra_fit_funcs\u001b[49m\u001b[43m,\u001b[49m\n\u001b[1;32m    409\u001b[0m \u001b[43m                     \u001b[49m\u001b[43mcov_params_func\u001b[49m\u001b[38;5;241;43m=\u001b[39;49m\u001b[43mcov_params_func\u001b[49m\u001b[43m,\u001b[49m\n\u001b[1;32m    410\u001b[0m \u001b[43m                     \u001b[49m\u001b[38;5;241;43m*\u001b[39;49m\u001b[38;5;241;43m*\u001b[39;49m\u001b[43mkwargs\u001b[49m\u001b[43m)\u001b[49m\n\u001b[1;32m    412\u001b[0m \u001b[38;5;28;01mreturn\u001b[39;00m mlefit\n",
      "File \u001b[0;32m~/miniforge3/envs/logit_graph/lib/python3.8/site-packages/statsmodels/base/model.py:566\u001b[0m, in \u001b[0;36mLikelihoodModel.fit\u001b[0;34m(self, start_params, method, maxiter, full_output, disp, fargs, callback, retall, skip_hessian, **kwargs)\u001b[0m\n\u001b[1;32m    563\u001b[0m     \u001b[38;5;28;01mdel\u001b[39;00m kwargs[\u001b[38;5;124m\"\u001b[39m\u001b[38;5;124muse_t\u001b[39m\u001b[38;5;124m\"\u001b[39m]\n\u001b[1;32m    565\u001b[0m optimizer \u001b[38;5;241m=\u001b[39m Optimizer()\n\u001b[0;32m--> 566\u001b[0m xopt, retvals, optim_settings \u001b[38;5;241m=\u001b[39m \u001b[43moptimizer\u001b[49m\u001b[38;5;241;43m.\u001b[39;49m\u001b[43m_fit\u001b[49m\u001b[43m(\u001b[49m\u001b[43mf\u001b[49m\u001b[43m,\u001b[49m\u001b[43m \u001b[49m\u001b[43mscore\u001b[49m\u001b[43m,\u001b[49m\u001b[43m \u001b[49m\u001b[43mstart_params\u001b[49m\u001b[43m,\u001b[49m\n\u001b[1;32m    567\u001b[0m \u001b[43m                                               \u001b[49m\u001b[43mfargs\u001b[49m\u001b[43m,\u001b[49m\u001b[43m \u001b[49m\u001b[43mkwargs\u001b[49m\u001b[43m,\u001b[49m\n\u001b[1;32m    568\u001b[0m \u001b[43m                                               \u001b[49m\u001b[43mhessian\u001b[49m\u001b[38;5;241;43m=\u001b[39;49m\u001b[43mhess\u001b[49m\u001b[43m,\u001b[49m\n\u001b[1;32m    569\u001b[0m \u001b[43m                                               \u001b[49m\u001b[43mmethod\u001b[49m\u001b[38;5;241;43m=\u001b[39;49m\u001b[43mmethod\u001b[49m\u001b[43m,\u001b[49m\n\u001b[1;32m    570\u001b[0m \u001b[43m                                               \u001b[49m\u001b[43mdisp\u001b[49m\u001b[38;5;241;43m=\u001b[39;49m\u001b[43mdisp\u001b[49m\u001b[43m,\u001b[49m\n\u001b[1;32m    571\u001b[0m \u001b[43m                                               \u001b[49m\u001b[43mmaxiter\u001b[49m\u001b[38;5;241;43m=\u001b[39;49m\u001b[43mmaxiter\u001b[49m\u001b[43m,\u001b[49m\n\u001b[1;32m    572\u001b[0m \u001b[43m                                               \u001b[49m\u001b[43mcallback\u001b[49m\u001b[38;5;241;43m=\u001b[39;49m\u001b[43mcallback\u001b[49m\u001b[43m,\u001b[49m\n\u001b[1;32m    573\u001b[0m \u001b[43m                                               \u001b[49m\u001b[43mretall\u001b[49m\u001b[38;5;241;43m=\u001b[39;49m\u001b[43mretall\u001b[49m\u001b[43m,\u001b[49m\n\u001b[1;32m    574\u001b[0m \u001b[43m                                               \u001b[49m\u001b[43mfull_output\u001b[49m\u001b[38;5;241;43m=\u001b[39;49m\u001b[43mfull_output\u001b[49m\u001b[43m)\u001b[49m\n\u001b[1;32m    575\u001b[0m \u001b[38;5;66;03m# Restore cov_type, cov_kwds and use_t\u001b[39;00m\n\u001b[1;32m    576\u001b[0m optim_settings\u001b[38;5;241m.\u001b[39mupdate(kwds)\n",
      "File \u001b[0;32m~/miniforge3/envs/logit_graph/lib/python3.8/site-packages/statsmodels/base/optimizer.py:242\u001b[0m, in \u001b[0;36mOptimizer._fit\u001b[0;34m(self, objective, gradient, start_params, fargs, kwargs, hessian, method, maxiter, full_output, disp, callback, retall)\u001b[0m\n\u001b[1;32m    239\u001b[0m     fit_funcs\u001b[38;5;241m.\u001b[39mupdate(extra_fit_funcs)\n\u001b[1;32m    241\u001b[0m func \u001b[38;5;241m=\u001b[39m fit_funcs[method]\n\u001b[0;32m--> 242\u001b[0m xopt, retvals \u001b[38;5;241m=\u001b[39m \u001b[43mfunc\u001b[49m\u001b[43m(\u001b[49m\u001b[43mobjective\u001b[49m\u001b[43m,\u001b[49m\u001b[43m \u001b[49m\u001b[43mgradient\u001b[49m\u001b[43m,\u001b[49m\u001b[43m \u001b[49m\u001b[43mstart_params\u001b[49m\u001b[43m,\u001b[49m\u001b[43m \u001b[49m\u001b[43mfargs\u001b[49m\u001b[43m,\u001b[49m\u001b[43m \u001b[49m\u001b[43mkwargs\u001b[49m\u001b[43m,\u001b[49m\n\u001b[1;32m    243\u001b[0m \u001b[43m                     \u001b[49m\u001b[43mdisp\u001b[49m\u001b[38;5;241;43m=\u001b[39;49m\u001b[43mdisp\u001b[49m\u001b[43m,\u001b[49m\u001b[43m \u001b[49m\u001b[43mmaxiter\u001b[49m\u001b[38;5;241;43m=\u001b[39;49m\u001b[43mmaxiter\u001b[49m\u001b[43m,\u001b[49m\u001b[43m \u001b[49m\u001b[43mcallback\u001b[49m\u001b[38;5;241;43m=\u001b[39;49m\u001b[43mcallback\u001b[49m\u001b[43m,\u001b[49m\n\u001b[1;32m    244\u001b[0m \u001b[43m                     \u001b[49m\u001b[43mretall\u001b[49m\u001b[38;5;241;43m=\u001b[39;49m\u001b[43mretall\u001b[49m\u001b[43m,\u001b[49m\u001b[43m \u001b[49m\u001b[43mfull_output\u001b[49m\u001b[38;5;241;43m=\u001b[39;49m\u001b[43mfull_output\u001b[49m\u001b[43m,\u001b[49m\n\u001b[1;32m    245\u001b[0m \u001b[43m                     \u001b[49m\u001b[43mhess\u001b[49m\u001b[38;5;241;43m=\u001b[39;49m\u001b[43mhessian\u001b[49m\u001b[43m)\u001b[49m\n\u001b[1;32m    247\u001b[0m optim_settings \u001b[38;5;241m=\u001b[39m {\u001b[38;5;124m'\u001b[39m\u001b[38;5;124moptimizer\u001b[39m\u001b[38;5;124m'\u001b[39m: method, \u001b[38;5;124m'\u001b[39m\u001b[38;5;124mstart_params\u001b[39m\u001b[38;5;124m'\u001b[39m: start_params,\n\u001b[1;32m    248\u001b[0m                   \u001b[38;5;124m'\u001b[39m\u001b[38;5;124mmaxiter\u001b[39m\u001b[38;5;124m'\u001b[39m: maxiter, \u001b[38;5;124m'\u001b[39m\u001b[38;5;124mfull_output\u001b[39m\u001b[38;5;124m'\u001b[39m: full_output,\n\u001b[1;32m    249\u001b[0m                   \u001b[38;5;124m'\u001b[39m\u001b[38;5;124mdisp\u001b[39m\u001b[38;5;124m'\u001b[39m: disp, \u001b[38;5;124m'\u001b[39m\u001b[38;5;124mfargs\u001b[39m\u001b[38;5;124m'\u001b[39m: fargs, \u001b[38;5;124m'\u001b[39m\u001b[38;5;124mcallback\u001b[39m\u001b[38;5;124m'\u001b[39m: callback,\n\u001b[1;32m    250\u001b[0m                   \u001b[38;5;124m'\u001b[39m\u001b[38;5;124mretall\u001b[39m\u001b[38;5;124m'\u001b[39m: retall, \u001b[38;5;124m\"\u001b[39m\u001b[38;5;124mextra_fit_funcs\u001b[39m\u001b[38;5;124m\"\u001b[39m: extra_fit_funcs}\n\u001b[1;32m    251\u001b[0m optim_settings\u001b[38;5;241m.\u001b[39mupdate(kwargs)\n",
      "File \u001b[0;32m~/miniforge3/envs/logit_graph/lib/python3.8/site-packages/statsmodels/base/l1_slsqp.py:76\u001b[0m, in \u001b[0;36mfit_l1_slsqp\u001b[0;34m(f, score, start_params, args, kwargs, disp, maxiter, callback, retall, full_output, hess)\u001b[0m\n\u001b[1;32m     73\u001b[0m fprime_ieqcons_wrap \u001b[38;5;241m=\u001b[39m \u001b[38;5;28;01mlambda\u001b[39;00m x_full: _fprime_ieqcons(x_full, k_params)\n\u001b[1;32m     75\u001b[0m \u001b[38;5;66;03m### Call the solver\u001b[39;00m\n\u001b[0;32m---> 76\u001b[0m results \u001b[38;5;241m=\u001b[39m \u001b[43mfmin_slsqp\u001b[49m\u001b[43m(\u001b[49m\n\u001b[1;32m     77\u001b[0m \u001b[43m    \u001b[49m\u001b[43mfunc\u001b[49m\u001b[43m,\u001b[49m\u001b[43m \u001b[49m\u001b[43mx0\u001b[49m\u001b[43m,\u001b[49m\u001b[43m \u001b[49m\u001b[43mf_ieqcons\u001b[49m\u001b[38;5;241;43m=\u001b[39;49m\u001b[43mf_ieqcons_wrap\u001b[49m\u001b[43m,\u001b[49m\u001b[43m \u001b[49m\u001b[43mfprime\u001b[49m\u001b[38;5;241;43m=\u001b[39;49m\u001b[43mfprime_wrap\u001b[49m\u001b[43m,\u001b[49m\u001b[43m \u001b[49m\u001b[43macc\u001b[49m\u001b[38;5;241;43m=\u001b[39;49m\u001b[43macc\u001b[49m\u001b[43m,\u001b[49m\n\u001b[1;32m     78\u001b[0m \u001b[43m    \u001b[49m\u001b[38;5;28;43miter\u001b[39;49m\u001b[38;5;241;43m=\u001b[39;49m\u001b[43mmaxiter\u001b[49m\u001b[43m,\u001b[49m\u001b[43m \u001b[49m\u001b[43mdisp\u001b[49m\u001b[38;5;241;43m=\u001b[39;49m\u001b[43mdisp_slsqp\u001b[49m\u001b[43m,\u001b[49m\u001b[43m \u001b[49m\u001b[43mfull_output\u001b[49m\u001b[38;5;241;43m=\u001b[39;49m\u001b[43mfull_output\u001b[49m\u001b[43m,\u001b[49m\n\u001b[1;32m     79\u001b[0m \u001b[43m    \u001b[49m\u001b[43mfprime_ieqcons\u001b[49m\u001b[38;5;241;43m=\u001b[39;49m\u001b[43mfprime_ieqcons_wrap\u001b[49m\u001b[43m)\u001b[49m\n\u001b[1;32m     80\u001b[0m params \u001b[38;5;241m=\u001b[39m np\u001b[38;5;241m.\u001b[39masarray(results[\u001b[38;5;241m0\u001b[39m][:k_params])\n\u001b[1;32m     82\u001b[0m \u001b[38;5;66;03m### Post-process\u001b[39;00m\n\u001b[1;32m     83\u001b[0m \u001b[38;5;66;03m# QC\u001b[39;00m\n",
      "File \u001b[0;32m~/miniforge3/envs/logit_graph/lib/python3.8/site-packages/scipy/optimize/_slsqp_py.py:206\u001b[0m, in \u001b[0;36mfmin_slsqp\u001b[0;34m(func, x0, eqcons, f_eqcons, ieqcons, f_ieqcons, bounds, fprime, fprime_eqcons, fprime_ieqcons, args, iter, acc, iprint, disp, full_output, epsilon, callback)\u001b[0m\n\u001b[1;32m    202\u001b[0m \u001b[38;5;28;01mif\u001b[39;00m f_ieqcons:\n\u001b[1;32m    203\u001b[0m     cons \u001b[38;5;241m+\u001b[39m\u001b[38;5;241m=\u001b[39m ({\u001b[38;5;124m'\u001b[39m\u001b[38;5;124mtype\u001b[39m\u001b[38;5;124m'\u001b[39m: \u001b[38;5;124m'\u001b[39m\u001b[38;5;124mineq\u001b[39m\u001b[38;5;124m'\u001b[39m, \u001b[38;5;124m'\u001b[39m\u001b[38;5;124mfun\u001b[39m\u001b[38;5;124m'\u001b[39m: f_ieqcons, \u001b[38;5;124m'\u001b[39m\u001b[38;5;124mjac\u001b[39m\u001b[38;5;124m'\u001b[39m: fprime_ieqcons,\n\u001b[1;32m    204\u001b[0m               \u001b[38;5;124m'\u001b[39m\u001b[38;5;124margs\u001b[39m\u001b[38;5;124m'\u001b[39m: args}, )\n\u001b[0;32m--> 206\u001b[0m res \u001b[38;5;241m=\u001b[39m \u001b[43m_minimize_slsqp\u001b[49m\u001b[43m(\u001b[49m\u001b[43mfunc\u001b[49m\u001b[43m,\u001b[49m\u001b[43m \u001b[49m\u001b[43mx0\u001b[49m\u001b[43m,\u001b[49m\u001b[43m \u001b[49m\u001b[43margs\u001b[49m\u001b[43m,\u001b[49m\u001b[43m \u001b[49m\u001b[43mjac\u001b[49m\u001b[38;5;241;43m=\u001b[39;49m\u001b[43mfprime\u001b[49m\u001b[43m,\u001b[49m\u001b[43m \u001b[49m\u001b[43mbounds\u001b[49m\u001b[38;5;241;43m=\u001b[39;49m\u001b[43mbounds\u001b[49m\u001b[43m,\u001b[49m\n\u001b[1;32m    207\u001b[0m \u001b[43m                      \u001b[49m\u001b[43mconstraints\u001b[49m\u001b[38;5;241;43m=\u001b[39;49m\u001b[43mcons\u001b[49m\u001b[43m,\u001b[49m\u001b[43m \u001b[49m\u001b[38;5;241;43m*\u001b[39;49m\u001b[38;5;241;43m*\u001b[39;49m\u001b[43mopts\u001b[49m\u001b[43m)\u001b[49m\n\u001b[1;32m    208\u001b[0m \u001b[38;5;28;01mif\u001b[39;00m full_output:\n\u001b[1;32m    209\u001b[0m     \u001b[38;5;28;01mreturn\u001b[39;00m res[\u001b[38;5;124m'\u001b[39m\u001b[38;5;124mx\u001b[39m\u001b[38;5;124m'\u001b[39m], res[\u001b[38;5;124m'\u001b[39m\u001b[38;5;124mfun\u001b[39m\u001b[38;5;124m'\u001b[39m], res[\u001b[38;5;124m'\u001b[39m\u001b[38;5;124mnit\u001b[39m\u001b[38;5;124m'\u001b[39m], res[\u001b[38;5;124m'\u001b[39m\u001b[38;5;124mstatus\u001b[39m\u001b[38;5;124m'\u001b[39m], res[\u001b[38;5;124m'\u001b[39m\u001b[38;5;124mmessage\u001b[39m\u001b[38;5;124m'\u001b[39m]\n",
      "File \u001b[0;32m~/miniforge3/envs/logit_graph/lib/python3.8/site-packages/scipy/optimize/_slsqp_py.py:428\u001b[0m, in \u001b[0;36m_minimize_slsqp\u001b[0;34m(func, x0, args, jac, bounds, constraints, maxiter, ftol, iprint, disp, eps, callback, finite_diff_rel_step, **unknown_options)\u001b[0m\n\u001b[1;32m    422\u001b[0m slsqp(m, meq, x, xl, xu, fx, c, g, a, acc, majiter, mode, w, jw,\n\u001b[1;32m    423\u001b[0m       alpha, f0, gs, h1, h2, h3, h4, t, t0, tol,\n\u001b[1;32m    424\u001b[0m       iexact, incons, ireset, itermx, line,\n\u001b[1;32m    425\u001b[0m       n1, n2, n3)\n\u001b[1;32m    427\u001b[0m \u001b[38;5;28;01mif\u001b[39;00m mode \u001b[38;5;241m==\u001b[39m \u001b[38;5;241m1\u001b[39m:  \u001b[38;5;66;03m# objective and constraint evaluation required\u001b[39;00m\n\u001b[0;32m--> 428\u001b[0m     fx \u001b[38;5;241m=\u001b[39m \u001b[43mwrapped_fun\u001b[49m\u001b[43m(\u001b[49m\u001b[43mx\u001b[49m\u001b[43m)\u001b[49m\n\u001b[1;32m    429\u001b[0m     c \u001b[38;5;241m=\u001b[39m _eval_constraint(x, cons)\n\u001b[1;32m    431\u001b[0m \u001b[38;5;28;01mif\u001b[39;00m mode \u001b[38;5;241m==\u001b[39m \u001b[38;5;241m-\u001b[39m\u001b[38;5;241m1\u001b[39m:  \u001b[38;5;66;03m# gradient evaluation required\u001b[39;00m\n",
      "File \u001b[0;32m~/miniforge3/envs/logit_graph/lib/python3.8/site-packages/scipy/optimize/_optimize.py:346\u001b[0m, in \u001b[0;36m_clip_x_for_func.<locals>.eval\u001b[0;34m(x)\u001b[0m\n\u001b[1;32m    344\u001b[0m \u001b[38;5;28;01mdef\u001b[39;00m \u001b[38;5;21meval\u001b[39m(x):\n\u001b[1;32m    345\u001b[0m     x \u001b[38;5;241m=\u001b[39m _check_clip_x(x, bounds)\n\u001b[0;32m--> 346\u001b[0m     \u001b[38;5;28;01mreturn\u001b[39;00m \u001b[43mfunc\u001b[49m\u001b[43m(\u001b[49m\u001b[43mx\u001b[49m\u001b[43m)\u001b[49m\n",
      "File \u001b[0;32m~/miniforge3/envs/logit_graph/lib/python3.8/site-packages/scipy/optimize/_differentiable_functions.py:267\u001b[0m, in \u001b[0;36mScalarFunction.fun\u001b[0;34m(self, x)\u001b[0m\n\u001b[1;32m    265\u001b[0m \u001b[38;5;28;01mif\u001b[39;00m \u001b[38;5;129;01mnot\u001b[39;00m np\u001b[38;5;241m.\u001b[39marray_equal(x, \u001b[38;5;28mself\u001b[39m\u001b[38;5;241m.\u001b[39mx):\n\u001b[1;32m    266\u001b[0m     \u001b[38;5;28mself\u001b[39m\u001b[38;5;241m.\u001b[39m_update_x_impl(x)\n\u001b[0;32m--> 267\u001b[0m \u001b[38;5;28;43mself\u001b[39;49m\u001b[38;5;241;43m.\u001b[39;49m\u001b[43m_update_fun\u001b[49m\u001b[43m(\u001b[49m\u001b[43m)\u001b[49m\n\u001b[1;32m    268\u001b[0m \u001b[38;5;28;01mreturn\u001b[39;00m \u001b[38;5;28mself\u001b[39m\u001b[38;5;241m.\u001b[39mf\n",
      "File \u001b[0;32m~/miniforge3/envs/logit_graph/lib/python3.8/site-packages/scipy/optimize/_differentiable_functions.py:251\u001b[0m, in \u001b[0;36mScalarFunction._update_fun\u001b[0;34m(self)\u001b[0m\n\u001b[1;32m    249\u001b[0m \u001b[38;5;28;01mdef\u001b[39;00m \u001b[38;5;21m_update_fun\u001b[39m(\u001b[38;5;28mself\u001b[39m):\n\u001b[1;32m    250\u001b[0m     \u001b[38;5;28;01mif\u001b[39;00m \u001b[38;5;129;01mnot\u001b[39;00m \u001b[38;5;28mself\u001b[39m\u001b[38;5;241m.\u001b[39mf_updated:\n\u001b[0;32m--> 251\u001b[0m         \u001b[38;5;28;43mself\u001b[39;49m\u001b[38;5;241;43m.\u001b[39;49m\u001b[43m_update_fun_impl\u001b[49m\u001b[43m(\u001b[49m\u001b[43m)\u001b[49m\n\u001b[1;32m    252\u001b[0m         \u001b[38;5;28mself\u001b[39m\u001b[38;5;241m.\u001b[39mf_updated \u001b[38;5;241m=\u001b[39m \u001b[38;5;28;01mTrue\u001b[39;00m\n",
      "File \u001b[0;32m~/miniforge3/envs/logit_graph/lib/python3.8/site-packages/scipy/optimize/_differentiable_functions.py:155\u001b[0m, in \u001b[0;36mScalarFunction.__init__.<locals>.update_fun\u001b[0;34m()\u001b[0m\n\u001b[1;32m    154\u001b[0m \u001b[38;5;28;01mdef\u001b[39;00m \u001b[38;5;21mupdate_fun\u001b[39m():\n\u001b[0;32m--> 155\u001b[0m     \u001b[38;5;28mself\u001b[39m\u001b[38;5;241m.\u001b[39mf \u001b[38;5;241m=\u001b[39m \u001b[43mfun_wrapped\u001b[49m\u001b[43m(\u001b[49m\u001b[38;5;28;43mself\u001b[39;49m\u001b[38;5;241;43m.\u001b[39;49m\u001b[43mx\u001b[49m\u001b[43m)\u001b[49m\n",
      "File \u001b[0;32m~/miniforge3/envs/logit_graph/lib/python3.8/site-packages/scipy/optimize/_differentiable_functions.py:137\u001b[0m, in \u001b[0;36mScalarFunction.__init__.<locals>.fun_wrapped\u001b[0;34m(x)\u001b[0m\n\u001b[1;32m    133\u001b[0m \u001b[38;5;28mself\u001b[39m\u001b[38;5;241m.\u001b[39mnfev \u001b[38;5;241m+\u001b[39m\u001b[38;5;241m=\u001b[39m \u001b[38;5;241m1\u001b[39m\n\u001b[1;32m    134\u001b[0m \u001b[38;5;66;03m# Send a copy because the user may overwrite it.\u001b[39;00m\n\u001b[1;32m    135\u001b[0m \u001b[38;5;66;03m# Overwriting results in undefined behaviour because\u001b[39;00m\n\u001b[1;32m    136\u001b[0m \u001b[38;5;66;03m# fun(self.x) will change self.x, with the two no longer linked.\u001b[39;00m\n\u001b[0;32m--> 137\u001b[0m fx \u001b[38;5;241m=\u001b[39m \u001b[43mfun\u001b[49m\u001b[43m(\u001b[49m\u001b[43mnp\u001b[49m\u001b[38;5;241;43m.\u001b[39;49m\u001b[43mcopy\u001b[49m\u001b[43m(\u001b[49m\u001b[43mx\u001b[49m\u001b[43m)\u001b[49m\u001b[43m,\u001b[49m\u001b[43m \u001b[49m\u001b[38;5;241;43m*\u001b[39;49m\u001b[43margs\u001b[49m\u001b[43m)\u001b[49m\n\u001b[1;32m    138\u001b[0m \u001b[38;5;66;03m# Make sure the function returns a true scalar\u001b[39;00m\n\u001b[1;32m    139\u001b[0m \u001b[38;5;28;01mif\u001b[39;00m \u001b[38;5;129;01mnot\u001b[39;00m np\u001b[38;5;241m.\u001b[39misscalar(fx):\n",
      "File \u001b[0;32m~/miniforge3/envs/logit_graph/lib/python3.8/site-packages/statsmodels/base/l1_slsqp.py:70\u001b[0m, in \u001b[0;36mfit_l1_slsqp.<locals>.<lambda>\u001b[0;34m(x_full)\u001b[0m\n\u001b[1;32m     67\u001b[0m acc \u001b[38;5;241m=\u001b[39m kwargs\u001b[38;5;241m.\u001b[39msetdefault(\u001b[38;5;124m'\u001b[39m\u001b[38;5;124macc\u001b[39m\u001b[38;5;124m'\u001b[39m, \u001b[38;5;241m1e-10\u001b[39m)\n\u001b[1;32m     69\u001b[0m \u001b[38;5;66;03m### Wrap up for use in fmin_slsqp\u001b[39;00m\n\u001b[0;32m---> 70\u001b[0m func \u001b[38;5;241m=\u001b[39m \u001b[38;5;28;01mlambda\u001b[39;00m x_full: \u001b[43m_objective_func\u001b[49m\u001b[43m(\u001b[49m\u001b[43mf\u001b[49m\u001b[43m,\u001b[49m\u001b[43m \u001b[49m\u001b[43mx_full\u001b[49m\u001b[43m,\u001b[49m\u001b[43m \u001b[49m\u001b[43mk_params\u001b[49m\u001b[43m,\u001b[49m\u001b[43m \u001b[49m\u001b[43malpha\u001b[49m\u001b[43m,\u001b[49m\u001b[43m \u001b[49m\u001b[38;5;241;43m*\u001b[39;49m\u001b[43margs\u001b[49m\u001b[43m)\u001b[49m\n\u001b[1;32m     71\u001b[0m f_ieqcons_wrap \u001b[38;5;241m=\u001b[39m \u001b[38;5;28;01mlambda\u001b[39;00m x_full: _f_ieqcons(x_full, k_params)\n\u001b[1;32m     72\u001b[0m fprime_wrap \u001b[38;5;241m=\u001b[39m \u001b[38;5;28;01mlambda\u001b[39;00m x_full: _fprime(score, x_full, k_params, alpha)\n",
      "File \u001b[0;32m~/miniforge3/envs/logit_graph/lib/python3.8/site-packages/statsmodels/base/l1_slsqp.py:137\u001b[0m, in \u001b[0;36m_objective_func\u001b[0;34m(f, x_full, k_params, alpha, *args)\u001b[0m\n\u001b[1;32m    135\u001b[0m x_added \u001b[38;5;241m=\u001b[39m x_full[k_params:]\n\u001b[1;32m    136\u001b[0m \u001b[38;5;66;03m## Return\u001b[39;00m\n\u001b[0;32m--> 137\u001b[0m \u001b[38;5;28;01mreturn\u001b[39;00m \u001b[43mf\u001b[49m\u001b[43m(\u001b[49m\u001b[43mx_params\u001b[49m\u001b[43m,\u001b[49m\u001b[43m \u001b[49m\u001b[38;5;241;43m*\u001b[39;49m\u001b[43margs\u001b[49m\u001b[43m)\u001b[49m \u001b[38;5;241m+\u001b[39m (alpha \u001b[38;5;241m*\u001b[39m x_added)\u001b[38;5;241m.\u001b[39msum()\n",
      "File \u001b[0;32m~/miniforge3/envs/logit_graph/lib/python3.8/site-packages/statsmodels/base/model.py:534\u001b[0m, in \u001b[0;36mLikelihoodModel.fit.<locals>.f\u001b[0;34m(params, *args)\u001b[0m\n\u001b[1;32m    533\u001b[0m \u001b[38;5;28;01mdef\u001b[39;00m \u001b[38;5;21mf\u001b[39m(params, \u001b[38;5;241m*\u001b[39margs):\n\u001b[0;32m--> 534\u001b[0m     \u001b[38;5;28;01mreturn\u001b[39;00m \u001b[38;5;241m-\u001b[39m\u001b[38;5;28;43mself\u001b[39;49m\u001b[38;5;241;43m.\u001b[39;49m\u001b[43mloglike\u001b[49m\u001b[43m(\u001b[49m\u001b[43mparams\u001b[49m\u001b[43m,\u001b[49m\u001b[43m \u001b[49m\u001b[38;5;241;43m*\u001b[39;49m\u001b[43margs\u001b[49m\u001b[43m)\u001b[49m \u001b[38;5;241m/\u001b[39m nobs\n",
      "File \u001b[0;32m~/miniforge3/envs/logit_graph/lib/python3.8/site-packages/statsmodels/discrete/discrete_model.py:2441\u001b[0m, in \u001b[0;36mLogit.loglike\u001b[0;34m(self, params)\u001b[0m\n\u001b[1;32m   2439\u001b[0m q \u001b[38;5;241m=\u001b[39m \u001b[38;5;241m2\u001b[39m\u001b[38;5;241m*\u001b[39m\u001b[38;5;28mself\u001b[39m\u001b[38;5;241m.\u001b[39mendog \u001b[38;5;241m-\u001b[39m \u001b[38;5;241m1\u001b[39m\n\u001b[1;32m   2440\u001b[0m linpred \u001b[38;5;241m=\u001b[39m \u001b[38;5;28mself\u001b[39m\u001b[38;5;241m.\u001b[39mpredict(params, which\u001b[38;5;241m=\u001b[39m\u001b[38;5;124m\"\u001b[39m\u001b[38;5;124mlinear\u001b[39m\u001b[38;5;124m\"\u001b[39m)\n\u001b[0;32m-> 2441\u001b[0m \u001b[38;5;28;01mreturn\u001b[39;00m np\u001b[38;5;241m.\u001b[39msum(np\u001b[38;5;241m.\u001b[39mlog(\u001b[38;5;28;43mself\u001b[39;49m\u001b[38;5;241;43m.\u001b[39;49m\u001b[43mcdf\u001b[49m\u001b[43m(\u001b[49m\u001b[43mq\u001b[49m\u001b[43m \u001b[49m\u001b[38;5;241;43m*\u001b[39;49m\u001b[43m \u001b[49m\u001b[43mlinpred\u001b[49m\u001b[43m)\u001b[49m))\n",
      "File \u001b[0;32m~/miniforge3/envs/logit_graph/lib/python3.8/site-packages/statsmodels/discrete/discrete_model.py:2383\u001b[0m, in \u001b[0;36mLogit.cdf\u001b[0;34m(self, X)\u001b[0m\n\u001b[1;32m   2362\u001b[0m \u001b[38;5;250m\u001b[39m\u001b[38;5;124;03m\"\"\"\u001b[39;00m\n\u001b[1;32m   2363\u001b[0m \u001b[38;5;124;03mThe logistic cumulative distribution function\u001b[39;00m\n\u001b[1;32m   2364\u001b[0m \n\u001b[0;32m   (...)\u001b[0m\n\u001b[1;32m   2380\u001b[0m \u001b[38;5;124;03m          \\\\frac{e^{x^{\\\\prime}\\\\beta}}{1+e^{x^{\\\\prime}\\\\beta}}\u001b[39;00m\n\u001b[1;32m   2381\u001b[0m \u001b[38;5;124;03m\"\"\"\u001b[39;00m\n\u001b[1;32m   2382\u001b[0m X \u001b[38;5;241m=\u001b[39m np\u001b[38;5;241m.\u001b[39masarray(X)\n\u001b[0;32m-> 2383\u001b[0m \u001b[38;5;28;01mreturn\u001b[39;00m \u001b[38;5;241m1\u001b[39m\u001b[38;5;241m/\u001b[39m(\u001b[38;5;241m1\u001b[39m\u001b[38;5;241m+\u001b[39mnp\u001b[38;5;241m.\u001b[39mexp(\u001b[38;5;241;43m-\u001b[39;49m\u001b[43mX\u001b[49m))\n",
      "\u001b[0;31mKeyboardInterrupt\u001b[0m: "
     ]
    }
   ],
   "source": [
    "import gc\n",
    "comparators_lg = {}\n",
    "for graph_file in graph_files:\n",
    "    original_graph = nx.read_edgelist(graph_file, nodetype=int)\n",
    "    n = original_graph.number_of_nodes()\n",
    "    e = original_graph.number_of_edges()\n",
    "\n",
    "    # # --- Erdős-Rényi (ER) Model ---\n",
    "    # p_opt = estimate_er_p(n, e)\n",
    "    # p_opt = p_opt * 0.9\n",
    "    # print(f\"ER p: {p_opt}\")\n",
    "    # fitter_params['er_p'] = p_opt\n",
    "\n",
    "    # --- Barabasi-Albert (BA) Model ---\n",
    "    m_opt = estimate_ba_m(n, e)\n",
    "    ba_graph = nx.barabasi_albert_graph(n=n, m=m_opt, seed=42)\n",
    "    fitter_params['init_graph'] = ba_graph\n",
    "\n",
    "    lg_fitter = LogitGraphFitter(**fitter_params)\n",
    "    lg_fitter.fit(original_graph)\n",
    "\n",
    "    model_graphs = {\n",
    "        'LG': lg_fitter,\n",
    "    }\n",
    "    comparators[os.path.basename(graph_file)] = model_graphs\n",
    "    del lg_fitter\n",
    "    gc.collect()"
   ]
  },
  {
   "cell_type": "code",
   "execution_count": null,
   "metadata": {},
   "outputs": [],
   "source": [
    "with open('comparators_lg.pkl', 'wb') as f:\n",
    "    pickle.dump(comparators_lg, f)"
   ]
  },
  {
   "cell_type": "code",
   "execution_count": null,
   "metadata": {},
   "outputs": [],
   "source": [
    "'finish'"
   ]
  },
  {
   "cell_type": "code",
   "execution_count": null,
   "metadata": {},
   "outputs": [],
   "source": []
  },
  {
   "cell_type": "code",
   "execution_count": null,
   "metadata": {},
   "outputs": [],
   "source": []
  }
 ],
 "metadata": {
  "kernelspec": {
   "display_name": "logit_graph",
   "language": "python",
   "name": "python3"
  },
  "language_info": {
   "codemirror_mode": {
    "name": "ipython",
    "version": 3
   },
   "file_extension": ".py",
   "mimetype": "text/x-python",
   "name": "python",
   "nbconvert_exporter": "python",
   "pygments_lexer": "ipython3",
   "version": "3.8.16"
  }
 },
 "nbformat": 4,
 "nbformat_minor": 2
}
