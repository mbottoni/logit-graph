{
 "cells": [
  {
   "cell_type": "code",
   "execution_count": 1,
   "metadata": {},
   "outputs": [],
   "source": [
    "%load_ext autoreload\n",
    "%autoreload 2"
   ]
  },
  {
   "cell_type": "markdown",
   "metadata": {},
   "source": [
    "here the objective is to fit the logit graph model to multiple different graph domains and then visualize the original vs fitted graphs"
   ]
  },
  {
   "cell_type": "code",
   "execution_count": 2,
   "metadata": {},
   "outputs": [],
   "source": [
    "\n",
    "import sys\n",
    "import os\n",
    "sys.path.append('../')\n",
    "\n",
    "#Graph imports\n",
    "import src.graph as graph\n",
    "import src.logit_estimator as estimator\n",
    "import src.utils as utils\n",
    "import src.model_selection as model_selection\n",
    "import src.gic as gic\n",
    "import src.param_estimator as pe\n",
    "import src.graph as graph\n",
    "import src.model_selection as ms\n",
    "\n",
    "# usual imports\n",
    "import matplotlib.pyplot as plt\n",
    "import pickle\n",
    "import math\n",
    "import matplotlib.pyplot as plt\n",
    "from scipy import stats\n",
    "from scipy.stats import gaussian_kde\n",
    "import numpy as np\n",
    "import pandas as pd\n",
    "import seaborn as sns\n",
    "import gc\n",
    "import random\n",
    "import networkx as nx\n",
    "from numpy import errstate\n",
    "\n",
    "from IPython.display import display\n",
    "from pyvis.network import Network\n",
    "from mpl_toolkits.axes_grid1 import make_axes_locatable\n"
   ]
  },
  {
   "cell_type": "code",
   "execution_count": 3,
   "metadata": {},
   "outputs": [
    {
     "name": "stdout",
     "output_type": "stream",
     "text": [
      "Graph 0 loaded successfully. Edges: 2519, Nodes: 333\n",
      "Graph 107 loaded successfully. Edges: 26749, Nodes: 1034\n",
      "Graph 348 loaded successfully. Edges: 3192, Nodes: 224\n",
      "Graph 414 loaded successfully. Edges: 1693, Nodes: 150\n",
      "Graph 686 loaded successfully. Edges: 1656, Nodes: 168\n",
      "Graph 698 loaded successfully. Edges: 270, Nodes: 61\n",
      "Graph 1684 loaded successfully. Edges: 14024, Nodes: 786\n",
      "Graph 1912 loaded successfully. Edges: 30025, Nodes: 747\n",
      "Graph 3437 loaded successfully. Edges: 4813, Nodes: 534\n",
      "Graph 3980 loaded successfully. Edges: 146, Nodes: 52\n"
     ]
    }
   ],
   "source": [
    "def load_facebook_graph(data_dir, graph_id):\n",
    "    \"\"\"\n",
    "    Loads a Facebook graph from the specified directory and graph ID.\n",
    "\n",
    "    Args:\n",
    "        data_dir (str): The directory where the facebook data is stored.\n",
    "        graph_id (int): The ID of the graph to load.\n",
    "\n",
    "    Returns:\n",
    "        networkx.Graph: The loaded graph as a networkx Graph object.\n",
    "    \"\"\"\n",
    "    edge_file = os.path.join(data_dir, f\"{graph_id}.edges\")\n",
    "    \n",
    "    G = nx.Graph()\n",
    "    \n",
    "    with open(edge_file, 'r') as f:\n",
    "        for line in f:\n",
    "            # The files are space-separated, so we split the line\n",
    "            # and convert the node IDs to integers.\n",
    "            u, v = map(int, line.strip().split())\n",
    "            G.add_edge(u, v)\n",
    "            \n",
    "    return G\n",
    "\n",
    "\n",
    "data_directory = f'../data/misc/facebook'\n",
    "ids = [0, 107, 348, 414, 686, 698, 1684, 1912, 3437, 3980]\n",
    "graphs = []\n",
    "for id in ids:\n",
    "    graphs.append(load_facebook_graph(data_directory, id))\n",
    "    print(f\"Graph {id} loaded successfully. Edges: {graphs[-1].number_of_edges()}, Nodes: {graphs[-1].number_of_nodes()}\")"
   ]
  },
  {
   "cell_type": "code",
   "execution_count": 25,
   "metadata": {},
   "outputs": [
    {
     "data": {
      "text/plain": [
       "['summary_dfs_698.pkl',\n",
       " 'fitted_graphs_3980.pkl',\n",
       " 'summary_dfs_3980.pkl',\n",
       " 'fitted_graphs_698.pkl']"
      ]
     },
     "execution_count": 25,
     "metadata": {},
     "output_type": "execute_result"
    }
   ],
   "source": [
    "FOLDER_OUTPUT = f'runs/fitted_graphs_comparison_facebook2'\n",
    "out_files = os.listdir(FOLDER_OUTPUT)\n",
    "out_files"
   ]
  },
  {
   "cell_type": "code",
   "execution_count": 26,
   "metadata": {},
   "outputs": [],
   "source": [
    "import pickle\n",
    "# with open(f'{FOLDER_OUTPUT}/fitted_graphs_698.pkl', 'rb') as f:\n",
    "#     fitted_graphs = pickle.load(f)\n",
    "# with open(f'{FOLDER_OUTPUT}/summary_dfs_698.pkl', 'rb') as f:\n",
    "#     summary_dfs = pickle.load(f)\n",
    "with open(f'{FOLDER_OUTPUT}/comparators_698.pkl', 'rb') as f:\n",
    "    comparators = pickle.load(f)\n"
   ]
  },
  {
   "cell_type": "code",
   "execution_count": null,
   "metadata": {},
   "outputs": [],
   "source": []
  },
  {
   "cell_type": "code",
   "execution_count": null,
   "metadata": {},
   "outputs": [],
   "source": []
  },
  {
   "cell_type": "code",
   "execution_count": null,
   "metadata": {},
   "outputs": [],
   "source": []
  },
  {
   "cell_type": "code",
   "execution_count": null,
   "metadata": {},
   "outputs": [],
   "source": []
  },
  {
   "cell_type": "code",
   "execution_count": null,
   "metadata": {},
   "outputs": [],
   "source": []
  }
 ],
 "metadata": {
  "kernelspec": {
   "display_name": "logit_graph",
   "language": "python",
   "name": "python3"
  },
  "language_info": {
   "codemirror_mode": {
    "name": "ipython",
    "version": 3
   },
   "file_extension": ".py",
   "mimetype": "text/x-python",
   "name": "python",
   "nbconvert_exporter": "python",
   "pygments_lexer": "ipython3",
   "version": "3.8.16"
  }
 },
 "nbformat": 4,
 "nbformat_minor": 2
}
