{
 "cells": [
  {
   "cell_type": "code",
   "execution_count": 1,
   "metadata": {},
   "outputs": [],
   "source": [
    "%load_ext autoreload\n",
    "%autoreload 2"
   ]
  },
  {
   "cell_type": "markdown",
   "metadata": {},
   "source": [
    "here the objective is to fit the logit graph model to multiple different graph domains and then visualize the original vs fitted graphs"
   ]
  },
  {
   "cell_type": "code",
   "execution_count": 2,
   "metadata": {},
   "outputs": [],
   "source": [
    "\n",
    "import sys\n",
    "import os\n",
    "sys.path.append('../')\n",
    "\n",
    "#Graph imports\n",
    "import src.graph as graph\n",
    "import src.logit_estimator as estimator\n",
    "import src.utils as utils\n",
    "import src.model_selection as model_selection\n",
    "import src.gic as gic\n",
    "import src.param_estimator as pe\n",
    "import src.graph as graph\n",
    "import src.model_selection as ms\n",
    "\n",
    "# usual imports\n",
    "import matplotlib.pyplot as plt\n",
    "import pickle\n",
    "import math\n",
    "import matplotlib.pyplot as plt\n",
    "from scipy import stats\n",
    "from scipy.stats import gaussian_kde\n",
    "import numpy as np\n",
    "import pandas as pd\n",
    "import seaborn as sns\n",
    "import gc\n",
    "import random\n",
    "import networkx as nx\n",
    "from numpy import errstate\n",
    "\n",
    "from IPython.display import display\n",
    "from pyvis.network import Network\n",
    "from mpl_toolkits.axes_grid1 import make_axes_locatable\n"
   ]
  },
  {
   "cell_type": "code",
   "execution_count": 3,
   "metadata": {},
   "outputs": [
    {
     "name": "stdout",
     "output_type": "stream",
     "text": [
      "Graph 0 loaded successfully. Edges: 2519, Nodes: 333\n",
      "Graph 107 loaded successfully. Edges: 26749, Nodes: 1034\n",
      "Graph 348 loaded successfully. Edges: 3192, Nodes: 224\n",
      "Graph 414 loaded successfully. Edges: 1693, Nodes: 150\n",
      "Graph 686 loaded successfully. Edges: 1656, Nodes: 168\n",
      "Graph 698 loaded successfully. Edges: 270, Nodes: 61\n",
      "Graph 1684 loaded successfully. Edges: 14024, Nodes: 786\n",
      "Graph 1912 loaded successfully. Edges: 30025, Nodes: 747\n",
      "Graph 3437 loaded successfully. Edges: 4813, Nodes: 534\n",
      "Graph 3980 loaded successfully. Edges: 146, Nodes: 52\n"
     ]
    }
   ],
   "source": [
    "def load_facebook_graph(data_dir, graph_id):\n",
    "    \"\"\"\n",
    "    Loads a Facebook graph from the specified directory and graph ID.\n",
    "\n",
    "    Args:\n",
    "        data_dir (str): The directory where the facebook data is stored.\n",
    "        graph_id (int): The ID of the graph to load.\n",
    "\n",
    "    Returns:\n",
    "        networkx.Graph: The loaded graph as a networkx Graph object.\n",
    "    \"\"\"\n",
    "    edge_file = os.path.join(data_dir, f\"{graph_id}.edges\")\n",
    "    \n",
    "    G = nx.Graph()\n",
    "    \n",
    "    with open(edge_file, 'r') as f:\n",
    "        for line in f:\n",
    "            # The files are space-separated, so we split the line\n",
    "            # and convert the node IDs to integers.\n",
    "            u, v = map(int, line.strip().split())\n",
    "            G.add_edge(u, v)\n",
    "            \n",
    "    return G\n",
    "\n",
    "\n",
    "data_directory = f'../data/misc/facebook'\n",
    "ids = [0, 107, 348, 414, 686, 698, 1684, 1912, 3437, 3980]\n",
    "graphs = []\n",
    "for id in ids:\n",
    "    graphs.append(load_facebook_graph(data_directory, id))\n",
    "    print(f\"Graph {id} loaded successfully. Edges: {graphs[-1].number_of_edges()}, Nodes: {graphs[-1].number_of_nodes()}\")"
   ]
  },
  {
   "cell_type": "code",
   "execution_count": 25,
   "metadata": {},
   "outputs": [
    {
     "data": {
      "text/plain": [
       "['summary_dfs_698.pkl',\n",
       " 'fitted_graphs_3980.pkl',\n",
       " 'summary_dfs_3980.pkl',\n",
       " 'fitted_graphs_698.pkl']"
      ]
     },
     "execution_count": 25,
     "metadata": {},
     "output_type": "execute_result"
    }
   ],
   "source": [
    "FOLDER_OUTPUT = f'runs/fitted_graphs_comparison_facebook2'\n",
    "out_files = os.listdir(FOLDER_OUTPUT)\n",
    "out_files"
   ]
  },
  {
   "cell_type": "code",
   "execution_count": 31,
   "metadata": {},
   "outputs": [],
   "source": [
    "import pickle\n",
    "# with open(f'{FOLDER_OUTPUT}/fitted_graphs_698.pkl', 'rb') as f:\n",
    "#     fitted_graphs = pickle.load(f)\n",
    "# with open(f'{FOLDER_OUTPUT}/summary_dfs_698.pkl', 'rb') as f:\n",
    "#     summary_dfs = pickle.load(f)\n",
    "with open(f'{FOLDER_OUTPUT}/comparators_107.pkl', 'rb') as f:\n",
    "    comparators = pickle.load(f)\n"
   ]
  },
  {
   "cell_type": "code",
   "execution_count": 32,
   "metadata": {},
   "outputs": [
    {
     "data": {
      "text/plain": [
       "10"
      ]
     },
     "execution_count": 32,
     "metadata": {},
     "output_type": "execute_result"
    }
   ],
   "source": [
    "len(comparators)"
   ]
  },
  {
   "cell_type": "code",
   "execution_count": 34,
   "metadata": {},
   "outputs": [
    {
     "data": {
      "text/html": [
       "<div>\n",
       "<style scoped>\n",
       "    .dataframe tbody tr th:only-of-type {\n",
       "        vertical-align: middle;\n",
       "    }\n",
       "\n",
       "    .dataframe tbody tr th {\n",
       "        vertical-align: top;\n",
       "    }\n",
       "\n",
       "    .dataframe thead th {\n",
       "        text-align: right;\n",
       "    }\n",
       "</style>\n",
       "<table border=\"1\" class=\"dataframe\">\n",
       "  <thead>\n",
       "    <tr style=\"text-align: right;\">\n",
       "      <th></th>\n",
       "      <th>graph_filename</th>\n",
       "      <th>model</th>\n",
       "      <th>gic_value</th>\n",
       "      <th>param</th>\n",
       "      <th>fit_success</th>\n",
       "      <th>nodes</th>\n",
       "      <th>edges</th>\n",
       "      <th>density</th>\n",
       "      <th>avg_clustering</th>\n",
       "      <th>avg_path_length</th>\n",
       "      <th>diameter</th>\n",
       "      <th>assortativity</th>\n",
       "      <th>num_components</th>\n",
       "      <th>largest_component_size</th>\n",
       "    </tr>\n",
       "  </thead>\n",
       "  <tbody>\n",
       "    <tr>\n",
       "      <th>0</th>\n",
       "      <td>3980.edges</td>\n",
       "      <td>Original</td>\n",
       "      <td>NaN</td>\n",
       "      <td>N/A</td>\n",
       "      <td>True</td>\n",
       "      <td>52</td>\n",
       "      <td>146</td>\n",
       "      <td>0.110106</td>\n",
       "      <td>0.461727</td>\n",
       "      <td>2.566596</td>\n",
       "      <td>5</td>\n",
       "      <td>0.160451</td>\n",
       "      <td>4</td>\n",
       "      <td>44</td>\n",
       "    </tr>\n",
       "    <tr>\n",
       "      <th>1</th>\n",
       "      <td>3980.edges</td>\n",
       "      <td>LG</td>\n",
       "      <td>0.606933</td>\n",
       "      <td>d=1, sigma=-4.3053</td>\n",
       "      <td>True</td>\n",
       "      <td>52</td>\n",
       "      <td>152</td>\n",
       "      <td>0.114630</td>\n",
       "      <td>0.117589</td>\n",
       "      <td>2.349020</td>\n",
       "      <td>4</td>\n",
       "      <td>-0.097657</td>\n",
       "      <td>2</td>\n",
       "      <td>51</td>\n",
       "    </tr>\n",
       "    <tr>\n",
       "      <th>2</th>\n",
       "      <td>3980.edges</td>\n",
       "      <td>WS</td>\n",
       "      <td>0.128505</td>\n",
       "      <td>40.2</td>\n",
       "      <td>True</td>\n",
       "      <td>52</td>\n",
       "      <td>156</td>\n",
       "      <td>0.117647</td>\n",
       "      <td>0.075788</td>\n",
       "      <td>2.325792</td>\n",
       "      <td>4</td>\n",
       "      <td>-0.012178</td>\n",
       "      <td>1</td>\n",
       "      <td>52</td>\n",
       "    </tr>\n",
       "    <tr>\n",
       "      <th>3</th>\n",
       "      <td>3980.edges</td>\n",
       "      <td>ER</td>\n",
       "      <td>0.570055</td>\n",
       "      <td>0.115556</td>\n",
       "      <td>True</td>\n",
       "      <td>52</td>\n",
       "      <td>148</td>\n",
       "      <td>0.111614</td>\n",
       "      <td>0.117853</td>\n",
       "      <td>2.457768</td>\n",
       "      <td>5</td>\n",
       "      <td>-0.030350</td>\n",
       "      <td>1</td>\n",
       "      <td>52</td>\n",
       "    </tr>\n",
       "    <tr>\n",
       "      <th>4</th>\n",
       "      <td>3980.edges</td>\n",
       "      <td>BA</td>\n",
       "      <td>0.583533</td>\n",
       "      <td>3.333333</td>\n",
       "      <td>True</td>\n",
       "      <td>52</td>\n",
       "      <td>147</td>\n",
       "      <td>0.110860</td>\n",
       "      <td>0.140140</td>\n",
       "      <td>2.334842</td>\n",
       "      <td>4</td>\n",
       "      <td>-0.122385</td>\n",
       "      <td>1</td>\n",
       "      <td>52</td>\n",
       "    </tr>\n",
       "    <tr>\n",
       "      <th>5</th>\n",
       "      <td>3980.edges</td>\n",
       "      <td>GRG</td>\n",
       "      <td>13.273996</td>\n",
       "      <td>1.0</td>\n",
       "      <td>True</td>\n",
       "      <td>52</td>\n",
       "      <td>1304</td>\n",
       "      <td>0.983409</td>\n",
       "      <td>0.985094</td>\n",
       "      <td>1.016591</td>\n",
       "      <td>2</td>\n",
       "      <td>-0.054451</td>\n",
       "      <td>1</td>\n",
       "      <td>52</td>\n",
       "    </tr>\n",
       "  </tbody>\n",
       "</table>\n",
       "</div>"
      ],
      "text/plain": [
       "  graph_filename     model  gic_value               param  fit_success  nodes  \\\n",
       "0     3980.edges  Original        NaN                 N/A         True     52   \n",
       "1     3980.edges        LG   0.606933  d=1, sigma=-4.3053         True     52   \n",
       "2     3980.edges        WS   0.128505                40.2         True     52   \n",
       "3     3980.edges        ER   0.570055            0.115556         True     52   \n",
       "4     3980.edges        BA   0.583533            3.333333         True     52   \n",
       "5     3980.edges       GRG  13.273996                 1.0         True     52   \n",
       "\n",
       "   edges   density  avg_clustering  avg_path_length  diameter  assortativity  \\\n",
       "0    146  0.110106        0.461727         2.566596         5       0.160451   \n",
       "1    152  0.114630        0.117589         2.349020         4      -0.097657   \n",
       "2    156  0.117647        0.075788         2.325792         4      -0.012178   \n",
       "3    148  0.111614        0.117853         2.457768         5      -0.030350   \n",
       "4    147  0.110860        0.140140         2.334842         4      -0.122385   \n",
       "5   1304  0.983409        0.985094         1.016591         2      -0.054451   \n",
       "\n",
       "   num_components  largest_component_size  \n",
       "0               4                      44  \n",
       "1               2                      51  \n",
       "2               1                      52  \n",
       "3               1                      52  \n",
       "4               1                      52  \n",
       "5               1                      52  "
      ]
     },
     "execution_count": 34,
     "metadata": {},
     "output_type": "execute_result"
    }
   ],
   "source": [
    "comparators[0].summary_df"
   ]
  },
  {
   "cell_type": "code",
   "execution_count": null,
   "metadata": {},
   "outputs": [],
   "source": []
  },
  {
   "cell_type": "code",
   "execution_count": null,
   "metadata": {},
   "outputs": [],
   "source": []
  },
  {
   "cell_type": "code",
   "execution_count": null,
   "metadata": {},
   "outputs": [],
   "source": []
  }
 ],
 "metadata": {
  "kernelspec": {
   "display_name": "logit_graph",
   "language": "python",
   "name": "python3"
  },
  "language_info": {
   "codemirror_mode": {
    "name": "ipython",
    "version": 3
   },
   "file_extension": ".py",
   "mimetype": "text/x-python",
   "name": "python",
   "nbconvert_exporter": "python",
   "pygments_lexer": "ipython3",
   "version": "3.8.16"
  }
 },
 "nbformat": 4,
 "nbformat_minor": 2
}
