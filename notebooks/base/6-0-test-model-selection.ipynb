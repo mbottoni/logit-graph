{
 "cells": [
  {
   "cell_type": "code",
   "execution_count": 17,
   "metadata": {},
   "outputs": [
    {
     "name": "stdout",
     "output_type": "stream",
     "text": [
      "The autoreload extension is already loaded. To reload it, use:\n",
      "  %reload_ext autoreload\n"
     ]
    }
   ],
   "source": [
    "%load_ext autoreload\n",
    "%autoreload 2\n",
    "\n",
    "import sys\n",
    "import os\n",
    "sys.path.append('../')\n",
    "\n",
    "# Graph imports\n",
    "import src.graph as graph\n",
    "import src.estimator as estimator\n",
    "import src.utils as utils\n",
    "import src.model_selection as model_selection\n",
    "\n",
    "# usual imports\n",
    "import matplotlib.pyplot as plt\n",
    "import numpy as np\n",
    "import pandas as pd\n",
    "import seaborn as sns\n",
    "import gc\n",
    "import random\n",
    "import networkx as nx\n",
    "\n",
    "from IPython.display import display\n",
    "from pyvis.network import Network\n",
    "\n",
    "import pickle\n",
    "import os\n",
    "\n",
    "np.random.seed(42)"
   ]
  },
  {
   "cell_type": "markdown",
   "metadata": {},
   "source": [
    "# Simple test"
   ]
  },
  {
   "cell_type": "code",
   "execution_count": 64,
   "metadata": {},
   "outputs": [],
   "source": [
    "np.random.seed(42)  # Seed for reproducibility\n",
    "#real_graph = nx.gnp_random_graph(100, 0.05)  # G(n,p) model with 100 nodes and a probability of edge creation of 0.05\n",
    "real_graph = nx.watts_strogatz_graph(n=100, k=4, p=0.1)"
   ]
  },
  {
   "cell_type": "code",
   "execution_count": 65,
   "metadata": {},
   "outputs": [],
   "source": [
    "# Simulate a logistic graph model (another random graph, for demonstration purposes)\n",
    "logit_graph = nx.erdos_renyi_graph(n=100, p=0.05)"
   ]
  },
  {
   "cell_type": "code",
   "execution_count": 66,
   "metadata": {},
   "outputs": [
    {
     "name": "stdout",
     "output_type": "stream",
     "text": [
      "The best model is: WS\n",
      "Model scores:\n",
      "ER: 154.51379097017616\n",
      "WS: 102.7709195710975\n",
      "BA: 224.74150027837345\n",
      "LG: 196.81372555526394\n"
     ]
    }
   ],
   "source": [
    "# Importing the necessary class\n",
    "import src.model_selection as ms \n",
    "\n",
    "# Initialize the RandomGraphModelSelector\n",
    "selector = ms.ModelSelectorSpectrum(real_graph = real_graph, logit_graph = logit_graph)\n",
    "\n",
    "# Fit models and find the best model\n",
    "best_model, model_scores = selector.fit()\n",
    "print(f\"The best model is: {best_model}\")\n",
    "print(\"Model scores:\")\n",
    "for model, score in model_scores.items():\n",
    "    print(f\"{model}: {score}\")\n"
   ]
  },
  {
   "cell_type": "code",
   "execution_count": 67,
   "metadata": {},
   "outputs": [
    {
     "name": "stdout",
     "output_type": "stream",
     "text": [
      "ER\n",
      "For the Graph with 100 nodes and 214 edges i get the following scores: ks_stat: 0.24, cc_diff: 0.35166955266955263, aspl_diff: 1.421616161616162\n",
      "\n",
      "WS\n",
      "For the Graph with 100 nodes and 200 edges i get the following scores: ks_stat: 0.09, cc_diff: 0.06900000000000006, aspl_diff: 2.0242424242424244\n",
      "\n",
      "BA\n",
      "For the Graph with 100 nodes and 384 edges i get the following scores: ks_stat: 0.58, cc_diff: 0.18442751179436948, aspl_diff: 2.370505050505051\n",
      "\n",
      "LG\n",
      "For the Graph with 100 nodes and 238 edges i get the following scores: ks_stat: 0.4, cc_diff: 0.3190714285714285, aspl_diff: 1.5915151515151518\n",
      "\n",
      "The best model is: ER\n",
      "Model scores:\n",
      "ER: 2.013285714285715\n",
      "WS: 2.1832424242424247\n",
      "BA: 3.1349325622994204\n",
      "LG: 2.3105865800865804\n"
     ]
    }
   ],
   "source": [
    "# Importing the necessary class\n",
    "import src.model_selection as ms \n",
    "\n",
    "# Initialize the RandomGraphModelSelector\n",
    "selector = ms.RandomGraphModelSelector(real_graph = real_graph, logit_graph = logit_graph)\n",
    "\n",
    "# Fit models and find the best model\n",
    "best_model, model_scores = selector.fit()\n",
    "print(f\"The best model is: {best_model}\")\n",
    "print(\"Model scores:\")\n",
    "for model, score in model_scores.items():\n",
    "    print(f\"{model}: {score}\")\n"
   ]
  },
  {
   "cell_type": "markdown",
   "metadata": {},
   "source": [
    "# Celegans"
   ]
  },
  {
   "cell_type": "code",
   "execution_count": 73,
   "metadata": {},
   "outputs": [
    {
     "ename": "AttributeError",
     "evalue": "'Graph' object has no attribute 'GraphModel'",
     "output_type": "error",
     "traceback": [
      "\u001b[0;31m---------------------------------------------------------------------------\u001b[0m",
      "\u001b[0;31mAttributeError\u001b[0m                            Traceback (most recent call last)",
      "Cell \u001b[0;32mIn[73], line 8\u001b[0m\n\u001b[1;32m      5\u001b[0m g_celegans \u001b[38;5;241m=\u001b[39m gt\u001b[38;5;241m.\u001b[39mcollection\u001b[38;5;241m.\u001b[39mns[model]\n\u001b[1;32m      6\u001b[0m g_celegans \u001b[38;5;241m=\u001b[39m adjacency(g_celegans)\n\u001b[0;32m----> 8\u001b[0m spec_g_celegans \u001b[38;5;241m=\u001b[39m \u001b[43mgraph\u001b[49m\u001b[38;5;241;43m.\u001b[39;49m\u001b[43mGraphModel\u001b[49m\u001b[38;5;241m.\u001b[39mcalculate_spectrum(g_celegans)\n",
      "\u001b[0;31mAttributeError\u001b[0m: 'Graph' object has no attribute 'GraphModel'"
     ]
    }
   ],
   "source": [
    "import graph_tool.all as gt\n",
    "from graph_tool.all import *\n",
    "\n",
    "model = \"celegans_2019/male_gap_junction\" # undirected graph\n",
    "g_celegans = gt.collection.ns[model]\n",
    "g_celegans = adjacency(g_celegans)\n",
    "\n",
    "spec_g_celegans = graph.GraphModel.calculate_spectrum(g_celegans)"
   ]
  },
  {
   "cell_type": "code",
   "execution_count": 74,
   "metadata": {},
   "outputs": [
    {
     "name": "stdout",
     "output_type": "stream",
     "text": [
      "                           Logit Regression Results                           \n",
      "==============================================================================\n",
      "Dep. Variable:                      y   No. Observations:               170853\n",
      "Model:                          Logit   Df Residuals:                   170850\n",
      "Method:                           MLE   Df Model:                            2\n",
      "Date:                Mon, 15 Apr 2024   Pseudo R-squ.:                  0.1289\n",
      "Time:                        14:20:14   Log-Likelihood:                -8511.9\n",
      "converged:                       True   LL-Null:                       -9771.8\n",
      "Covariance Type:            nonrobust   LLR p-value:                     0.000\n",
      "==============================================================================\n",
      "                 coef    std err          z      P>|z|      [0.025      0.975]\n",
      "------------------------------------------------------------------------------\n",
      "const         -5.9638      0.043   -137.522      0.000      -6.049      -5.879\n",
      "x1             0.0844      0.002     46.396      0.000       0.081       0.088\n",
      "x2             0.0743      0.002     38.430      0.000       0.071       0.078\n",
      "==============================================================================\n"
     ]
    }
   ],
   "source": [
    "est = estimator.LogitRegEstimator2(g_celegans)\n",
    "params, pval = est.estimate_parameters()\n",
    "sigma,alpha,beta = params"
   ]
  },
  {
   "cell_type": "markdown",
   "metadata": {},
   "source": [
    "## Gen graph with the same parameters"
   ]
  },
  {
   "cell_type": "code",
   "execution_count": 75,
   "metadata": {},
   "outputs": [],
   "source": [
    "# beta should be higher than c\n",
    "n = g_celegans.shape[0]\n",
    "p = 0\n",
    "alpha = alpha   #  negative 0.003\n",
    "beta  = beta    #  negative the higher the more concentrated will be the edges into a single vertex 0.003\n",
    "sigma = sigma    # intercept the higher the harder for creating edges 6\n",
    "threshold   = 0.5\n",
    "n_iteration = 10\n",
    "warm_up     = 5\n",
    "params_dict = {\n",
    "    \"n\": n,\n",
    "    \"p\": p,\n",
    "    \"alpha\": alpha,\n",
    "    \"beta\": beta,\n",
    "    \"sigma\": sigma,\n",
    "    \"threshold\": threshold,\n",
    "    \"n_iteration\": n_iteration,\n",
    "    \"warm_up\": warm_up\n",
    "}"
   ]
  },
  {
   "cell_type": "code",
   "execution_count": 76,
   "metadata": {},
   "outputs": [
    {
     "ename": "AttributeError",
     "evalue": "'Graph' object has no attribute 'GraphModel'",
     "output_type": "error",
     "traceback": [
      "\u001b[0;31m---------------------------------------------------------------------------\u001b[0m",
      "\u001b[0;31mAttributeError\u001b[0m                            Traceback (most recent call last)",
      "Cell \u001b[0;32mIn[76], line 1\u001b[0m\n\u001b[0;32m----> 1\u001b[0m graph \u001b[38;5;241m=\u001b[39m \u001b[43mgraph\u001b[49m\u001b[38;5;241;43m.\u001b[39;49m\u001b[43mGraphModel\u001b[49m(\u001b[38;5;241m*\u001b[39m\u001b[38;5;241m*\u001b[39mparams_dict)\n\u001b[1;32m      2\u001b[0m graphs, spec \u001b[38;5;241m=\u001b[39m graph\u001b[38;5;241m.\u001b[39mpopulate_edges( warm_up \u001b[38;5;241m=\u001b[39m warm_up, max_iterations \u001b[38;5;241m=\u001b[39m n_iteration)\n",
      "\u001b[0;31mAttributeError\u001b[0m: 'Graph' object has no attribute 'GraphModel'"
     ]
    }
   ],
   "source": [
    "graph = graph.GraphModel(**params_dict)\n",
    "graphs, spec = graph.populate_edges( warm_up = warm_up, max_iterations = n_iteration)"
   ]
  },
  {
   "cell_type": "code",
   "execution_count": 77,
   "metadata": {},
   "outputs": [
    {
     "name": "stdout",
     "output_type": "stream",
     "text": [
      "../data/input/graph_data_n=585_p=0_alpha=-0.0843557889967107_beta=-0.07429414968441728_sigma=5.963769941679803_threshold=0.5_n_iteration=10_warm_up=5.pickle\n",
      "../data/input/spec_data_n=585_p=0_alpha=-0.0843557889967107_beta=-0.07429414968441728_sigma=5.963769941679803_threshold=0.5_n_iteration=10_warm_up=5.pickle\n"
     ]
    }
   ],
   "source": [
    "ut = utils.GraphUtils()\n",
    "ut.saving_graph_artifacts(params_dict, graphs, spec)\n",
    "#graphs, spec = ut.loading_graph_artifacts(params_dict)"
   ]
  },
  {
   "cell_type": "code",
   "execution_count": 78,
   "metadata": {},
   "outputs": [
    {
     "data": {
      "image/png": "[encoded data removed]",
      "text/plain": [
       "<Figure size 800x400 with 1 Axes>"
      ]
     },
     "metadata": {},
     "output_type": "display_data"
    },
    {
     "data": {
      "image/png": "[encoded data removed]",
      "text/plain": [
       "<Figure size 800x400 with 1 Axes>"
      ]
     },
     "metadata": {},
     "output_type": "display_data"
    }
   ],
   "source": [
    "g = graphs[-1]\n",
    "s = spec[-1]\n",
    "\n",
    "fig1 = ut.plot_graph_from_adjacency(adj_matrix=g, pos=None, title='Simulated Graph', size=(8, 4), node_size=100, font_size=1)\n",
    "fig2 = ut.plot_graph_from_adjacency(adj_matrix=g_celegans, pos=None, title='C.Elegans Male Gap Junction', size=(8, 4), node_size=100, font_size=1)"
   ]
  },
  {
   "cell_type": "markdown",
   "metadata": {},
   "source": [
    "## Model Selections"
   ]
  },
  {
   "cell_type": "code",
   "execution_count": 79,
   "metadata": {},
   "outputs": [
    {
     "name": "stdout",
     "output_type": "stream",
     "text": [
      "ER\n",
      "For the Graph with 585 nodes and 1746 edges i get the following scores: ks_stat: 0.29914529914529914, cc_diff: 0.19705158010520082, aspl_diff: 0\n",
      "\n",
      "WS\n",
      "For the Graph with 585 nodes and 1170 edges i get the following scores: ks_stat: 0.4461538461538462, cc_diff: 0.27465222416270607, aspl_diff: 0\n",
      "\n",
      "BA\n",
      "For the Graph with 585 nodes and 3474 edges i get the following scores: ks_stat: 0.6547008547008547, cc_diff: 0.13388363850118884, aspl_diff: 0\n",
      "\n",
      "LG\n",
      "For the Graph with 585 nodes and 1229 edges i get the following scores: ks_stat: 0.1794871794871795, cc_diff: 0.19820339125701197, aspl_diff: 0\n",
      "\n",
      "The best model is: LG\n",
      "Model scores:\n",
      "ER: 0.49619687925049993\n",
      "WS: 0.7208060703165522\n",
      "BA: 0.7885844932020436\n",
      "LG: 0.37769057074419143\n"
     ]
    }
   ],
   "source": [
    "import src.model_selection as ms \n",
    "real_graph = nx.from_numpy_array(g_celegans.toarray())\n",
    "logit_graph = nx.from_numpy_array(g)\n",
    "\n",
    "selector = ms.RandomGraphModelSelector(real_graph = real_graph, logit_graph = logit_graph)\n",
    "\n",
    "# Fit models and find the best model\n",
    "best_model, model_scores = selector.fit()\n",
    "print(f\"The best model is: {best_model}\")\n",
    "print(\"Model scores:\")\n",
    "for model, score in model_scores.items():\n",
    "    print(f\"{model}: {score}\")\n"
   ]
  },
  {
   "cell_type": "code",
   "execution_count": 80,
   "metadata": {},
   "outputs": [
    {
     "name": "stdout",
     "output_type": "stream",
     "text": [
      "The best model is: LG\n",
      "Model scores:\n",
      "ER: 4.652814868537843\n",
      "WS: 13.702000475541237\n",
      "BA: 23.100967890079875\n",
      "LG: 3.819704267074205\n"
     ]
    }
   ],
   "source": [
    "import src.model_selection as ms \n",
    "real_graph = nx.from_numpy_array(g_celegans.toarray())\n",
    "logit_graph = nx.from_numpy_array(g)\n",
    "\n",
    "selector = ms.ModelSelectorSpectrum(real_graph = real_graph, logit_graph = logit_graph)\n",
    "\n",
    "# Fit models and find the best model\n",
    "best_model, model_scores = selector.fit()\n",
    "print(f\"The best model is: {best_model}\")\n",
    "print(\"Model scores:\")\n",
    "for model, score in model_scores.items():\n",
    "    print(f\"{model}: {score}\")\n"
   ]
  },
  {
   "cell_type": "code",
   "execution_count": 83,
   "metadata": {},
   "outputs": [],
   "source": [
    "n_sim = 1000\n",
    "results = []\n",
    "for _ in range(n_sim):\n",
    "    import src.model_selection as ms \n",
    "    real_graph = nx.from_numpy_array(g_celegans.toarray())\n",
    "    logit_graph = nx.from_numpy_array(g)\n",
    "    selector = ms.ModelSelectorSpectrum(real_graph = real_graph, logit_graph = logit_graph)\n",
    "    best_model, model_scores = selector.fit()\n",
    "    results.append(best_model)"
   ]
  },
  {
   "cell_type": "code",
   "execution_count": 84,
   "metadata": {},
   "outputs": [
    {
     "data": {
      "image/png": "[encoded data removed]",
      "text/plain": [
       "<Figure size 640x480 with 1 Axes>"
      ]
     },
     "metadata": {},
     "output_type": "display_data"
    }
   ],
   "source": [
    "from collections import Counter\n",
    "\n",
    "counts = Counter(results)\n",
    "\n",
    "# Plot \n",
    "plt.bar(counts.keys(), counts.values())\n",
    "plt.xlabel('Model')\n",
    "plt.ylabel('Count')\n",
    "plt.title('Model counts')\n",
    "plt.show()"
   ]
  },
  {
   "cell_type": "code",
   "execution_count": null,
   "metadata": {},
   "outputs": [],
   "source": []
  },
  {
   "cell_type": "code",
   "execution_count": null,
   "metadata": {},
   "outputs": [],
   "source": []
  },
  {
   "cell_type": "code",
   "execution_count": null,
   "metadata": {},
   "outputs": [],
   "source": []
  },
  {
   "cell_type": "code",
   "execution_count": null,
   "metadata": {},
   "outputs": [],
   "source": []
  }
 ],
 "metadata": {
  "kernelspec": {
   "display_name": "Python 3",
   "language": "python",
   "name": "python3"
  },
  "language_info": {
   "codemirror_mode": {
    "name": "ipython",
    "version": 3
   },
   "file_extension": ".py",
   "mimetype": "text/x-python",
   "name": "python",
   "nbconvert_exporter": "python",
   "pygments_lexer": "ipython3",
   "version": "3.12.2"
  }
 },
 "nbformat": 4,
 "nbformat_minor": 2
}
