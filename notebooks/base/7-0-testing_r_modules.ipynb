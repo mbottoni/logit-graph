{
 "cells": [
  {
   "cell_type": "code",
   "execution_count": 2,
   "metadata": {},
   "outputs": [
    {
     "name": "stdout",
     "output_type": "stream",
     "text": [
      "The autoreload extension is already loaded. To reload it, use:\n",
      "  %reload_ext autoreload\n"
     ]
    }
   ],
   "source": [
    "%load_ext autoreload\n",
    "%autoreload 2\n",
    "\n",
    "import sys\n",
    "import os\n",
    "import networkx as nx\n",
    "sys.path.append('../')\n",
    "\n",
    "# Graph imports\n",
    "#import src.graph as graph\n",
    "#import src.estimator as estimator\n",
    "\n",
    "import src.param_estimator as pe\n",
    "import src.gic as gic\n",
    "import src.model_selection as ms"
   ]
  },
  {
   "cell_type": "code",
   "execution_count": 10,
   "metadata": {},
   "outputs": [
    {
     "name": "stdout",
     "output_type": "stream",
     "text": [
      "GIC: 0.3979230573296777\n",
      "GIC: 4.314880451202447\n"
     ]
    }
   ],
   "source": [
    "G = nx.fast_gnp_random_graph(50, 0.5, seed=1)\n",
    "gic_calculator = gic.GraphInformationCriterion(G, 'ER', p=0.5)\n",
    "result = gic_calculator.calculate_gic()\n",
    "print(\"GIC:\", result)\n",
    "\n",
    "gic_calculator = gic.GraphInformationCriterion(G, 'ER', p=0.8)\n",
    "result = gic_calculator.calculate_gic()\n",
    "print(\"GIC:\", result)"
   ]
  },
  {
   "cell_type": "code",
   "execution_count": 11,
   "metadata": {},
   "outputs": [
    {
     "name": "stdout",
     "output_type": "stream",
     "text": [
      "{'param': 0.5000000000000001, 'gic': 0.0010258658874931319}\n"
     ]
    }
   ],
   "source": [
    "# Example Usage\n",
    "G = nx.erdos_renyi_graph(50, 0.5, seed=1)\n",
    "estimator = pe.GraphParameterEstimator(G, 'ER', interval={'lo': 0.2, 'hi': 0.8}, eps=0.1)\n",
    "result = estimator.estimate()\n",
    "print(result)"
   ]
  },
  {
   "cell_type": "code",
   "execution_count": 15,
   "metadata": {},
   "outputs": [
    {
     "name": "stdout",
     "output_type": "stream",
     "text": [
      "testing the selected model for ER\n",
      "Model: ER, Parameters: {'lo': 0.01, 'hi': 0.1}\n",
      "model function <function GraphModelSelection.model_function.<locals>.<lambda> at 0x15991bee0>\n",
      "\n",
      "ER result:  {'param': 0.06, 'gic': 0.020838794369186845}\n",
      "\n",
      "testing the selected model for WS\n",
      "Model: WS, Parameters: {'lo': 0.01, 'hi': 0.1}\n",
      "model function <function GraphModelSelection.model_function.<locals>.<lambda> at 0x15991b9d0>\n",
      "\n",
      "WS result:  {'param': 0.09, 'gic': 2.653863578118849}\n",
      "\n"
     ]
    },
    {
     "data": {
      "text/plain": [
       "{'method': 'Graph Model Selection',\n",
       " 'info': 'Selects the graph model that best approximates the observed graph.',\n",
       " 'model': 'ER',\n",
       " 'estimates': array([('ER', 0.06, 0.02083879), ('WS', 0.09, 2.65386358)],\n",
       "       dtype=[('model', '<U10'), ('param', '<f8'), ('GIC', '<f8')])}"
      ]
     },
     "execution_count": 15,
     "metadata": {},
     "output_type": "execute_result"
    }
   ],
   "source": [
    "# Example Usage\n",
    "G = nx.erdos_renyi_graph(100, 0.05)  # Example graph\n",
    "\n",
    "selection = ms.GraphModelSelection(G,\n",
    "                                   models=[\"ER\", \"WS\"],\n",
    "                                   log_graph=None,\n",
    "                                   log_params=None,\n",
    "                                   parameters=[{'lo': 0.01, 'hi': 0.1},\n",
    "                                               {'lo': 0.01, 'hi': 0.1}]\n",
    "                                    )\n",
    "result = selection.select_model()\n",
    "result"
   ]
  },
  {
   "cell_type": "code",
   "execution_count": null,
   "metadata": {},
   "outputs": [],
   "source": []
  }
 ],
 "metadata": {
  "kernelspec": {
   "display_name": "Python 3",
   "language": "python",
   "name": "python3"
  },
  "language_info": {
   "codemirror_mode": {
    "name": "ipython",
    "version": 3
   },
   "file_extension": ".py",
   "mimetype": "text/x-python",
   "name": "python",
   "nbconvert_exporter": "python",
   "pygments_lexer": "ipython3",
   "version": "3.8.16"
  }
 },
 "nbformat": 4,
 "nbformat_minor": 2
}
