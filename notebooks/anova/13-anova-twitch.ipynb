{
 "cells": [
  {
   "cell_type": "code",
   "execution_count": 67,
   "id": "30bcae90",
   "metadata": {},
   "outputs": [
    {
     "name": "stdout",
     "output_type": "stream",
     "text": [
      "The autoreload extension is already loaded. To reload it, use:\n",
      "  %reload_ext autoreload\n"
     ]
    }
   ],
   "source": [
    "%load_ext autoreload\n",
    "%autoreload 2\n",
    "\n",
    "import sys, importlib, pickle, gc\n",
    "sys.path.append('../..')\n",
    "sys.modules['src.simulation'] = importlib.import_module('src.logit_graph.simulation')\n"
   ]
  },
  {
   "cell_type": "code",
   "execution_count": 68,
   "id": "4d1550bf",
   "metadata": {},
   "outputs": [],
   "source": [
    "\n",
    "import sys\n",
    "import os\n",
    "\n",
    "#Graph imports\n",
    "sys.path.append('../..')\n",
    "import src.logit_graph.graph as graph\n",
    "import src.logit_graph.logit_estimator as estimator\n",
    "import src.logit_graph.utils as utils\n",
    "import src.logit_graph.model_selection as model_selection\n",
    "import src.logit_graph.gic as gic\n",
    "import src.logit_graph.param_estimator as pe\n",
    "import src.logit_graph.graph as graph\n",
    "import src.logit_graph.model_selection as ms\n",
    "\n",
    "from src.logit_graph.simulation import LogitGraphFitter, GraphModelComparator\n",
    "\n",
    "# usual imports\n",
    "import matplotlib.pyplot as plt\n",
    "import pickle\n",
    "import math\n",
    "import matplotlib.pyplot as plt\n",
    "from scipy import stats\n",
    "from scipy.stats import gaussian_kde\n",
    "import numpy as np\n",
    "import pandas as pd\n",
    "import seaborn as sns\n",
    "import gc\n",
    "import random\n",
    "import networkx as nx\n",
    "from numpy import errstate\n",
    "\n",
    "from IPython.display import display\n",
    "from pyvis.network import Network\n",
    "from mpl_toolkits.axes_grid1 import make_axes_locatable\n"
   ]
  },
  {
   "cell_type": "code",
   "execution_count": 69,
   "id": "5f49542c",
   "metadata": {},
   "outputs": [
    {
     "data": {
      "text/plain": [
       "['RU',\n",
       " 'ENGB',\n",
       " 'citing.txt',\n",
       " 'PTBR',\n",
       " 'DE',\n",
       " 'README.txt',\n",
       " 'FR',\n",
       " 'ES',\n",
       " 'graphs_processed']"
      ]
     },
     "execution_count": 69,
     "metadata": {},
     "output_type": "execute_result"
    }
   ],
   "source": [
    "data_directory = f'../../data/twitch/'\n",
    "os.listdir(data_directory)"
   ]
  },
  {
   "cell_type": "code",
   "execution_count": 70,
   "id": "4c940a1d",
   "metadata": {},
   "outputs": [],
   "source": [
    "from src.logit_graph.simulation import estimate_sigma_many\n",
    "\n",
    "# Configuration\n",
    "an_d = 1  # set the desired d\n",
    "\n",
    "n_repeats = 50\n",
    "\n",
    "max_edges = None\n",
    "max_non_edges = None\n",
    "\n",
    "l1_wt = 1 # The L1 weight for the regularization\n",
    "alpha = 0 # The regularization parameter\n",
    "\n",
    "seed = 42\n",
    "\n",
    "# Collect Twitch processed graph files\n",
    "graphs_processed_dir = os.path.join(data_directory, 'graphs_processed')\n",
    "region_files = [f for f in os.listdir(graphs_processed_dir) if f.endswith('_graph.edges')]\n",
    "region_files = sorted(region_files)\n"
   ]
  },
  {
   "cell_type": "code",
   "execution_count": 71,
   "id": "41b21125",
   "metadata": {},
   "outputs": [
    {
     "name": "stdout",
     "output_type": "stream",
     "text": [
      "['RU_graph.edges', 'PTBR_graph.edges', 'FR_graph.edges', 'ES_graph.edges', 'ENGB_graph.edges', 'DE_graph.edges']\n",
      "Estimating sigmas for region=RU from ../../data/twitch/graphs_processed/RU_graph.edges\n"
     ]
    },
    {
     "name": "stderr",
     "output_type": "stream",
     "text": [
      "100%|██████████| 50/50 [11:28<00:00, 13.78s/it]\n"
     ]
    },
    {
     "name": "stdout",
     "output_type": "stream",
     "text": [
      "Estimating sigmas for region=PTBR from ../../data/twitch/graphs_processed/PTBR_graph.edges\n"
     ]
    },
    {
     "name": "stderr",
     "output_type": "stream",
     "text": [
      "100%|██████████| 50/50 [04:07<00:00,  4.95s/it]\n"
     ]
    },
    {
     "name": "stdout",
     "output_type": "stream",
     "text": [
      "Estimating sigmas for region=FR from ../../data/twitch/graphs_processed/FR_graph.edges\n"
     ]
    },
    {
     "name": "stderr",
     "output_type": "stream",
     "text": [
      "100%|██████████| 50/50 [48:30<00:00, 58.22s/it]\n"
     ]
    },
    {
     "name": "stdout",
     "output_type": "stream",
     "text": [
      "Estimating sigmas for region=ES from ../../data/twitch/graphs_processed/ES_graph.edges\n"
     ]
    },
    {
     "name": "stderr",
     "output_type": "stream",
     "text": [
      "100%|██████████| 50/50 [18:41<00:00, 22.43s/it]\n"
     ]
    },
    {
     "name": "stdout",
     "output_type": "stream",
     "text": [
      "Estimating sigmas for region=ENGB from ../../data/twitch/graphs_processed/ENGB_graph.edges\n"
     ]
    },
    {
     "name": "stderr",
     "output_type": "stream",
     "text": [
      "100%|██████████| 50/50 [19:16<00:00, 23.12s/it]\n"
     ]
    },
    {
     "name": "stdout",
     "output_type": "stream",
     "text": [
      "Estimating sigmas for region=DE from ../../data/twitch/graphs_processed/DE_graph.edges\n"
     ]
    },
    {
     "name": "stderr",
     "output_type": "stream",
     "text": [
      "100%|██████████| 50/50 [1:38:39<00:00, 118.39s/it]\n"
     ]
    }
   ],
   "source": [
    "records = []\n",
    "#files_to_analyse = region_files[-2:]\n",
    "files_to_analyse = region_files[::-1]\n",
    "print(files_to_analyse)\n",
    "\n",
    "for file_name in files_to_analyse:\n",
    "    region = file_name.replace('_graph.edges', '')\n",
    "    file_path = os.path.join(graphs_processed_dir, file_name)\n",
    "    print(f\"Estimating sigmas for region={region} from {file_path}\")\n",
    "\n",
    "    G = nx.read_edgelist(file_path, nodetype=int)\n",
    "    sigmas = estimate_sigma_many(\n",
    "        G,\n",
    "        d=an_d,\n",
    "        n_repeats=n_repeats,\n",
    "        max_edges=max_edges,\n",
    "        max_non_edges=max_non_edges,\n",
    "        l1_wt=l1_wt,\n",
    "        alpha=alpha,\n",
    "        seed=seed,\n",
    "        verbose=False,\n",
    "    )\n",
    "\n",
    "    for idx, s in enumerate(sigmas):\n",
    "        records.append({\n",
    "            'region': region,\n",
    "            'd': an_d,\n",
    "            'repeat_index': idx,\n",
    "            'sigma': float(s),\n",
    "            'num_nodes': G.number_of_nodes(),\n",
    "            'num_edges': G.number_of_edges(),\n",
    "        })"
   ]
  },
  {
   "cell_type": "code",
   "execution_count": 72,
   "id": "3c19fd2b",
   "metadata": {},
   "outputs": [
    {
     "name": "stdout",
     "output_type": "stream",
     "text": [
      "Saved sigma estimates to runs/twitch_sigma_estimates_d1_N50.csv\n"
     ]
    },
    {
     "data": {
      "text/html": [
       "<div>\n",
       "<style scoped>\n",
       "    .dataframe tbody tr th:only-of-type {\n",
       "        vertical-align: middle;\n",
       "    }\n",
       "\n",
       "    .dataframe tbody tr th {\n",
       "        vertical-align: top;\n",
       "    }\n",
       "\n",
       "    .dataframe thead th {\n",
       "        text-align: right;\n",
       "    }\n",
       "</style>\n",
       "<table border=\"1\" class=\"dataframe\">\n",
       "  <thead>\n",
       "    <tr style=\"text-align: right;\">\n",
       "      <th></th>\n",
       "      <th>region</th>\n",
       "      <th>d</th>\n",
       "      <th>repeat_index</th>\n",
       "      <th>sigma</th>\n",
       "      <th>num_nodes</th>\n",
       "      <th>num_edges</th>\n",
       "    </tr>\n",
       "  </thead>\n",
       "  <tbody>\n",
       "    <tr>\n",
       "      <th>0</th>\n",
       "      <td>RU</td>\n",
       "      <td>1</td>\n",
       "      <td>0</td>\n",
       "      <td>-1.757861</td>\n",
       "      <td>4385</td>\n",
       "      <td>37304</td>\n",
       "    </tr>\n",
       "    <tr>\n",
       "      <th>1</th>\n",
       "      <td>RU</td>\n",
       "      <td>1</td>\n",
       "      <td>1</td>\n",
       "      <td>-1.762314</td>\n",
       "      <td>4385</td>\n",
       "      <td>37304</td>\n",
       "    </tr>\n",
       "    <tr>\n",
       "      <th>2</th>\n",
       "      <td>RU</td>\n",
       "      <td>1</td>\n",
       "      <td>2</td>\n",
       "      <td>-1.767284</td>\n",
       "      <td>4385</td>\n",
       "      <td>37304</td>\n",
       "    </tr>\n",
       "    <tr>\n",
       "      <th>3</th>\n",
       "      <td>RU</td>\n",
       "      <td>1</td>\n",
       "      <td>3</td>\n",
       "      <td>-1.752017</td>\n",
       "      <td>4385</td>\n",
       "      <td>37304</td>\n",
       "    </tr>\n",
       "    <tr>\n",
       "      <th>4</th>\n",
       "      <td>RU</td>\n",
       "      <td>1</td>\n",
       "      <td>4</td>\n",
       "      <td>-1.758021</td>\n",
       "      <td>4385</td>\n",
       "      <td>37304</td>\n",
       "    </tr>\n",
       "  </tbody>\n",
       "</table>\n",
       "</div>"
      ],
      "text/plain": [
       "  region  d  repeat_index     sigma  num_nodes  num_edges\n",
       "0     RU  1             0 -1.757861       4385      37304\n",
       "1     RU  1             1 -1.762314       4385      37304\n",
       "2     RU  1             2 -1.767284       4385      37304\n",
       "3     RU  1             3 -1.752017       4385      37304\n",
       "4     RU  1             4 -1.758021       4385      37304"
      ]
     },
     "execution_count": 72,
     "metadata": {},
     "output_type": "execute_result"
    }
   ],
   "source": [
    "sigma_df = pd.DataFrame(records)\n",
    "run_dir = 'runs'\n",
    "os.makedirs(run_dir, exist_ok=True)\n",
    "out_path = os.path.join(run_dir, f'twitch_sigma_estimates_d{an_d}_N{n_repeats}.csv')\n",
    "sigma_df.to_csv(out_path, index=False)\n",
    "print(f\"Saved sigma estimates to {out_path}\")\n",
    "sigma_df.head()\n"
   ]
  },
  {
   "cell_type": "code",
   "execution_count": 79,
   "id": "ba9d5717",
   "metadata": {},
   "outputs": [
    {
     "data": {
      "text/plain": [
       "'finish simulation'"
      ]
     },
     "execution_count": 79,
     "metadata": {},
     "output_type": "execute_result"
    }
   ],
   "source": [
    "'finish simulation'"
   ]
  },
  {
   "cell_type": "markdown",
   "id": "74e240c4",
   "metadata": {},
   "source": [
    "## running the anova"
   ]
  },
  {
   "cell_type": "code",
   "execution_count": 94,
   "id": "528096eb",
   "metadata": {},
   "outputs": [
    {
     "name": "stdout",
     "output_type": "stream",
     "text": [
      "Loading: runs/twitch_sigma_estimates_d0_N50.csv\n",
      "Loading: runs/twitch_sigma_estimates_d1_N50.csv\n"
     ]
    }
   ],
   "source": [
    "import os\n",
    "import pandas as pd\n",
    "from scipy import stats\n",
    "\n",
    "# Match the save path used in the dataset notebook\n",
    "an_d = [0, 1]\n",
    "n_repeats = 50\n",
    "run_dir = os.path.join('runs')\n",
    "\n",
    "\n",
    "dfs = []\n",
    "for an_d in [0, 1]:\n",
    "    filename = f'twitch_sigma_estimates_d{an_d}_N{n_repeats}.csv'\n",
    "    path = os.path.join(run_dir, filename)\n",
    "    print(f\"Loading: {path}\")\n",
    "    df = pd.read_csv(path)\n",
    "    dfs.append(df)"
   ]
  },
  {
   "cell_type": "code",
   "execution_count": 96,
   "id": "16a9a279",
   "metadata": {},
   "outputs": [],
   "source": [
    "df = pd.concat(dfs)\n",
    "#subset = df[df['d'] == an_d].copy()"
   ]
  },
  {
   "cell_type": "code",
   "execution_count": 97,
   "id": "d9bc3c68",
   "metadata": {},
   "outputs": [
    {
     "data": {
      "text/html": [
       "<div>\n",
       "<style scoped>\n",
       "    .dataframe tbody tr th:only-of-type {\n",
       "        vertical-align: middle;\n",
       "    }\n",
       "\n",
       "    .dataframe tbody tr th {\n",
       "        vertical-align: top;\n",
       "    }\n",
       "\n",
       "    .dataframe thead th {\n",
       "        text-align: right;\n",
       "    }\n",
       "</style>\n",
       "<table border=\"1\" class=\"dataframe\">\n",
       "  <thead>\n",
       "    <tr style=\"text-align: right;\">\n",
       "      <th></th>\n",
       "      <th>region</th>\n",
       "      <th>d</th>\n",
       "      <th>repeat_index</th>\n",
       "      <th>sigma</th>\n",
       "      <th>num_nodes</th>\n",
       "      <th>num_edges</th>\n",
       "    </tr>\n",
       "  </thead>\n",
       "  <tbody>\n",
       "    <tr>\n",
       "      <th>0</th>\n",
       "      <td>RU</td>\n",
       "      <td>0</td>\n",
       "      <td>0</td>\n",
       "      <td>-1.752862</td>\n",
       "      <td>4385</td>\n",
       "      <td>37304</td>\n",
       "    </tr>\n",
       "    <tr>\n",
       "      <th>1</th>\n",
       "      <td>RU</td>\n",
       "      <td>0</td>\n",
       "      <td>1</td>\n",
       "      <td>-1.785105</td>\n",
       "      <td>4385</td>\n",
       "      <td>37304</td>\n",
       "    </tr>\n",
       "    <tr>\n",
       "      <th>2</th>\n",
       "      <td>RU</td>\n",
       "      <td>0</td>\n",
       "      <td>2</td>\n",
       "      <td>-1.765568</td>\n",
       "      <td>4385</td>\n",
       "      <td>37304</td>\n",
       "    </tr>\n",
       "    <tr>\n",
       "      <th>3</th>\n",
       "      <td>RU</td>\n",
       "      <td>0</td>\n",
       "      <td>3</td>\n",
       "      <td>-1.765380</td>\n",
       "      <td>4385</td>\n",
       "      <td>37304</td>\n",
       "    </tr>\n",
       "    <tr>\n",
       "      <th>4</th>\n",
       "      <td>RU</td>\n",
       "      <td>0</td>\n",
       "      <td>4</td>\n",
       "      <td>-1.793135</td>\n",
       "      <td>4385</td>\n",
       "      <td>37304</td>\n",
       "    </tr>\n",
       "  </tbody>\n",
       "</table>\n",
       "</div>"
      ],
      "text/plain": [
       "  region  d  repeat_index     sigma  num_nodes  num_edges\n",
       "0     RU  0             0 -1.752862       4385      37304\n",
       "1     RU  0             1 -1.785105       4385      37304\n",
       "2     RU  0             2 -1.765568       4385      37304\n",
       "3     RU  0             3 -1.765380       4385      37304\n",
       "4     RU  0             4 -1.793135       4385      37304"
      ]
     },
     "execution_count": 97,
     "metadata": {},
     "output_type": "execute_result"
    }
   ],
   "source": [
    "df.head()"
   ]
  },
  {
   "cell_type": "code",
   "execution_count": 104,
   "id": "c96be290",
   "metadata": {},
   "outputs": [
    {
     "data": {
      "image/png": "[encoded data removed]",
      "text/plain": [
       "<Figure size 1000x600 with 1 Axes>"
      ]
     },
     "metadata": {},
     "output_type": "display_data"
    }
   ],
   "source": [
    "# Create histogram of sigmas by region and d\n",
    "import matplotlib.pyplot as plt\n",
    "\n",
    "fig, ax = plt.subplots(figsize=(10, 6))\n",
    "\n",
    "# Define colors for each region\n",
    "region_colors = {\n",
    "    'RU': 'red',\n",
    "    'ENGB': 'blue', \n",
    "    'PTBR': 'green',\n",
    "    'DE': 'purple',\n",
    "    'FR': 'orange',\n",
    "    'ES': 'brown'\n",
    "}\n",
    "\n",
    "# Plot for each region\n",
    "for region in df['region'].unique():\n",
    "    for d in df['d'].unique():\n",
    "        region_data = df[(df['region'] == region) & (df['d'] == d)]['sigma']\n",
    "        plt.hist(region_data, alpha=0.5, \n",
    "                color=region_colors[region],\n",
    "                linestyle='-' if d==0 else '--',\n",
    "                label=f'{region} (d={d})',\n",
    "                bins=5)\n",
    "\n",
    "plt.yscale('log')\n",
    "plt.xlabel('Sigma')\n",
    "plt.ylabel('Count (log scale)')\n",
    "plt.title('Distribution of Sigma Values by Region and d')\n",
    "plt.legend()\n",
    "plt.grid(True)\n",
    "plt.show()\n"
   ]
  },
  {
   "cell_type": "code",
   "execution_count": 120,
   "id": "61b68110",
   "metadata": {},
   "outputs": [],
   "source": [
    "# Prepare groups by region and d\n",
    "groups = df.groupby(['region', 'd'])['sigma'].apply(list)\n",
    "regions = list(groups.index)"
   ]
  },
  {
   "cell_type": "code",
   "execution_count": 121,
   "id": "f964feab",
   "metadata": {},
   "outputs": [
    {
     "name": "stdout",
     "output_type": "stream",
     "text": [
      "ANOVA results (d=1, N=50): F=7.2854e+03, p=8.563938e-306\n"
     ]
    }
   ],
   "source": [
    "d_to_use = 0\n",
    "\n",
    "values = [groups[r] for r in regions if r[1] == d_to_use]\n",
    "F, p = stats.f_oneway(*values)\n",
    "print(f\"ANOVA results (d={an_d}, N={n_repeats}): F={F:.4e}, p={p:.6e}\")"
   ]
  },
  {
   "cell_type": "code",
   "execution_count": 122,
   "id": "ce30364e",
   "metadata": {},
   "outputs": [
    {
     "data": {
      "text/html": [
       "<div>\n",
       "<style scoped>\n",
       "    .dataframe tbody tr th:only-of-type {\n",
       "        vertical-align: middle;\n",
       "    }\n",
       "\n",
       "    .dataframe tbody tr th {\n",
       "        vertical-align: top;\n",
       "    }\n",
       "\n",
       "    .dataframe thead th {\n",
       "        text-align: right;\n",
       "    }\n",
       "</style>\n",
       "<table border=\"1\" class=\"dataframe\">\n",
       "  <thead>\n",
       "    <tr style=\"text-align: right;\">\n",
       "      <th></th>\n",
       "      <th></th>\n",
       "      <th>mean</th>\n",
       "      <th>std</th>\n",
       "      <th>count</th>\n",
       "    </tr>\n",
       "    <tr>\n",
       "      <th>region</th>\n",
       "      <th>d</th>\n",
       "      <th></th>\n",
       "      <th></th>\n",
       "      <th></th>\n",
       "    </tr>\n",
       "  </thead>\n",
       "  <tbody>\n",
       "    <tr>\n",
       "      <th rowspan=\"2\" valign=\"top\">DE</th>\n",
       "      <th>0</th>\n",
       "      <td>-1.703793</td>\n",
       "      <td>0.009422</td>\n",
       "      <td>50</td>\n",
       "    </tr>\n",
       "    <tr>\n",
       "      <th>1</th>\n",
       "      <td>-1.938634</td>\n",
       "      <td>0.005627</td>\n",
       "      <td>50</td>\n",
       "    </tr>\n",
       "    <tr>\n",
       "      <th rowspan=\"2\" valign=\"top\">ENGB</th>\n",
       "      <th>0</th>\n",
       "      <td>-1.783511</td>\n",
       "      <td>0.018528</td>\n",
       "      <td>50</td>\n",
       "    </tr>\n",
       "    <tr>\n",
       "      <th>1</th>\n",
       "      <td>-1.468537</td>\n",
       "      <td>0.007519</td>\n",
       "      <td>50</td>\n",
       "    </tr>\n",
       "    <tr>\n",
       "      <th rowspan=\"2\" valign=\"top\">ES</th>\n",
       "      <th>0</th>\n",
       "      <td>-1.924475</td>\n",
       "      <td>0.011984</td>\n",
       "      <td>50</td>\n",
       "    </tr>\n",
       "    <tr>\n",
       "      <th>1</th>\n",
       "      <td>-2.193535</td>\n",
       "      <td>0.008022</td>\n",
       "      <td>50</td>\n",
       "    </tr>\n",
       "    <tr>\n",
       "      <th rowspan=\"2\" valign=\"top\">FR</th>\n",
       "      <th>0</th>\n",
       "      <td>-1.788165</td>\n",
       "      <td>0.011333</td>\n",
       "      <td>50</td>\n",
       "    </tr>\n",
       "    <tr>\n",
       "      <th>1</th>\n",
       "      <td>-1.999533</td>\n",
       "      <td>0.005420</td>\n",
       "      <td>50</td>\n",
       "    </tr>\n",
       "    <tr>\n",
       "      <th rowspan=\"2\" valign=\"top\">PTBR</th>\n",
       "      <th>0</th>\n",
       "      <td>-2.239080</td>\n",
       "      <td>0.018234</td>\n",
       "      <td>50</td>\n",
       "    </tr>\n",
       "    <tr>\n",
       "      <th>1</th>\n",
       "      <td>-2.425632</td>\n",
       "      <td>0.010593</td>\n",
       "      <td>50</td>\n",
       "    </tr>\n",
       "    <tr>\n",
       "      <th rowspan=\"2\" valign=\"top\">RU</th>\n",
       "      <th>0</th>\n",
       "      <td>-1.773010</td>\n",
       "      <td>0.023052</td>\n",
       "      <td>50</td>\n",
       "    </tr>\n",
       "    <tr>\n",
       "      <th>1</th>\n",
       "      <td>-1.759796</td>\n",
       "      <td>0.007869</td>\n",
       "      <td>50</td>\n",
       "    </tr>\n",
       "  </tbody>\n",
       "</table>\n",
       "</div>"
      ],
      "text/plain": [
       "              mean       std  count\n",
       "region d                           \n",
       "DE     0 -1.703793  0.009422     50\n",
       "       1 -1.938634  0.005627     50\n",
       "ENGB   0 -1.783511  0.018528     50\n",
       "       1 -1.468537  0.007519     50\n",
       "ES     0 -1.924475  0.011984     50\n",
       "       1 -2.193535  0.008022     50\n",
       "FR     0 -1.788165  0.011333     50\n",
       "       1 -1.999533  0.005420     50\n",
       "PTBR   0 -2.239080  0.018234     50\n",
       "       1 -2.425632  0.010593     50\n",
       "RU     0 -1.773010  0.023052     50\n",
       "       1 -1.759796  0.007869     50"
      ]
     },
     "metadata": {},
     "output_type": "display_data"
    }
   ],
   "source": [
    "# quick summary per region and d\n",
    "summary = df.groupby(['region', 'd'])['sigma'].agg(['mean', 'std', 'count']).sort_index()\n",
    "display(summary)\n"
   ]
  },
  {
   "cell_type": "markdown",
   "id": "ab7f8aae",
   "metadata": {},
   "source": [
    "### Plain-English takeaways\n",
    "- ANOVA says the groups are not the same: the sigma means differ a lot (F≈93,508, p≈0).\n",
    "- Interpretation: sigma is the model’s baseline tendency to link when you hold the degree-based features (d=1) fixed. Less negative sigma ⇒ higher baseline link tendency.\n",
    "\n",
    "### Ranking by baseline link tendency (highest to lowest)\n",
    "- ENGB (mean σ≈−1.47) → higher baseline linking\n",
    "- RU (≈−1.76)\n",
    "- DE (≈−1.94)\n",
    "- FR (≈−2.00)\n",
    "- ES (≈−2.19)\n",
    "- PTBR (≈−2.43) → lower baseline linking\n",
    "\n",
    "### Intuition via baseline probabilities (rough)\n",
    "If you convert sigma to a baseline edge probability p0 = 1/(1+e^(−σ)) at the reference features:\n",
    "- ENGB: ≈0.19\n",
    "- RU: ≈0.15\n",
    "- DE: ≈0.13\n",
    "- FR: ≈0.12\n",
    "- ES: ≈0.10\n",
    "- PTBR: ≈0.08\n",
    "\n",
    "These are just to build intuition; the exact meaning depends on the feature scaling and “reference” point.\n",
    "\n",
    "### Why this matters\n",
    "- Networks differ in their intrinsic “connectivity bias” beyond what degrees (to depth d=1) explain.\n",
    "- The tiny stds show your estimator is stable across the 50 resamples per region.\n",
    "\n",
    "### If you want to go one step further\n",
    "- Run pairwise post-hoc tests (e.g., Tukey HSD) to quantify which pairs differ.\n",
    "- Consider standardizing features across regions or comparing predicted probabilities at a common reference feature vector to make intercepts more comparable across graphs."
   ]
  },
  {
   "cell_type": "code",
   "execution_count": 87,
   "id": "2aa59058",
   "metadata": {},
   "outputs": [
    {
     "data": {
      "text/plain": [
       "'finish all analysis'"
      ]
     },
     "execution_count": 87,
     "metadata": {},
     "output_type": "execute_result"
    }
   ],
   "source": [
    "'finish all analysis'"
   ]
  },
  {
   "cell_type": "code",
   "execution_count": null,
   "id": "75049237",
   "metadata": {},
   "outputs": [],
   "source": []
  },
  {
   "cell_type": "code",
   "execution_count": null,
   "id": "1ab0b182",
   "metadata": {},
   "outputs": [],
   "source": []
  }
 ],
 "metadata": {
  "kernelspec": {
   "display_name": "logit_graph",
   "language": "python",
   "name": "python3"
  },
  "language_info": {
   "codemirror_mode": {
    "name": "ipython",
    "version": 3
   },
   "file_extension": ".py",
   "mimetype": "text/x-python",
   "name": "python",
   "nbconvert_exporter": "python",
   "pygments_lexer": "ipython3",
   "version": "3.8.16"
  }
 },
 "nbformat": 4,
 "nbformat_minor": 5
}
