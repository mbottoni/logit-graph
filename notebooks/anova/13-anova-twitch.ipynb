{
 "cells": [
  {
   "cell_type": "code",
   "execution_count": 54,
   "id": "30bcae90",
   "metadata": {},
   "outputs": [
    {
     "name": "stdout",
     "output_type": "stream",
     "text": [
      "The autoreload extension is already loaded. To reload it, use:\n",
      "  %reload_ext autoreload\n"
     ]
    }
   ],
   "source": [
    "%load_ext autoreload\n",
    "%autoreload 2\n",
    "\n",
    "import sys, importlib, pickle, gc\n",
    "sys.path.append('../..')\n",
    "sys.modules['src.simulation'] = importlib.import_module('src.logit_graph.simulation')\n"
   ]
  },
  {
   "cell_type": "code",
   "execution_count": 55,
   "id": "4d1550bf",
   "metadata": {},
   "outputs": [],
   "source": [
    "\n",
    "import sys\n",
    "import os\n",
    "\n",
    "#Graph imports\n",
    "sys.path.append('../..')\n",
    "import src.logit_graph.graph as graph\n",
    "import src.logit_graph.logit_estimator as estimator\n",
    "import src.logit_graph.utils as utils\n",
    "import src.logit_graph.model_selection as model_selection\n",
    "import src.logit_graph.gic as gic\n",
    "import src.logit_graph.param_estimator as pe\n",
    "import src.logit_graph.graph as graph\n",
    "import src.logit_graph.model_selection as ms\n",
    "\n",
    "from src.logit_graph.simulation import LogitGraphFitter, GraphModelComparator\n",
    "\n",
    "# usual imports\n",
    "import matplotlib.pyplot as plt\n",
    "import pickle\n",
    "import math\n",
    "import matplotlib.pyplot as plt\n",
    "from scipy import stats\n",
    "from scipy.stats import gaussian_kde\n",
    "import numpy as np\n",
    "import pandas as pd\n",
    "import seaborn as sns\n",
    "import gc\n",
    "import random\n",
    "import networkx as nx\n",
    "from numpy import errstate\n",
    "\n",
    "from IPython.display import display\n",
    "from pyvis.network import Network\n",
    "from mpl_toolkits.axes_grid1 import make_axes_locatable\n"
   ]
  },
  {
   "cell_type": "code",
   "execution_count": 56,
   "id": "5f49542c",
   "metadata": {},
   "outputs": [
    {
     "data": {
      "text/plain": [
       "['RU',\n",
       " 'ENGB',\n",
       " 'citing.txt',\n",
       " 'PTBR',\n",
       " 'DE',\n",
       " 'README.txt',\n",
       " 'FR',\n",
       " 'ES',\n",
       " 'graphs_processed']"
      ]
     },
     "execution_count": 56,
     "metadata": {},
     "output_type": "execute_result"
    }
   ],
   "source": [
    "data_directory = f'../../data/twitch/'\n",
    "os.listdir(data_directory)"
   ]
  },
  {
   "cell_type": "code",
   "execution_count": 57,
   "id": "4c940a1d",
   "metadata": {},
   "outputs": [],
   "source": [
    "from src.logit_graph.simulation import estimate_sigma_many\n",
    "\n",
    "# Configuration\n",
    "an_d = 0  # set the desired d\n",
    "\n",
    "n_repeats = 50\n",
    "\n",
    "max_edges = None\n",
    "max_non_edges = None\n",
    "\n",
    "l1_wt = 1 # The L1 weight for the regularization\n",
    "alpha = 0 # The regularization parameter\n",
    "\n",
    "seed = 42\n",
    "\n",
    "# Collect Twitch processed graph files\n",
    "graphs_processed_dir = os.path.join(data_directory, 'graphs_processed')\n",
    "region_files = [f for f in os.listdir(graphs_processed_dir) if f.endswith('_graph.edges')]\n",
    "region_files = sorted(region_files)\n"
   ]
  },
  {
   "cell_type": "code",
   "execution_count": null,
   "id": "41b21125",
   "metadata": {},
   "outputs": [
    {
     "name": "stdout",
     "output_type": "stream",
     "text": [
      "['RU_graph.edges', 'PTBR_graph.edges', 'FR_graph.edges', 'ES_graph.edges', 'ENGB_graph.edges', 'DE_graph.edges']\n",
      "Estimating sigmas for region=RU from ../../data/twitch/graphs_processed/RU_graph.edges\n"
     ]
    },
    {
     "name": "stderr",
     "output_type": "stream",
     "text": [
      "100%|██████████| 50/50 [00:56<00:00,  1.13s/it]\n"
     ]
    },
    {
     "name": "stdout",
     "output_type": "stream",
     "text": [
      "Estimating sigmas for region=PTBR from ../../data/twitch/graphs_processed/PTBR_graph.edges\n"
     ]
    },
    {
     "name": "stderr",
     "output_type": "stream",
     "text": [
      " 94%|█████████▍| 47/50 [00:18<00:01,  2.59it/s]"
     ]
    }
   ],
   "source": [
    "records = []\n",
    "#files_to_analyse = region_files[-2:]\n",
    "files_to_analyse = region_files[::-1]\n",
    "print(files_to_analyse)\n",
    "\n",
    "for file_name in files_to_analyse:\n",
    "    region = file_name.replace('_graph.edges', '')\n",
    "    file_path = os.path.join(graphs_processed_dir, file_name)\n",
    "    print(f\"Estimating sigmas for region={region} from {file_path}\")\n",
    "\n",
    "    G = nx.read_edgelist(file_path, nodetype=int)\n",
    "    sigmas = estimate_sigma_many(\n",
    "        G,\n",
    "        d=an_d,\n",
    "        n_repeats=n_repeats,\n",
    "        max_edges=max_edges,\n",
    "        max_non_edges=max_non_edges,\n",
    "        l1_wt=l1_wt,\n",
    "        alpha=alpha,\n",
    "        seed=seed,\n",
    "        verbose=False,\n",
    "    )\n",
    "\n",
    "    for idx, s in enumerate(sigmas):\n",
    "        records.append({\n",
    "            'region': region,\n",
    "            'd': an_d,\n",
    "            'repeat_index': idx,\n",
    "            'sigma': float(s),\n",
    "            'num_nodes': G.number_of_nodes(),\n",
    "            'num_edges': G.number_of_edges(),\n",
    "        })"
   ]
  },
  {
   "cell_type": "code",
   "execution_count": null,
   "id": "3c19fd2b",
   "metadata": {},
   "outputs": [
    {
     "name": "stdout",
     "output_type": "stream",
     "text": [
      "Saved sigma estimates to runs/twitch_sigma_estimates_d0_N30.csv\n"
     ]
    },
    {
     "data": {
      "text/html": [
       "<div>\n",
       "<style scoped>\n",
       "    .dataframe tbody tr th:only-of-type {\n",
       "        vertical-align: middle;\n",
       "    }\n",
       "\n",
       "    .dataframe tbody tr th {\n",
       "        vertical-align: top;\n",
       "    }\n",
       "\n",
       "    .dataframe thead th {\n",
       "        text-align: right;\n",
       "    }\n",
       "</style>\n",
       "<table border=\"1\" class=\"dataframe\">\n",
       "  <thead>\n",
       "    <tr style=\"text-align: right;\">\n",
       "      <th></th>\n",
       "      <th>region</th>\n",
       "      <th>d</th>\n",
       "      <th>repeat_index</th>\n",
       "      <th>sigma</th>\n",
       "      <th>num_nodes</th>\n",
       "      <th>num_edges</th>\n",
       "    </tr>\n",
       "  </thead>\n",
       "  <tbody>\n",
       "    <tr>\n",
       "      <th>0</th>\n",
       "      <td>PTBR</td>\n",
       "      <td>0</td>\n",
       "      <td>0</td>\n",
       "      <td>-2.217076</td>\n",
       "      <td>1912</td>\n",
       "      <td>31299</td>\n",
       "    </tr>\n",
       "    <tr>\n",
       "      <th>1</th>\n",
       "      <td>PTBR</td>\n",
       "      <td>0</td>\n",
       "      <td>1</td>\n",
       "      <td>-2.246119</td>\n",
       "      <td>1912</td>\n",
       "      <td>31299</td>\n",
       "    </tr>\n",
       "    <tr>\n",
       "      <th>2</th>\n",
       "      <td>PTBR</td>\n",
       "      <td>0</td>\n",
       "      <td>2</td>\n",
       "      <td>-2.251397</td>\n",
       "      <td>1912</td>\n",
       "      <td>31299</td>\n",
       "    </tr>\n",
       "    <tr>\n",
       "      <th>3</th>\n",
       "      <td>PTBR</td>\n",
       "      <td>0</td>\n",
       "      <td>3</td>\n",
       "      <td>-2.193722</td>\n",
       "      <td>1912</td>\n",
       "      <td>31299</td>\n",
       "    </tr>\n",
       "    <tr>\n",
       "      <th>4</th>\n",
       "      <td>PTBR</td>\n",
       "      <td>0</td>\n",
       "      <td>4</td>\n",
       "      <td>-2.228464</td>\n",
       "      <td>1912</td>\n",
       "      <td>31299</td>\n",
       "    </tr>\n",
       "  </tbody>\n",
       "</table>\n",
       "</div>"
      ],
      "text/plain": [
       "  region  d  repeat_index     sigma  num_nodes  num_edges\n",
       "0   PTBR  0             0 -2.217076       1912      31299\n",
       "1   PTBR  0             1 -2.246119       1912      31299\n",
       "2   PTBR  0             2 -2.251397       1912      31299\n",
       "3   PTBR  0             3 -2.193722       1912      31299\n",
       "4   PTBR  0             4 -2.228464       1912      31299"
      ]
     },
     "execution_count": 47,
     "metadata": {},
     "output_type": "execute_result"
    }
   ],
   "source": [
    "sigma_df = pd.DataFrame(records)\n",
    "run_dir = 'runs'\n",
    "os.makedirs(run_dir, exist_ok=True)\n",
    "out_path = os.path.join(run_dir, f'twitch_sigma_estimates_d{an_d}_N{n_repeats}.csv')\n",
    "sigma_df.to_csv(out_path, index=False)\n",
    "print(f\"Saved sigma estimates to {out_path}\")\n",
    "sigma_df.head()\n"
   ]
  },
  {
   "cell_type": "markdown",
   "id": "74e240c4",
   "metadata": {},
   "source": [
    "## running the anova"
   ]
  },
  {
   "cell_type": "code",
   "execution_count": null,
   "id": "528096eb",
   "metadata": {},
   "outputs": [
    {
     "name": "stdout",
     "output_type": "stream",
     "text": [
      "Loading: runs/twitch_sigma_estimates_d0_N30.csv\n"
     ]
    }
   ],
   "source": [
    "import os\n",
    "import pandas as pd\n",
    "from scipy import stats\n",
    "\n",
    "# Match the save path used in the dataset notebook\n",
    "an_d = 0\n",
    "n_repeats = 30\n",
    "run_dir = os.path.join('runs')\n",
    "filename = f'twitch_sigma_estimates_d{an_d}_N{n_repeats}.csv'\n",
    "path = os.path.join(run_dir, filename)\n",
    "print(f\"Loading: {path}\")\n"
   ]
  },
  {
   "cell_type": "code",
   "execution_count": null,
   "id": "16a9a279",
   "metadata": {},
   "outputs": [],
   "source": [
    "df = pd.read_csv(path)\n",
    "subset = df[df['d'] == an_d].copy()"
   ]
  },
  {
   "cell_type": "code",
   "execution_count": null,
   "id": "61b68110",
   "metadata": {},
   "outputs": [],
   "source": [
    "# Prepare groups by region\n",
    "groups = subset.groupby('region')['sigma'].apply(list)\n",
    "regions = list(groups.index)\n",
    "values = [groups[r] for r in regions]\n"
   ]
  },
  {
   "cell_type": "code",
   "execution_count": null,
   "id": "f964feab",
   "metadata": {},
   "outputs": [
    {
     "name": "stdout",
     "output_type": "stream",
     "text": [
      "ANOVA results (d=0, N=30): F=9408.8639, p=7.06444e-66\n"
     ]
    }
   ],
   "source": [
    "# One-way ANOVA\n",
    "F, p = stats.f_oneway(*values)\n",
    "print(f\"ANOVA results (d={an_d}, N={n_repeats}): F={F:.4f}, p={p:.6g}\")"
   ]
  },
  {
   "cell_type": "code",
   "execution_count": null,
   "id": "ce30364e",
   "metadata": {},
   "outputs": [
    {
     "data": {
      "text/html": [
       "<div>\n",
       "<style scoped>\n",
       "    .dataframe tbody tr th:only-of-type {\n",
       "        vertical-align: middle;\n",
       "    }\n",
       "\n",
       "    .dataframe tbody tr th {\n",
       "        vertical-align: top;\n",
       "    }\n",
       "\n",
       "    .dataframe thead th {\n",
       "        text-align: right;\n",
       "    }\n",
       "</style>\n",
       "<table border=\"1\" class=\"dataframe\">\n",
       "  <thead>\n",
       "    <tr style=\"text-align: right;\">\n",
       "      <th></th>\n",
       "      <th>mean</th>\n",
       "      <th>std</th>\n",
       "      <th>count</th>\n",
       "    </tr>\n",
       "    <tr>\n",
       "      <th>region</th>\n",
       "      <th></th>\n",
       "      <th></th>\n",
       "      <th></th>\n",
       "    </tr>\n",
       "  </thead>\n",
       "  <tbody>\n",
       "    <tr>\n",
       "      <th>PTBR</th>\n",
       "      <td>-2.239222</td>\n",
       "      <td>0.016866</td>\n",
       "      <td>30</td>\n",
       "    </tr>\n",
       "    <tr>\n",
       "      <th>RU</th>\n",
       "      <td>-1.768417</td>\n",
       "      <td>0.020550</td>\n",
       "      <td>30</td>\n",
       "    </tr>\n",
       "  </tbody>\n",
       "</table>\n",
       "</div>"
      ],
      "text/plain": [
       "            mean       std  count\n",
       "region                           \n",
       "PTBR   -2.239222  0.016866     30\n",
       "RU     -1.768417  0.020550     30"
      ]
     },
     "metadata": {},
     "output_type": "display_data"
    }
   ],
   "source": [
    "# Optional: quick summary per region\n",
    "summary = subset.groupby('region')['sigma'].agg(['mean', 'std', 'count']).sort_index()\n",
    "display(summary)\n"
   ]
  },
  {
   "cell_type": "markdown",
   "id": "3893e3e3",
   "metadata": {},
   "source": [
    "### Quick read\n",
    "- PTBR mean sigma: -2.2392 (std 0.0169, n=30)\n",
    "- RU mean sigma: -1.7684 (std 0.0206, n=30)\n",
    "- Difference (RU − PTBR): +0.4708\n",
    "\n",
    "### Inference\n",
    "- 95% CI for PTBR mean: [-2.2455, -2.2329]\n",
    "- 95% CI for RU mean: [-1.7761, -1.7608]\n",
    "- 95% CI for difference: [≈0.461, ≈0.481]\n",
    "- Cohen’s d (using pooled SD across repeats): ≈ 25.0\n",
    "- Practical reading: RU’s intercept is much less negative than PTBR’s, implying higher baseline log-odds of an edge when degree-based features are held fixed in the model.\n",
    "\n",
    "### Caveats\n",
    "- Sigma is the intercept of a logistic regression with sum-of-degrees features; comparing intercepts across graphs is sensitive to:\n",
    "  - Differences in the feature distributions (sum-of-degrees varies across graphs).\n",
    "  - Potential differences in the other coefficients (α, β), which you haven’t compared.\n",
    "- The repeats are resamples from the same graph (not independent networks), so tiny within-group std makes “significance” and effect size explode. Treat these p-values/effect sizes as reflecting estimator stability, not population variability.\n",
    "\n",
    "### Recommendations\n",
    "- Report the means (as you did) with their CIs; the difference is clearly large and precise.\n",
    "- Also extract and compare α, β per region; run ANOVA on all three parameters or a MANOVA to avoid over-interpreting sigma alone.\n",
    "- Standardize features before estimation (e.g., z-score the two degree-sum features within each graph). This makes intercepts more comparable across graphs.\n",
    "- Or compute a model-based comparable quantity, e.g., predicted edge probability at a common reference feature vector (median or standardized 0,0), then compare those across regions (ANOVA or pairwise tests).\n",
    "- If you want a conventional test for two groups only, a two-sample t-test on the 30 repeats per region will be astronomically significant; focus on effect size and the standardized comparison above."
   ]
  },
  {
   "cell_type": "code",
   "execution_count": null,
   "id": "2aa59058",
   "metadata": {},
   "outputs": [
    {
     "data": {
      "text/plain": [
       "'finish analysis'"
      ]
     },
     "execution_count": 53,
     "metadata": {},
     "output_type": "execute_result"
    }
   ],
   "source": [
    "'finish all analysis'"
   ]
  },
  {
   "cell_type": "code",
   "execution_count": null,
   "id": "75049237",
   "metadata": {},
   "outputs": [],
   "source": []
  },
  {
   "cell_type": "code",
   "execution_count": null,
   "id": "1ab0b182",
   "metadata": {},
   "outputs": [],
   "source": []
  }
 ],
 "metadata": {
  "kernelspec": {
   "display_name": "logit_graph",
   "language": "python",
   "name": "python3"
  },
  "language_info": {
   "codemirror_mode": {
    "name": "ipython",
    "version": 3
   },
   "file_extension": ".py",
   "mimetype": "text/x-python",
   "name": "python",
   "nbconvert_exporter": "python",
   "pygments_lexer": "ipython3",
   "version": "3.8.16"
  }
 },
 "nbformat": 4,
 "nbformat_minor": 5
}
