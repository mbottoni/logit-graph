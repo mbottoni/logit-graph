{
 "cells": [
  {
   "cell_type": "code",
   "execution_count": 67,
   "id": "30bcae90",
   "metadata": {},
   "outputs": [
    {
     "name": "stdout",
     "output_type": "stream",
     "text": [
      "The autoreload extension is already loaded. To reload it, use:\n",
      "  %reload_ext autoreload\n"
     ]
    }
   ],
   "source": [
    "%load_ext autoreload\n",
    "%autoreload 2\n",
    "\n",
    "import sys, importlib, pickle, gc\n",
    "sys.path.append('../..')\n",
    "sys.modules['src.simulation'] = importlib.import_module('src.logit_graph.simulation')\n"
   ]
  },
  {
   "cell_type": "code",
   "execution_count": 68,
   "id": "4d1550bf",
   "metadata": {},
   "outputs": [],
   "source": [
    "\n",
    "import sys\n",
    "import os\n",
    "\n",
    "#Graph imports\n",
    "sys.path.append('../..')\n",
    "import src.logit_graph.graph as graph\n",
    "import src.logit_graph.logit_estimator as estimator\n",
    "import src.logit_graph.utils as utils\n",
    "import src.logit_graph.model_selection as model_selection\n",
    "import src.logit_graph.gic as gic\n",
    "import src.logit_graph.param_estimator as pe\n",
    "import src.logit_graph.graph as graph\n",
    "import src.logit_graph.model_selection as ms\n",
    "\n",
    "from src.logit_graph.simulation import LogitGraphFitter, GraphModelComparator\n",
    "\n",
    "# usual imports\n",
    "import matplotlib.pyplot as plt\n",
    "import pickle\n",
    "import math\n",
    "import matplotlib.pyplot as plt\n",
    "from scipy import stats\n",
    "from scipy.stats import gaussian_kde\n",
    "import numpy as np\n",
    "import pandas as pd\n",
    "import seaborn as sns\n",
    "import gc\n",
    "import random\n",
    "import networkx as nx\n",
    "from numpy import errstate\n",
    "\n",
    "from IPython.display import display\n",
    "from pyvis.network import Network\n",
    "from mpl_toolkits.axes_grid1 import make_axes_locatable\n"
   ]
  },
  {
   "cell_type": "code",
   "execution_count": 69,
   "id": "5f49542c",
   "metadata": {},
   "outputs": [
    {
     "data": {
      "text/plain": [
       "['RU',\n",
       " 'ENGB',\n",
       " 'citing.txt',\n",
       " 'PTBR',\n",
       " 'DE',\n",
       " 'README.txt',\n",
       " 'FR',\n",
       " 'ES',\n",
       " 'graphs_processed']"
      ]
     },
     "execution_count": 69,
     "metadata": {},
     "output_type": "execute_result"
    }
   ],
   "source": [
    "data_directory = f'../../data/twitch/'\n",
    "os.listdir(data_directory)"
   ]
  },
  {
   "cell_type": "code",
   "execution_count": 70,
   "id": "4c940a1d",
   "metadata": {},
   "outputs": [],
   "source": [
    "from src.logit_graph.simulation import estimate_sigma_many\n",
    "\n",
    "# Configuration\n",
    "an_d = 1  # set the desired d\n",
    "\n",
    "n_repeats = 50\n",
    "\n",
    "max_edges = None\n",
    "max_non_edges = None\n",
    "\n",
    "l1_wt = 1 # The L1 weight for the regularization\n",
    "alpha = 0 # The regularization parameter\n",
    "\n",
    "seed = 42\n",
    "\n",
    "# Collect Twitch processed graph files\n",
    "graphs_processed_dir = os.path.join(data_directory, 'graphs_processed')\n",
    "region_files = [f for f in os.listdir(graphs_processed_dir) if f.endswith('_graph.edges')]\n",
    "region_files = sorted(region_files)\n"
   ]
  },
  {
   "cell_type": "code",
   "execution_count": 71,
   "id": "41b21125",
   "metadata": {},
   "outputs": [
    {
     "name": "stdout",
     "output_type": "stream",
     "text": [
      "['RU_graph.edges', 'PTBR_graph.edges', 'FR_graph.edges', 'ES_graph.edges', 'ENGB_graph.edges', 'DE_graph.edges']\n",
      "Estimating sigmas for region=RU from ../../data/twitch/graphs_processed/RU_graph.edges\n"
     ]
    },
    {
     "name": "stderr",
     "output_type": "stream",
     "text": [
      "100%|██████████| 50/50 [11:28<00:00, 13.78s/it]\n"
     ]
    },
    {
     "name": "stdout",
     "output_type": "stream",
     "text": [
      "Estimating sigmas for region=PTBR from ../../data/twitch/graphs_processed/PTBR_graph.edges\n"
     ]
    },
    {
     "name": "stderr",
     "output_type": "stream",
     "text": [
      "100%|██████████| 50/50 [04:07<00:00,  4.95s/it]\n"
     ]
    },
    {
     "name": "stdout",
     "output_type": "stream",
     "text": [
      "Estimating sigmas for region=FR from ../../data/twitch/graphs_processed/FR_graph.edges\n"
     ]
    },
    {
     "name": "stderr",
     "output_type": "stream",
     "text": [
      "100%|██████████| 50/50 [48:30<00:00, 58.22s/it]\n"
     ]
    },
    {
     "name": "stdout",
     "output_type": "stream",
     "text": [
      "Estimating sigmas for region=ES from ../../data/twitch/graphs_processed/ES_graph.edges\n"
     ]
    },
    {
     "name": "stderr",
     "output_type": "stream",
     "text": [
      "100%|██████████| 50/50 [18:41<00:00, 22.43s/it]\n"
     ]
    },
    {
     "name": "stdout",
     "output_type": "stream",
     "text": [
      "Estimating sigmas for region=ENGB from ../../data/twitch/graphs_processed/ENGB_graph.edges\n"
     ]
    },
    {
     "name": "stderr",
     "output_type": "stream",
     "text": [
      "100%|██████████| 50/50 [19:16<00:00, 23.12s/it]\n"
     ]
    },
    {
     "name": "stdout",
     "output_type": "stream",
     "text": [
      "Estimating sigmas for region=DE from ../../data/twitch/graphs_processed/DE_graph.edges\n"
     ]
    },
    {
     "name": "stderr",
     "output_type": "stream",
     "text": [
      "100%|██████████| 50/50 [1:38:39<00:00, 118.39s/it]\n"
     ]
    }
   ],
   "source": [
    "records = []\n",
    "#files_to_analyse = region_files[-2:]\n",
    "files_to_analyse = region_files[::-1]\n",
    "print(files_to_analyse)\n",
    "\n",
    "for file_name in files_to_analyse:\n",
    "    region = file_name.replace('_graph.edges', '')\n",
    "    file_path = os.path.join(graphs_processed_dir, file_name)\n",
    "    print(f\"Estimating sigmas for region={region} from {file_path}\")\n",
    "\n",
    "    G = nx.read_edgelist(file_path, nodetype=int)\n",
    "    sigmas = estimate_sigma_many(\n",
    "        G,\n",
    "        d=an_d,\n",
    "        n_repeats=n_repeats,\n",
    "        max_edges=max_edges,\n",
    "        max_non_edges=max_non_edges,\n",
    "        l1_wt=l1_wt,\n",
    "        alpha=alpha,\n",
    "        seed=seed,\n",
    "        verbose=False,\n",
    "    )\n",
    "\n",
    "    for idx, s in enumerate(sigmas):\n",
    "        records.append({\n",
    "            'region': region,\n",
    "            'd': an_d,\n",
    "            'repeat_index': idx,\n",
    "            'sigma': float(s),\n",
    "            'num_nodes': G.number_of_nodes(),\n",
    "            'num_edges': G.number_of_edges(),\n",
    "        })"
   ]
  },
  {
   "cell_type": "code",
   "execution_count": 72,
   "id": "3c19fd2b",
   "metadata": {},
   "outputs": [
    {
     "name": "stdout",
     "output_type": "stream",
     "text": [
      "Saved sigma estimates to runs/twitch_sigma_estimates_d1_N50.csv\n"
     ]
    },
    {
     "data": {
      "text/html": [
       "<div>\n",
       "<style scoped>\n",
       "    .dataframe tbody tr th:only-of-type {\n",
       "        vertical-align: middle;\n",
       "    }\n",
       "\n",
       "    .dataframe tbody tr th {\n",
       "        vertical-align: top;\n",
       "    }\n",
       "\n",
       "    .dataframe thead th {\n",
       "        text-align: right;\n",
       "    }\n",
       "</style>\n",
       "<table border=\"1\" class=\"dataframe\">\n",
       "  <thead>\n",
       "    <tr style=\"text-align: right;\">\n",
       "      <th></th>\n",
       "      <th>region</th>\n",
       "      <th>d</th>\n",
       "      <th>repeat_index</th>\n",
       "      <th>sigma</th>\n",
       "      <th>num_nodes</th>\n",
       "      <th>num_edges</th>\n",
       "    </tr>\n",
       "  </thead>\n",
       "  <tbody>\n",
       "    <tr>\n",
       "      <th>0</th>\n",
       "      <td>RU</td>\n",
       "      <td>1</td>\n",
       "      <td>0</td>\n",
       "      <td>-1.757861</td>\n",
       "      <td>4385</td>\n",
       "      <td>37304</td>\n",
       "    </tr>\n",
       "    <tr>\n",
       "      <th>1</th>\n",
       "      <td>RU</td>\n",
       "      <td>1</td>\n",
       "      <td>1</td>\n",
       "      <td>-1.762314</td>\n",
       "      <td>4385</td>\n",
       "      <td>37304</td>\n",
       "    </tr>\n",
       "    <tr>\n",
       "      <th>2</th>\n",
       "      <td>RU</td>\n",
       "      <td>1</td>\n",
       "      <td>2</td>\n",
       "      <td>-1.767284</td>\n",
       "      <td>4385</td>\n",
       "      <td>37304</td>\n",
       "    </tr>\n",
       "    <tr>\n",
       "      <th>3</th>\n",
       "      <td>RU</td>\n",
       "      <td>1</td>\n",
       "      <td>3</td>\n",
       "      <td>-1.752017</td>\n",
       "      <td>4385</td>\n",
       "      <td>37304</td>\n",
       "    </tr>\n",
       "    <tr>\n",
       "      <th>4</th>\n",
       "      <td>RU</td>\n",
       "      <td>1</td>\n",
       "      <td>4</td>\n",
       "      <td>-1.758021</td>\n",
       "      <td>4385</td>\n",
       "      <td>37304</td>\n",
       "    </tr>\n",
       "  </tbody>\n",
       "</table>\n",
       "</div>"
      ],
      "text/plain": [
       "  region  d  repeat_index     sigma  num_nodes  num_edges\n",
       "0     RU  1             0 -1.757861       4385      37304\n",
       "1     RU  1             1 -1.762314       4385      37304\n",
       "2     RU  1             2 -1.767284       4385      37304\n",
       "3     RU  1             3 -1.752017       4385      37304\n",
       "4     RU  1             4 -1.758021       4385      37304"
      ]
     },
     "execution_count": 72,
     "metadata": {},
     "output_type": "execute_result"
    }
   ],
   "source": [
    "sigma_df = pd.DataFrame(records)\n",
    "run_dir = 'runs'\n",
    "os.makedirs(run_dir, exist_ok=True)\n",
    "out_path = os.path.join(run_dir, f'twitch_sigma_estimates_d{an_d}_N{n_repeats}.csv')\n",
    "sigma_df.to_csv(out_path, index=False)\n",
    "print(f\"Saved sigma estimates to {out_path}\")\n",
    "sigma_df.head()\n"
   ]
  },
  {
   "cell_type": "code",
   "execution_count": 79,
   "id": "ba9d5717",
   "metadata": {},
   "outputs": [
    {
     "data": {
      "text/plain": [
       "'finish simulation'"
      ]
     },
     "execution_count": 79,
     "metadata": {},
     "output_type": "execute_result"
    }
   ],
   "source": [
    "'finish simulation'"
   ]
  },
  {
   "cell_type": "markdown",
   "id": "74e240c4",
   "metadata": {},
   "source": [
    "## running the anova"
   ]
  },
  {
   "cell_type": "code",
   "execution_count": 134,
   "id": "528096eb",
   "metadata": {},
   "outputs": [
    {
     "name": "stdout",
     "output_type": "stream",
     "text": [
      "Loading: runs/twitch_sigma_estimates_d0_N50.csv\n",
      "Loading: runs/twitch_sigma_estimates_d1_N50.csv\n"
     ]
    }
   ],
   "source": [
    "import os\n",
    "import pandas as pd\n",
    "from scipy import stats\n",
    "\n",
    "# Match the save path used in the dataset notebook\n",
    "an_d = [0, 1]\n",
    "n_repeats = 50\n",
    "run_dir = os.path.join('runs')\n",
    "\n",
    "\n",
    "dfs = []\n",
    "for an_d in [0, 1]:\n",
    "    filename = f'twitch_sigma_estimates_d{an_d}_N{n_repeats}.csv'\n",
    "    path = os.path.join(run_dir, filename)\n",
    "    print(f\"Loading: {path}\")\n",
    "    df = pd.read_csv(path)\n",
    "    dfs.append(df)"
   ]
  },
  {
   "cell_type": "code",
   "execution_count": 135,
   "id": "16a9a279",
   "metadata": {},
   "outputs": [],
   "source": [
    "df = pd.concat(dfs)\n",
    "#subset = df[df['d'] == an_d].copy()"
   ]
  },
  {
   "cell_type": "code",
   "execution_count": 136,
   "id": "d9bc3c68",
   "metadata": {},
   "outputs": [
    {
     "data": {
      "text/html": [
       "<div>\n",
       "<style scoped>\n",
       "    .dataframe tbody tr th:only-of-type {\n",
       "        vertical-align: middle;\n",
       "    }\n",
       "\n",
       "    .dataframe tbody tr th {\n",
       "        vertical-align: top;\n",
       "    }\n",
       "\n",
       "    .dataframe thead th {\n",
       "        text-align: right;\n",
       "    }\n",
       "</style>\n",
       "<table border=\"1\" class=\"dataframe\">\n",
       "  <thead>\n",
       "    <tr style=\"text-align: right;\">\n",
       "      <th></th>\n",
       "      <th>region</th>\n",
       "      <th>d</th>\n",
       "      <th>repeat_index</th>\n",
       "      <th>sigma</th>\n",
       "      <th>num_nodes</th>\n",
       "      <th>num_edges</th>\n",
       "    </tr>\n",
       "  </thead>\n",
       "  <tbody>\n",
       "    <tr>\n",
       "      <th>0</th>\n",
       "      <td>RU</td>\n",
       "      <td>0</td>\n",
       "      <td>0</td>\n",
       "      <td>-1.752862</td>\n",
       "      <td>4385</td>\n",
       "      <td>37304</td>\n",
       "    </tr>\n",
       "    <tr>\n",
       "      <th>1</th>\n",
       "      <td>RU</td>\n",
       "      <td>0</td>\n",
       "      <td>1</td>\n",
       "      <td>-1.785105</td>\n",
       "      <td>4385</td>\n",
       "      <td>37304</td>\n",
       "    </tr>\n",
       "    <tr>\n",
       "      <th>2</th>\n",
       "      <td>RU</td>\n",
       "      <td>0</td>\n",
       "      <td>2</td>\n",
       "      <td>-1.765568</td>\n",
       "      <td>4385</td>\n",
       "      <td>37304</td>\n",
       "    </tr>\n",
       "    <tr>\n",
       "      <th>3</th>\n",
       "      <td>RU</td>\n",
       "      <td>0</td>\n",
       "      <td>3</td>\n",
       "      <td>-1.765380</td>\n",
       "      <td>4385</td>\n",
       "      <td>37304</td>\n",
       "    </tr>\n",
       "    <tr>\n",
       "      <th>4</th>\n",
       "      <td>RU</td>\n",
       "      <td>0</td>\n",
       "      <td>4</td>\n",
       "      <td>-1.793135</td>\n",
       "      <td>4385</td>\n",
       "      <td>37304</td>\n",
       "    </tr>\n",
       "  </tbody>\n",
       "</table>\n",
       "</div>"
      ],
      "text/plain": [
       "  region  d  repeat_index     sigma  num_nodes  num_edges\n",
       "0     RU  0             0 -1.752862       4385      37304\n",
       "1     RU  0             1 -1.785105       4385      37304\n",
       "2     RU  0             2 -1.765568       4385      37304\n",
       "3     RU  0             3 -1.765380       4385      37304\n",
       "4     RU  0             4 -1.793135       4385      37304"
      ]
     },
     "execution_count": 136,
     "metadata": {},
     "output_type": "execute_result"
    }
   ],
   "source": [
    "df.head()"
   ]
  },
  {
   "cell_type": "code",
   "execution_count": 137,
   "id": "c96be290",
   "metadata": {},
   "outputs": [
    {
     "data": {
      "image/png": "[encoded data removed]",
      "text/plain": [
       "<Figure size 1500x600 with 2 Axes>"
      ]
     },
     "metadata": {},
     "output_type": "display_data"
    }
   ],
   "source": [
    "# Create histogram of sigmas by region and d\n",
    "import matplotlib.pyplot as plt\n",
    "\n",
    "fig, (ax1, ax2) = plt.subplots(1, 2, figsize=(15, 6))\n",
    "\n",
    "# Define colors for each region\n",
    "region_colors = {\n",
    "    'RU': 'red',\n",
    "    'ENGB': 'blue', \n",
    "    'PTBR': 'green',\n",
    "    'DE': 'purple',\n",
    "    'FR': 'orange',\n",
    "    'ES': 'brown'\n",
    "}\n",
    "\n",
    "# Plot d=0 data\n",
    "for region in df['region'].unique():\n",
    "    region_data = df[(df['region'] == region) & (df['d'] == 0)]['sigma']\n",
    "    ax1.hist(region_data, alpha=0.5,\n",
    "            color=region_colors[region],\n",
    "            label=region,\n",
    "            bins=10)\n",
    "\n",
    "#ax1.set_yscale('log')\n",
    "ax1.set_xlabel('Sigma')\n",
    "ax1.set_ylabel('Count')\n",
    "ax1.set_title('Distribution of Sigma Values by Region (d=0)')\n",
    "ax1.legend()\n",
    "ax1.grid(True)\n",
    "\n",
    "# Plot d=1 data\n",
    "for region in df['region'].unique():\n",
    "    region_data = df[(df['region'] == region) & (df['d'] == 1)]['sigma']\n",
    "    ax2.hist(region_data, alpha=0.5,\n",
    "            color=region_colors[region], \n",
    "            label=region,\n",
    "            bins=10)\n",
    "\n",
    "#ax2.set_yscale('log')\n",
    "ax2.set_xlabel('Sigma')\n",
    "ax2.set_ylabel('Count')\n",
    "ax2.set_title('Distribution of Sigma Values by Region (d=1)')\n",
    "ax2.legend()\n",
    "ax2.grid(True)\n",
    "\n",
    "plt.tight_layout()\n",
    "plt.show()\n"
   ]
  },
  {
   "cell_type": "code",
   "execution_count": 139,
   "id": "61b68110",
   "metadata": {},
   "outputs": [],
   "source": [
    "# Prepare groups by region and d\n",
    "groups = df.groupby(['region', 'd'])['sigma'].apply(list)\n",
    "regions = list(groups.index)"
   ]
  },
  {
   "cell_type": "code",
   "execution_count": 158,
   "id": "f964feab",
   "metadata": {},
   "outputs": [
    {
     "name": "stdout",
     "output_type": "stream",
     "text": [
      "\n",
      "Pairwise ANOVA p-values for d=0:\n",
      "Regions: ['DE', 'ENGB', 'ES', 'FR', 'PTBR', 'RU']\n",
      "[[1.00000000e+000 2.39562848e-047 1.92541501e-101 5.51389395e-063\n",
      "  2.32791918e-126 8.99101175e-036]\n",
      " [2.39562848e-047 1.00000000e+000 2.03844359e-067 1.32950711e-001\n",
      "  1.63616519e-109 1.36799372e-002]\n",
      " [1.92541501e-101 2.03844359e-067 1.00000000e+000 5.53203984e-078\n",
      "  2.84463204e-101 1.02132778e-063]\n",
      " [5.51389395e-063 1.32950711e-001 5.53203984e-078 1.00000000e+000\n",
      "  3.53846431e-117 6.53345537e-005]\n",
      " [2.32791918e-126 1.63616519e-109 2.84463204e-101 3.53846431e-117\n",
      "  1.00000000e+000 2.75245710e-105]\n",
      " [8.99101175e-036 1.36799372e-002 1.02132778e-063 6.53345537e-005\n",
      "  2.75245710e-105 1.00000000e+000]]\n",
      "\n",
      "Pairwise ANOVA p-values for d=1:\n",
      "Regions: ['DE', 'ENGB', 'ES', 'FR', 'PTBR', 'RU']\n",
      "[[1.00000000e+000 4.56615272e-154 2.97664299e-126 1.44307047e-075\n",
      "  3.64911057e-145 8.96383744e-112]\n",
      " [4.56615272e-154 1.00000000e+000 8.68161817e-166 8.35059157e-160\n",
      "  1.64875917e-170 1.87200430e-127]\n",
      " [2.97664299e-126 8.68161817e-166 1.00000000e+000 3.46821587e-115\n",
      "  2.24974126e-109 5.17862116e-143]\n",
      " [1.44307047e-075 8.35059157e-160 3.46821587e-115 1.00000000e+000\n",
      "  7.95757414e-140 1.02305577e-124]\n",
      " [3.64911057e-145 1.64875917e-170 2.24974126e-109 7.95757414e-140\n",
      "  1.00000000e+000 2.09852407e-154]\n",
      " [8.96383744e-112 1.87200430e-127 5.17862116e-143 1.02305577e-124\n",
      "  2.09852407e-154 1.00000000e+000]]\n"
     ]
    }
   ],
   "source": [
    "# Perform pairwise ANOVA tests for each d value\n",
    "pmatrix = {}\n",
    "for d in df['d'].unique():\n",
    "    values = [groups[r] for r in regions if r[1] == d]\n",
    "    region_names = [r[0] for r in regions if r[1] == d]\n",
    "    n = len(region_names)\n",
    "    \n",
    "    # Create matrix to store p-values\n",
    "    p_matrix = np.zeros((n, n))\n",
    "    \n",
    "    # Perform pairwise comparisons\n",
    "    for i in range(n):\n",
    "        for j in range(i+1, n):\n",
    "            F, p = stats.f_oneway(values[i], values[j])\n",
    "            p_matrix[i,j] = p\n",
    "            p_matrix[j,i] = p\n",
    "    \n",
    "    # Set diagonal to 1\n",
    "    np.fill_diagonal(p_matrix, 1.0)\n",
    "    \n",
    "    print(f\"\\nPairwise ANOVA p-values for d={d}:\")\n",
    "    print(\"Regions:\", region_names)\n",
    "    print(p_matrix)\n",
    "    pmatrix[d] = p_matrix"
   ]
  },
  {
   "cell_type": "code",
   "execution_count": 164,
   "id": "5e3ef05a",
   "metadata": {},
   "outputs": [
    {
     "data": {
      "image/png": "[encoded data removed]",
      "text/plain": [
       "<Figure size 1500x800 with 4 Axes>"
      ]
     },
     "metadata": {},
     "output_type": "display_data"
    }
   ],
   "source": [
    "# Create a figure with subplots for d=0 and d=1\n",
    "fig, (ax1, ax2) = plt.subplots(1, 2, figsize=(15, 8))\n",
    "\n",
    "# Plot heatmap for d=0\n",
    "im1 = ax1.imshow(pmatrix[0], cmap='RdYlBu_r')  # Red-Yellow-Blue colormap, reversed\n",
    "ax1.set_title('P-values for d=0')\n",
    "\n",
    "# Add colorbar with scientific notation\n",
    "cbar1 = plt.colorbar(im1, ax=ax1, format='%.1e')\n",
    "\n",
    "# Set ticks and labels for d=0\n",
    "region_names_d0 = [r[0] for r in regions if r[1] == 0]\n",
    "ax1.set_xticks(np.arange(len(region_names_d0)))\n",
    "ax1.set_yticks(np.arange(len(region_names_d0)))\n",
    "ax1.set_xticklabels(region_names_d0)\n",
    "ax1.set_yticklabels(region_names_d0)\n",
    "\n",
    "# Add value annotations for d=0 with conditional text color\n",
    "for i in range(len(region_names_d0)):\n",
    "    for j in range(len(region_names_d0)):\n",
    "        value = pmatrix[0][i, j]\n",
    "        # White text for dark background, black text for light background\n",
    "        text_color = 'white' if value < 0.5 else 'black'\n",
    "        text = ax1.text(j, i, f'{value:.1e}',\n",
    "                       ha='center', va='center', color=text_color)\n",
    "\n",
    "# Plot heatmap for d=1\n",
    "im2 = ax2.imshow(pmatrix[1], cmap='RdYlBu_r')  # Red-Yellow-Blue colormap, reversed\n",
    "ax2.set_title('P-values for d=1')\n",
    "\n",
    "# Add colorbar with scientific notation\n",
    "cbar2 = plt.colorbar(im2, ax=ax2, format='%.1e')\n",
    "\n",
    "# Set ticks and labels for d=1\n",
    "region_names_d1 = [r[0] for r in regions if r[1] == 1]\n",
    "ax2.set_xticks(np.arange(len(region_names_d1)))\n",
    "ax2.set_yticks(np.arange(len(region_names_d1)))\n",
    "ax2.set_xticklabels(region_names_d1)\n",
    "ax2.set_yticklabels(region_names_d1)\n",
    "\n",
    "# Add value annotations for d=1 with conditional text color\n",
    "for i in range(len(region_names_d1)):\n",
    "    for j in range(len(region_names_d1)):\n",
    "        value = pmatrix[1][i, j]\n",
    "        # White text for dark background, black text for light background\n",
    "        text_color = 'white' if value < 0.5 else 'black'\n",
    "        text = ax2.text(j, i, f'{value:.1e}',\n",
    "                       ha='center', va='center', color=text_color)\n",
    "\n",
    "plt.tight_layout()\n",
    "plt.show()"
   ]
  },
  {
   "cell_type": "code",
   "execution_count": 151,
   "id": "ce30364e",
   "metadata": {},
   "outputs": [
    {
     "data": {
      "text/html": [
       "<div>\n",
       "<style scoped>\n",
       "    .dataframe tbody tr th:only-of-type {\n",
       "        vertical-align: middle;\n",
       "    }\n",
       "\n",
       "    .dataframe tbody tr th {\n",
       "        vertical-align: top;\n",
       "    }\n",
       "\n",
       "    .dataframe thead th {\n",
       "        text-align: right;\n",
       "    }\n",
       "</style>\n",
       "<table border=\"1\" class=\"dataframe\">\n",
       "  <thead>\n",
       "    <tr style=\"text-align: right;\">\n",
       "      <th></th>\n",
       "      <th></th>\n",
       "      <th>mean</th>\n",
       "      <th>std</th>\n",
       "      <th>count</th>\n",
       "    </tr>\n",
       "    <tr>\n",
       "      <th>region</th>\n",
       "      <th>d</th>\n",
       "      <th></th>\n",
       "      <th></th>\n",
       "      <th></th>\n",
       "    </tr>\n",
       "  </thead>\n",
       "  <tbody>\n",
       "    <tr>\n",
       "      <th rowspan=\"2\" valign=\"top\">DE</th>\n",
       "      <th>0</th>\n",
       "      <td>-1.703793</td>\n",
       "      <td>0.009422</td>\n",
       "      <td>50</td>\n",
       "    </tr>\n",
       "    <tr>\n",
       "      <th>1</th>\n",
       "      <td>-1.938634</td>\n",
       "      <td>0.005627</td>\n",
       "      <td>50</td>\n",
       "    </tr>\n",
       "    <tr>\n",
       "      <th rowspan=\"2\" valign=\"top\">ENGB</th>\n",
       "      <th>0</th>\n",
       "      <td>-1.783511</td>\n",
       "      <td>0.018528</td>\n",
       "      <td>50</td>\n",
       "    </tr>\n",
       "    <tr>\n",
       "      <th>1</th>\n",
       "      <td>-1.468537</td>\n",
       "      <td>0.007519</td>\n",
       "      <td>50</td>\n",
       "    </tr>\n",
       "    <tr>\n",
       "      <th rowspan=\"2\" valign=\"top\">ES</th>\n",
       "      <th>0</th>\n",
       "      <td>-1.924475</td>\n",
       "      <td>0.011984</td>\n",
       "      <td>50</td>\n",
       "    </tr>\n",
       "    <tr>\n",
       "      <th>1</th>\n",
       "      <td>-2.193535</td>\n",
       "      <td>0.008022</td>\n",
       "      <td>50</td>\n",
       "    </tr>\n",
       "    <tr>\n",
       "      <th rowspan=\"2\" valign=\"top\">FR</th>\n",
       "      <th>0</th>\n",
       "      <td>-1.788165</td>\n",
       "      <td>0.011333</td>\n",
       "      <td>50</td>\n",
       "    </tr>\n",
       "    <tr>\n",
       "      <th>1</th>\n",
       "      <td>-1.999533</td>\n",
       "      <td>0.005420</td>\n",
       "      <td>50</td>\n",
       "    </tr>\n",
       "    <tr>\n",
       "      <th rowspan=\"2\" valign=\"top\">PTBR</th>\n",
       "      <th>0</th>\n",
       "      <td>-2.239080</td>\n",
       "      <td>0.018234</td>\n",
       "      <td>50</td>\n",
       "    </tr>\n",
       "    <tr>\n",
       "      <th>1</th>\n",
       "      <td>-2.425632</td>\n",
       "      <td>0.010593</td>\n",
       "      <td>50</td>\n",
       "    </tr>\n",
       "    <tr>\n",
       "      <th rowspan=\"2\" valign=\"top\">RU</th>\n",
       "      <th>0</th>\n",
       "      <td>-1.773010</td>\n",
       "      <td>0.023052</td>\n",
       "      <td>50</td>\n",
       "    </tr>\n",
       "    <tr>\n",
       "      <th>1</th>\n",
       "      <td>-1.759796</td>\n",
       "      <td>0.007869</td>\n",
       "      <td>50</td>\n",
       "    </tr>\n",
       "  </tbody>\n",
       "</table>\n",
       "</div>"
      ],
      "text/plain": [
       "              mean       std  count\n",
       "region d                           \n",
       "DE     0 -1.703793  0.009422     50\n",
       "       1 -1.938634  0.005627     50\n",
       "ENGB   0 -1.783511  0.018528     50\n",
       "       1 -1.468537  0.007519     50\n",
       "ES     0 -1.924475  0.011984     50\n",
       "       1 -2.193535  0.008022     50\n",
       "FR     0 -1.788165  0.011333     50\n",
       "       1 -1.999533  0.005420     50\n",
       "PTBR   0 -2.239080  0.018234     50\n",
       "       1 -2.425632  0.010593     50\n",
       "RU     0 -1.773010  0.023052     50\n",
       "       1 -1.759796  0.007869     50"
      ]
     },
     "metadata": {},
     "output_type": "display_data"
    }
   ],
   "source": [
    "# quick summary per region and d\n",
    "summary = df.groupby(['region', 'd'])['sigma'].agg(['mean', 'std', 'count'])\n",
    "display(summary)\n"
   ]
  },
  {
   "cell_type": "code",
   "execution_count": 152,
   "id": "060f1de9",
   "metadata": {},
   "outputs": [
    {
     "data": {
      "text/html": [
       "<div>\n",
       "<style scoped>\n",
       "    .dataframe tbody tr th:only-of-type {\n",
       "        vertical-align: middle;\n",
       "    }\n",
       "\n",
       "    .dataframe tbody tr th {\n",
       "        vertical-align: top;\n",
       "    }\n",
       "\n",
       "    .dataframe thead th {\n",
       "        text-align: right;\n",
       "    }\n",
       "</style>\n",
       "<table border=\"1\" class=\"dataframe\">\n",
       "  <thead>\n",
       "    <tr style=\"text-align: right;\">\n",
       "      <th></th>\n",
       "      <th>mean</th>\n",
       "      <th>std</th>\n",
       "      <th>count</th>\n",
       "    </tr>\n",
       "    <tr>\n",
       "      <th>region</th>\n",
       "      <th></th>\n",
       "      <th></th>\n",
       "      <th></th>\n",
       "    </tr>\n",
       "  </thead>\n",
       "  <tbody>\n",
       "    <tr>\n",
       "      <th>ENGB</th>\n",
       "      <td>-1.468537</td>\n",
       "      <td>0.007519</td>\n",
       "      <td>50</td>\n",
       "    </tr>\n",
       "    <tr>\n",
       "      <th>RU</th>\n",
       "      <td>-1.759796</td>\n",
       "      <td>0.007869</td>\n",
       "      <td>50</td>\n",
       "    </tr>\n",
       "    <tr>\n",
       "      <th>DE</th>\n",
       "      <td>-1.938634</td>\n",
       "      <td>0.005627</td>\n",
       "      <td>50</td>\n",
       "    </tr>\n",
       "    <tr>\n",
       "      <th>FR</th>\n",
       "      <td>-1.999533</td>\n",
       "      <td>0.005420</td>\n",
       "      <td>50</td>\n",
       "    </tr>\n",
       "    <tr>\n",
       "      <th>ES</th>\n",
       "      <td>-2.193535</td>\n",
       "      <td>0.008022</td>\n",
       "      <td>50</td>\n",
       "    </tr>\n",
       "    <tr>\n",
       "      <th>PTBR</th>\n",
       "      <td>-2.425632</td>\n",
       "      <td>0.010593</td>\n",
       "      <td>50</td>\n",
       "    </tr>\n",
       "  </tbody>\n",
       "</table>\n",
       "</div>"
      ],
      "text/plain": [
       "            mean       std  count\n",
       "region                           \n",
       "ENGB   -1.468537  0.007519     50\n",
       "RU     -1.759796  0.007869     50\n",
       "DE     -1.938634  0.005627     50\n",
       "FR     -1.999533  0.005420     50\n",
       "ES     -2.193535  0.008022     50\n",
       "PTBR   -2.425632  0.010593     50"
      ]
     },
     "metadata": {},
     "output_type": "display_data"
    }
   ],
   "source": [
    "# Get summary for d=1 and sort by mean sigma value\n",
    "summary_sorted = df[df['d']==1].groupby('region')['sigma'].agg(['mean', 'std', 'count']).sort_values('mean', ascending=False)\n",
    "display(summary_sorted)\n"
   ]
  },
  {
   "cell_type": "code",
   "execution_count": 154,
   "id": "2aa59058",
   "metadata": {},
   "outputs": [
    {
     "data": {
      "text/plain": [
       "'finish all analysis'"
      ]
     },
     "execution_count": 154,
     "metadata": {},
     "output_type": "execute_result"
    }
   ],
   "source": [
    "'finish all analysis'"
   ]
  },
  {
   "cell_type": "code",
   "execution_count": null,
   "id": "75049237",
   "metadata": {},
   "outputs": [],
   "source": []
  },
  {
   "cell_type": "code",
   "execution_count": null,
   "id": "1ab0b182",
   "metadata": {},
   "outputs": [],
   "source": []
  }
 ],
 "metadata": {
  "kernelspec": {
   "display_name": "logit_graph",
   "language": "python",
   "name": "python3"
  },
  "language_info": {
   "codemirror_mode": {
    "name": "ipython",
    "version": 3
   },
   "file_extension": ".py",
   "mimetype": "text/x-python",
   "name": "python",
   "nbconvert_exporter": "python",
   "pygments_lexer": "ipython3",
   "version": "3.8.16"
  }
 },
 "nbformat": 4,
 "nbformat_minor": 5
}
